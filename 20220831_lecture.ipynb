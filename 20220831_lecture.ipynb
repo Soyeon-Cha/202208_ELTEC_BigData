{
  "nbformat": 4,
  "nbformat_minor": 0,
  "metadata": {
    "colab": {
      "name": "20220831_이화여자대학교.ipynb",
      "provenance": []
    },
    "kernelspec": {
      "name": "python3",
      "display_name": "Python 3"
    },
    "language_info": {
      "name": "python"
    }
  },
  "cells": [
    {
      "cell_type": "code",
      "execution_count": 4,
      "metadata": {
        "colab": {
          "base_uri": "https://localhost:8080/",
          "height": 283
        },
        "id": "k7w0CDwSaZcA",
        "outputId": "3889c306-0443-492e-e51d-26bf71e46572"
      },
      "outputs": [
        {
          "output_type": "execute_result",
          "data": {
            "text/plain": [
              "<matplotlib.collections.PathCollection at 0x7f1d78a56610>"
            ]
          },
          "metadata": {},
          "execution_count": 4
        },
        {
          "output_type": "display_data",
          "data": {
            "text/plain": [
              "<Figure size 432x288 with 1 Axes>"
            ],
            "image/png": "[encoded data removed]"
          },
          "metadata": {
            "needs_background": "light"
          }
        }
      ],
      "source": [
        "import matplotlib.pyplot as plt\n",
        "import pickle\n",
        "\n",
        "f = open('perch.dat', 'rb')\n",
        "perch = pickle.load(f)\n",
        "f.close()\n",
        "\n",
        "length = perch[0]\n",
        "weight = perch[1]\n",
        "\n",
        "plt.scatter(length, weight)"
      ]
    },
    {
      "cell_type": "code",
      "source": [
        "len(length)"
      ],
      "metadata": {
        "colab": {
          "base_uri": "https://localhost:8080/"
        },
        "id": "xG2e6MsSdCAA",
        "outputId": "0c8f83f4-0748-4b7e-92fa-c77a045d5044"
      },
      "execution_count": 6,
      "outputs": [
        {
          "output_type": "execute_result",
          "data": {
            "text/plain": [
              "56"
            ]
          },
          "metadata": {},
          "execution_count": 6
        }
      ]
    },
    {
      "cell_type": "code",
      "source": [
        "from sklearn.model_selection import train_test_split\n",
        "from sklearn.linear_model import LinearRegression # 선형회귀\n",
        "\n",
        "# K 최근접 이웃 회귀 : 96%\n",
        "\n",
        "length = length.reshape(56, 1)\n",
        "\n",
        "train_input, test_input, train_target, test_target = train_test_split(length, weight, test_size = 0.2)\n",
        "\n",
        "lr = LinearRegression() # 모델 생성\n",
        "lr.fit(train_input, train_target) # 학습 // 선을 찾았다. // 기울기, 절편\n",
        "lr.score(test_input, test_target) # 평가"
      ],
      "metadata": {
        "colab": {
          "base_uri": "https://localhost:8080/"
        },
        "id": "a4A1-HfubO7U",
        "outputId": "d8fb2ff9-fc34-4ffe-d58e-4679e746e1c6"
      },
      "execution_count": 7,
      "outputs": [
        {
          "output_type": "execute_result",
          "data": {
            "text/plain": [
              "0.8966386266832267"
            ]
          },
          "metadata": {},
          "execution_count": 7
        }
      ]
    },
    {
      "cell_type": "code",
      "source": [
        "lr.coef_"
      ],
      "metadata": {
        "colab": {
          "base_uri": "https://localhost:8080/"
        },
        "id": "4vL1Xh9fbdid",
        "outputId": "98f912c3-9221-480e-c649-bbb2dccc2542"
      },
      "execution_count": 8,
      "outputs": [
        {
          "output_type": "execute_result",
          "data": {
            "text/plain": [
              "array([37.85621432])"
            ]
          },
          "metadata": {},
          "execution_count": 8
        }
      ]
    },
    {
      "cell_type": "code",
      "source": [
        "lr.intercept_"
      ],
      "metadata": {
        "colab": {
          "base_uri": "https://localhost:8080/"
        },
        "id": "vh-jeuV3dmFA",
        "outputId": "1b72be0f-7598-4a95-b913-d88333b8cef7"
      },
      "execution_count": 9,
      "outputs": [
        {
          "output_type": "execute_result",
          "data": {
            "text/plain": [
              "-669.205638245734"
            ]
          },
          "metadata": {},
          "execution_count": 9
        }
      ]
    },
    {
      "cell_type": "code",
      "source": [
        "plt.scatter(length, weight)\n",
        "plt.plot(range(10, 46), lr.coef_ * range(10, 46) + lr.intercept_, 'red')"
      ],
      "metadata": {
        "colab": {
          "base_uri": "https://localhost:8080/",
          "height": 283
        },
        "id": "21q7_d-3dsPc",
        "outputId": "5d504b26-45d9-42ad-cb1e-4e423e9f8c7c"
      },
      "execution_count": 10,
      "outputs": [
        {
          "output_type": "execute_result",
          "data": {
            "text/plain": [
              "[<matplotlib.lines.Line2D at 0x7f1d6bd15250>]"
            ]
          },
          "metadata": {},
          "execution_count": 10
        },
        {
          "output_type": "display_data",
          "data": {
            "text/plain": [
              "<Figure size 432x288 with 1 Axes>"
            ],
            "image/png": "[encoded data removed]"
          },
          "metadata": {
            "needs_background": "light"
          }
        }
      ]
    },
    {
      "cell_type": "code",
      "source": [
        "lr.predict([[100]])"
      ],
      "metadata": {
        "colab": {
          "base_uri": "https://localhost:8080/"
        },
        "id": "NEj3SxTrd5i7",
        "outputId": "f0280a74-1c5e-4404-9ac9-f2311c189cef"
      },
      "execution_count": 11,
      "outputs": [
        {
          "output_type": "execute_result",
          "data": {
            "text/plain": [
              "array([3116.41579363])"
            ]
          },
          "metadata": {},
          "execution_count": 11
        }
      ]
    },
    {
      "cell_type": "code",
      "source": [
        "from sklearn.neighbors import KNeighborsClassifier\n",
        "from sklearn.datasets import load_iris\n",
        "import numpy as np\n",
        "\n",
        "iris = load_iris()\n",
        "data, target = iris['data'], iris['target']\n",
        "\n",
        "train_input, test_input, train_target, test_target = train_test_split(data, target, test_size = 0.2)\n",
        "\n",
        "mean = np.mean(train_input, axis = 0)\n",
        "std = np.std(train_input, axis = 0)\n",
        "\n",
        "# 이상치\n",
        "train_scaled = (train_input - mean) / std\n",
        "test_scaled = (test_input - mean) / std\n",
        "\n",
        "knn = KNeighborsClassifier(n_neighbors=3)\n",
        "knn.fit(train_scaled, train_target)\n",
        "knn.score(test_scaled, test_target)"
      ],
      "metadata": {
        "colab": {
          "base_uri": "https://localhost:8080/"
        },
        "id": "z7cfvnnCeOuD",
        "outputId": "1971fd55-c2b1-47cc-ec91-78330f6c926e"
      },
      "execution_count": 19,
      "outputs": [
        {
          "output_type": "execute_result",
          "data": {
            "text/plain": [
              "0.9"
            ]
          },
          "metadata": {},
          "execution_count": 19
        }
      ]
    },
    {
      "cell_type": "code",
      "source": [
        "knn.predict(test_scaled)"
      ],
      "metadata": {
        "colab": {
          "base_uri": "https://localhost:8080/"
        },
        "id": "mmXUG4ISfXbS",
        "outputId": "73abbe03-7e5b-4889-dacc-0f11589781eb"
      },
      "execution_count": 20,
      "outputs": [
        {
          "output_type": "execute_result",
          "data": {
            "text/plain": [
              "array([2, 1, 1, 1, 2, 1, 1, 1, 2, 0, 2, 1, 0, 1, 2, 1, 1, 0, 2, 2, 1, 1,\n",
              "       1, 2, 1, 2, 0, 2, 2, 0])"
            ]
          },
          "metadata": {},
          "execution_count": 20
        }
      ]
    },
    {
      "cell_type": "code",
      "source": [
        "test_target"
      ],
      "metadata": {
        "colab": {
          "base_uri": "https://localhost:8080/"
        },
        "id": "HeYNWGnPfXrN",
        "outputId": "28e65290-c24b-48a1-cbb6-764fe70ff0bf"
      },
      "execution_count": 21,
      "outputs": [
        {
          "output_type": "execute_result",
          "data": {
            "text/plain": [
              "array([2, 1, 1, 1, 1, 2, 1, 1, 2, 0, 2, 1, 0, 2, 2, 1, 1, 0, 2, 2, 1, 1,\n",
              "       1, 2, 1, 2, 0, 2, 2, 0])"
            ]
          },
          "metadata": {},
          "execution_count": 21
        }
      ]
    },
    {
      "cell_type": "code",
      "source": [
        "knn.predict_proba(test_scaled)"
      ],
      "metadata": {
        "colab": {
          "base_uri": "https://localhost:8080/"
        },
        "id": "UlSmBArNhKh0",
        "outputId": "ec10b0bc-81cc-4a6e-869e-56cb95d17bf1"
      },
      "execution_count": 22,
      "outputs": [
        {
          "output_type": "execute_result",
          "data": {
            "text/plain": [
              "array([[0.        , 0.        , 1.        ],\n",
              "       [0.        , 0.66666667, 0.33333333],\n",
              "       [0.        , 1.        , 0.        ],\n",
              "       [0.        , 0.66666667, 0.33333333],\n",
              "       [0.        , 0.        , 1.        ],\n",
              "       [0.        , 0.66666667, 0.33333333],\n",
              "       [0.        , 1.        , 0.        ],\n",
              "       [0.        , 1.        , 0.        ],\n",
              "       [0.        , 0.        , 1.        ],\n",
              "       [1.        , 0.        , 0.        ],\n",
              "       [0.        , 0.33333333, 0.66666667],\n",
              "       [0.        , 1.        , 0.        ],\n",
              "       [1.        , 0.        , 0.        ],\n",
              "       [0.        , 0.66666667, 0.33333333],\n",
              "       [0.        , 0.        , 1.        ],\n",
              "       [0.        , 1.        , 0.        ],\n",
              "       [0.        , 1.        , 0.        ],\n",
              "       [1.        , 0.        , 0.        ],\n",
              "       [0.        , 0.        , 1.        ],\n",
              "       [0.        , 0.33333333, 0.66666667],\n",
              "       [0.        , 0.66666667, 0.33333333],\n",
              "       [0.        , 1.        , 0.        ],\n",
              "       [0.        , 1.        , 0.        ],\n",
              "       [0.        , 0.33333333, 0.66666667],\n",
              "       [0.        , 1.        , 0.        ],\n",
              "       [0.        , 0.33333333, 0.66666667],\n",
              "       [1.        , 0.        , 0.        ],\n",
              "       [0.        , 0.        , 1.        ],\n",
              "       [0.        , 0.        , 1.        ],\n",
              "       [1.        , 0.        , 0.        ]])"
            ]
          },
          "metadata": {},
          "execution_count": 22
        }
      ]
    },
    {
      "cell_type": "code",
      "source": [
        "from sklearn.linear_model import LogisticRegression # 분류\n",
        "\n",
        "lr = LogisticRegression() \n",
        "lr.fit(train_scaled, train_target)\n",
        "lr.score(test_scaled, test_target)"
      ],
      "metadata": {
        "colab": {
          "base_uri": "https://localhost:8080/"
        },
        "id": "1XoieBd2hT9z",
        "outputId": "b131923f-30f6-4f11-a740-8212bde21bc3"
      },
      "execution_count": 23,
      "outputs": [
        {
          "output_type": "execute_result",
          "data": {
            "text/plain": [
              "0.8666666666666667"
            ]
          },
          "metadata": {},
          "execution_count": 23
        }
      ]
    },
    {
      "cell_type": "code",
      "source": [
        "lr.predict_proba(test_scaled)"
      ],
      "metadata": {
        "colab": {
          "base_uri": "https://localhost:8080/"
        },
        "id": "fElveQtZiFbP",
        "outputId": "35fa3244-b8c3-47d9-9cc0-a99738b448c7"
      },
      "execution_count": 24,
      "outputs": [
        {
          "output_type": "execute_result",
          "data": {
            "text/plain": [
              "array([[9.11316167e-05, 5.48771820e-02, 9.45031686e-01],\n",
              "       [1.62899518e-03, 4.49206797e-01, 5.49164208e-01],\n",
              "       [4.82877260e-03, 9.66331617e-01, 2.88396101e-02],\n",
              "       [1.14844686e-02, 7.78244122e-01, 2.10271409e-01],\n",
              "       [2.32890023e-03, 4.57587876e-01, 5.40083224e-01],\n",
              "       [1.21452545e-03, 5.16376243e-01, 4.82409231e-01],\n",
              "       [1.35997163e-02, 3.88179139e-01, 5.98221145e-01],\n",
              "       [1.16161985e-02, 8.87047334e-01, 1.01336467e-01],\n",
              "       [9.77189332e-04, 1.81192464e-01, 8.17830347e-01],\n",
              "       [9.82517539e-01, 1.74820443e-02, 4.16461855e-07],\n",
              "       [3.88743806e-03, 3.48033958e-01, 6.48078604e-01],\n",
              "       [1.42437747e-02, 7.38954513e-01, 2.46801712e-01],\n",
              "       [9.73356409e-01, 2.66425780e-02, 1.01316557e-06],\n",
              "       [5.49635825e-03, 3.71066367e-01, 6.23437275e-01],\n",
              "       [2.34482971e-05, 1.04433858e-01, 8.95542694e-01],\n",
              "       [1.74544007e-02, 8.88321902e-01, 9.42236973e-02],\n",
              "       [2.26955912e-02, 8.86080120e-01, 9.12242893e-02],\n",
              "       [9.53875239e-01, 4.61237887e-02, 9.72311720e-07],\n",
              "       [2.32799655e-06, 2.38597072e-02, 9.76137965e-01],\n",
              "       [2.57431390e-04, 3.44860897e-01, 6.54881671e-01],\n",
              "       [2.02628182e-02, 6.50584760e-01, 3.29152421e-01],\n",
              "       [5.02186302e-02, 9.36676708e-01, 1.31046614e-02],\n",
              "       [1.20418353e-02, 8.96198033e-01, 9.17601322e-02],\n",
              "       [2.30825457e-04, 1.97402407e-01, 8.02366768e-01],\n",
              "       [8.07580501e-02, 9.06065829e-01, 1.31761211e-02],\n",
              "       [3.91601263e-03, 2.88319243e-01, 7.07764744e-01],\n",
              "       [9.43450329e-01, 5.65468237e-02, 2.84721471e-06],\n",
              "       [1.58986926e-05, 9.86545111e-03, 9.90118650e-01],\n",
              "       [1.21748076e-05, 8.48987511e-02, 9.15089074e-01],\n",
              "       [9.67614497e-01, 3.23847813e-02, 7.21267796e-07]])"
            ]
          },
          "metadata": {},
          "execution_count": 24
        }
      ]
    },
    {
      "cell_type": "code",
      "source": [
        "# 트리기반 : 성능 굿 // 표준화가 필요가 없다. // 데이터의 설명력 가실 수 있다.\n",
        "# 결정트리 : 스무고개\n",
        "\n",
        "from sklearn.tree import DecisionTreeClassifier\n",
        "\n",
        "iris = load_iris()\n",
        "data, target = iris['data'], iris['target']\n",
        "\n",
        "train_input, test_input, train_target, test_target = train_test_split(data, target, test_size = 0.2)\n",
        "\n",
        "dt = DecisionTreeClassifier()\n",
        "dt.fit(train_input, train_target)\n",
        "dt.score(test_input, test_target)"
      ],
      "metadata": {
        "colab": {
          "base_uri": "https://localhost:8080/"
        },
        "id": "R1cg2iINiXHv",
        "outputId": "14922e17-fbd5-4c2c-adc2-6cb72d2b30d9"
      },
      "execution_count": 25,
      "outputs": [
        {
          "output_type": "execute_result",
          "data": {
            "text/plain": [
              "1.0"
            ]
          },
          "metadata": {},
          "execution_count": 25
        }
      ]
    },
    {
      "cell_type": "code",
      "source": [
        "from sklearn.tree import plot_tree\n",
        "\n",
        "plt.figure(figsize = (20, 20))\n",
        "plot_tree(dt, feature_names=iris['feature_names'], filled=True)"
      ],
      "metadata": {
        "colab": {
          "base_uri": "https://localhost:8080/",
          "height": 1000
        },
        "id": "-HNdJNd4jnLU",
        "outputId": "b20c36b9-0672-4852-c77c-b5f2401bc9e1"
      },
      "execution_count": 29,
      "outputs": [
        {
          "output_type": "execute_result",
          "data": {
            "text/plain": [
              "[Text(0.36363636363636365, 0.9285714285714286, 'petal length (cm) <= 2.45\\ngini = 0.665\\nsamples = 120\\nvalue = [43, 40, 37]'),\n",
              " Text(0.2727272727272727, 0.7857142857142857, 'gini = 0.0\\nsamples = 43\\nvalue = [43, 0, 0]'),\n",
              " Text(0.45454545454545453, 0.7857142857142857, 'petal length (cm) <= 4.85\\ngini = 0.499\\nsamples = 77\\nvalue = [0, 40, 37]'),\n",
              " Text(0.18181818181818182, 0.6428571428571429, 'petal width (cm) <= 1.7\\ngini = 0.053\\nsamples = 37\\nvalue = [0, 36, 1]'),\n",
              " Text(0.09090909090909091, 0.5, 'gini = 0.0\\nsamples = 35\\nvalue = [0, 35, 0]'),\n",
              " Text(0.2727272727272727, 0.5, 'sepal width (cm) <= 3.0\\ngini = 0.5\\nsamples = 2\\nvalue = [0, 1, 1]'),\n",
              " Text(0.18181818181818182, 0.35714285714285715, 'gini = 0.0\\nsamples = 1\\nvalue = [0, 0, 1]'),\n",
              " Text(0.36363636363636365, 0.35714285714285715, 'gini = 0.0\\nsamples = 1\\nvalue = [0, 1, 0]'),\n",
              " Text(0.7272727272727273, 0.6428571428571429, 'petal width (cm) <= 1.75\\ngini = 0.18\\nsamples = 40\\nvalue = [0, 4, 36]'),\n",
              " Text(0.6363636363636364, 0.5, 'petal length (cm) <= 4.95\\ngini = 0.5\\nsamples = 8\\nvalue = [0, 4, 4]'),\n",
              " Text(0.5454545454545454, 0.35714285714285715, 'gini = 0.0\\nsamples = 2\\nvalue = [0, 2, 0]'),\n",
              " Text(0.7272727272727273, 0.35714285714285715, 'petal width (cm) <= 1.55\\ngini = 0.444\\nsamples = 6\\nvalue = [0, 2, 4]'),\n",
              " Text(0.6363636363636364, 0.21428571428571427, 'gini = 0.0\\nsamples = 3\\nvalue = [0, 0, 3]'),\n",
              " Text(0.8181818181818182, 0.21428571428571427, 'sepal length (cm) <= 6.95\\ngini = 0.444\\nsamples = 3\\nvalue = [0, 2, 1]'),\n",
              " Text(0.7272727272727273, 0.07142857142857142, 'gini = 0.0\\nsamples = 2\\nvalue = [0, 2, 0]'),\n",
              " Text(0.9090909090909091, 0.07142857142857142, 'gini = 0.0\\nsamples = 1\\nvalue = [0, 0, 1]'),\n",
              " Text(0.8181818181818182, 0.5, 'gini = 0.0\\nsamples = 32\\nvalue = [0, 0, 32]')]"
            ]
          },
          "metadata": {},
          "execution_count": 29
        },
        {
          "output_type": "display_data",
          "data": {
            "text/plain": [
              "<Figure size 1440x1440 with 1 Axes>"
            ],
            "image/png": "[encoded data removed]"
          },
          "metadata": {
            "needs_background": "light"
          }
        }
      ]
    },
    {
      "cell_type": "code",
      "source": [
        "# 선형 회귀, 결정 트리 // 과하게 학습 // 과대적합"
      ],
      "metadata": {
        "id": "txrRcReZkiBd"
      },
      "execution_count": null,
      "outputs": []
    },
    {
      "cell_type": "code",
      "source": [
        "import pandas as pd\n",
        "\n",
        "wine = pd.read_csv(\"https://bit.ly/wine-date\")\n",
        "# 0이면 레드와인, 1이면 화이트와인\n",
        "data = wine.iloc[:, :-1].to_numpy()\n",
        "target = wine.iloc[:, -1].to_numpy()"
      ],
      "metadata": {
        "id": "nihckiRqmljO"
      },
      "execution_count": 32,
      "outputs": []
    },
    {
      "cell_type": "code",
      "source": [
        "train_input, test_input, train_target, test_target = train_test_split(data, target, test_size = 0.2)"
      ],
      "metadata": {
        "id": "2moueG8dmtUB"
      },
      "execution_count": 33,
      "outputs": []
    },
    {
      "cell_type": "code",
      "source": [
        "dt = DecisionTreeClassifier(max_depth = 5)\n",
        "dt.fit(train_input, train_target)\n",
        "dt.score(test_input, test_target)"
      ],
      "metadata": {
        "colab": {
          "base_uri": "https://localhost:8080/"
        },
        "id": "HB_LWe1JnPOU",
        "outputId": "4a048e67-c06d-4777-b8e0-fc9b0e476de8"
      },
      "execution_count": 37,
      "outputs": [
        {
          "output_type": "execute_result",
          "data": {
            "text/plain": [
              "0.8730769230769231"
            ]
          },
          "metadata": {},
          "execution_count": 37
        }
      ]
    },
    {
      "cell_type": "code",
      "source": [
        "plot_tree(dt)"
      ],
      "metadata": {
        "colab": {
          "base_uri": "https://localhost:8080/",
          "height": 1000
        },
        "id": "d-3WDXs_nUTJ",
        "outputId": "be6e5b6b-2ec8-4f7e-dc28-794447c83c8f"
      },
      "execution_count": 36,
      "outputs": [
        {
          "output_type": "execute_result",
          "data": {
            "text/plain": [
              "[Text(0.5903162323750893, 0.9791666666666666, 'X[1] <= 4.05\\ngini = 0.37\\nsamples = 5197\\nvalue = [1272, 3925]'),\n",
              " Text(0.27861132603012156, 0.9375, 'X[1] <= 1.625\\ngini = 0.484\\nsamples = 2835\\nvalue = [1164, 1671]'),\n",
              " Text(0.05396965498748659, 0.8958333333333334, 'X[1] <= 1.375\\ngini = 0.191\\nsamples = 1028\\nvalue = [110, 918]'),\n",
              " Text(0.007150518412584912, 0.8541666666666666, 'X[2] <= 3.85\\ngini = 0.045\\nsamples = 522\\nvalue = [12, 510]'),\n",
              " Text(0.00572041473006793, 0.8125, 'X[2] <= 2.895\\ngini = 0.034\\nsamples = 519\\nvalue = [9, 510]'),\n",
              " Text(0.002860207365033965, 0.7708333333333334, 'X[0] <= 12.35\\ngini = 0.375\\nsamples = 8\\nvalue = [2, 6]'),\n",
              " Text(0.0014301036825169824, 0.7291666666666666, 'gini = 0.0\\nsamples = 6\\nvalue = [0, 6]'),\n",
              " Text(0.004290311047550947, 0.7291666666666666, 'gini = 0.0\\nsamples = 2\\nvalue = [2, 0]'),\n",
              " Text(0.008580622095101895, 0.7708333333333334, 'X[2] <= 3.195\\ngini = 0.027\\nsamples = 511\\nvalue = [7, 504]'),\n",
              " Text(0.007150518412584912, 0.7291666666666666, 'gini = 0.0\\nsamples = 268\\nvalue = [0, 268]'),\n",
              " Text(0.010010725777618877, 0.7291666666666666, 'X[2] <= 3.205\\ngini = 0.056\\nsamples = 243\\nvalue = [7, 236]'),\n",
              " Text(0.007150518412584912, 0.6875, 'X[0] <= 11.1\\ngini = 0.278\\nsamples = 12\\nvalue = [2, 10]'),\n",
              " Text(0.00572041473006793, 0.6458333333333334, 'X[0] <= 10.75\\ngini = 0.408\\nsamples = 7\\nvalue = [2, 5]'),\n",
              " Text(0.004290311047550947, 0.6041666666666666, 'X[0] <= 9.9\\ngini = 0.278\\nsamples = 6\\nvalue = [1, 5]'),\n",
              " Text(0.002860207365033965, 0.5625, 'X[0] <= 9.6\\ngini = 0.444\\nsamples = 3\\nvalue = [1, 2]'),\n",
              " Text(0.0014301036825169824, 0.5208333333333334, 'gini = 0.0\\nsamples = 2\\nvalue = [0, 2]'),\n",
              " Text(0.004290311047550947, 0.5208333333333334, 'gini = 0.0\\nsamples = 1\\nvalue = [1, 0]'),\n",
              " Text(0.00572041473006793, 0.5625, 'gini = 0.0\\nsamples = 3\\nvalue = [0, 3]'),\n",
              " Text(0.007150518412584912, 0.6041666666666666, 'gini = 0.0\\nsamples = 1\\nvalue = [1, 0]'),\n",
              " Text(0.008580622095101895, 0.6458333333333334, 'gini = 0.0\\nsamples = 5\\nvalue = [0, 5]'),\n",
              " Text(0.012870933142652842, 0.6875, 'X[1] <= 1.175\\ngini = 0.042\\nsamples = 231\\nvalue = [5, 226]'),\n",
              " Text(0.01144082946013586, 0.6458333333333334, 'gini = 0.0\\nsamples = 107\\nvalue = [0, 107]'),\n",
              " Text(0.014301036825169824, 0.6458333333333334, 'X[0] <= 9.35\\ngini = 0.077\\nsamples = 124\\nvalue = [5, 119]'),\n",
              " Text(0.010368251698248123, 0.6041666666666666, 'X[0] <= 9.25\\ngini = 0.444\\nsamples = 3\\nvalue = [1, 2]'),\n",
              " Text(0.00893814801573114, 0.5625, 'gini = 0.0\\nsamples = 2\\nvalue = [0, 2]'),\n",
              " Text(0.011798355380765105, 0.5625, 'gini = 0.0\\nsamples = 1\\nvalue = [1, 0]'),\n",
              " Text(0.018233821952091528, 0.6041666666666666, 'X[0] <= 12.9\\ngini = 0.064\\nsamples = 121\\nvalue = [4, 117]'),\n",
              " Text(0.01465856274579907, 0.5625, 'X[0] <= 10.05\\ngini = 0.05\\nsamples = 116\\nvalue = [3, 113]'),\n",
              " Text(0.011798355380765105, 0.5208333333333334, 'X[2] <= 3.315\\ngini = 0.147\\nsamples = 25\\nvalue = [2, 23]'),\n",
              " Text(0.010368251698248123, 0.4791666666666667, 'gini = 0.0\\nsamples = 15\\nvalue = [0, 15]'),\n",
              " Text(0.013228459063282088, 0.4791666666666667, 'X[1] <= 1.25\\ngini = 0.32\\nsamples = 10\\nvalue = [2, 8]'),\n",
              " Text(0.011798355380765105, 0.4375, 'X[2] <= 3.34\\ngini = 0.444\\nsamples = 6\\nvalue = [2, 4]'),\n",
              " Text(0.010368251698248123, 0.3958333333333333, 'gini = 0.0\\nsamples = 1\\nvalue = [1, 0]'),\n",
              " Text(0.013228459063282088, 0.3958333333333333, 'X[0] <= 9.95\\ngini = 0.32\\nsamples = 5\\nvalue = [1, 4]'),\n",
              " Text(0.011798355380765105, 0.3541666666666667, 'gini = 0.0\\nsamples = 3\\nvalue = [0, 3]'),\n",
              " Text(0.01465856274579907, 0.3541666666666667, 'X[2] <= 3.445\\ngini = 0.5\\nsamples = 2\\nvalue = [1, 1]'),\n",
              " Text(0.013228459063282088, 0.3125, 'gini = 0.0\\nsamples = 1\\nvalue = [1, 0]'),\n",
              " Text(0.016088666428316054, 0.3125, 'gini = 0.0\\nsamples = 1\\nvalue = [0, 1]'),\n",
              " Text(0.01465856274579907, 0.4375, 'gini = 0.0\\nsamples = 4\\nvalue = [0, 4]'),\n",
              " Text(0.017518770110833037, 0.5208333333333334, 'X[0] <= 11.45\\ngini = 0.022\\nsamples = 91\\nvalue = [1, 90]'),\n",
              " Text(0.016088666428316054, 0.4791666666666667, 'gini = 0.0\\nsamples = 65\\nvalue = [0, 65]'),\n",
              " Text(0.01894887379335002, 0.4791666666666667, 'X[0] <= 11.525\\ngini = 0.074\\nsamples = 26\\nvalue = [1, 25]'),\n",
              " Text(0.017518770110833037, 0.4375, 'X[2] <= 3.335\\ngini = 0.375\\nsamples = 4\\nvalue = [1, 3]'),\n",
              " Text(0.016088666428316054, 0.3958333333333333, 'gini = 0.0\\nsamples = 1\\nvalue = [1, 0]'),\n",
              " Text(0.01894887379335002, 0.3958333333333333, 'gini = 0.0\\nsamples = 3\\nvalue = [0, 3]'),\n",
              " Text(0.020378977475867, 0.4375, 'gini = 0.0\\nsamples = 22\\nvalue = [0, 22]'),\n",
              " Text(0.021809081158383984, 0.5625, 'X[0] <= 13.25\\ngini = 0.32\\nsamples = 5\\nvalue = [1, 4]'),\n",
              " Text(0.020378977475867, 0.5208333333333334, 'gini = 0.0\\nsamples = 1\\nvalue = [1, 0]'),\n",
              " Text(0.023239184840900966, 0.5208333333333334, 'gini = 0.0\\nsamples = 4\\nvalue = [0, 4]'),\n",
              " Text(0.008580622095101895, 0.8125, 'gini = 0.0\\nsamples = 3\\nvalue = [3, 0]'),\n",
              " Text(0.10078879156238828, 0.8541666666666666, 'X[0] <= 10.067\\ngini = 0.312\\nsamples = 506\\nvalue = [98, 408]'),\n",
              " Text(0.061136932427601, 0.8125, 'X[2] <= 3.305\\ngini = 0.468\\nsamples = 166\\nvalue = [62, 104]'),\n",
              " Text(0.04254558455488023, 0.7708333333333334, 'X[0] <= 10.017\\ngini = 0.392\\nsamples = 116\\nvalue = [31, 85]'),\n",
              " Text(0.04111548087236325, 0.7291666666666666, 'X[1] <= 1.475\\ngini = 0.379\\nsamples = 114\\nvalue = [29, 85]'),\n",
              " Text(0.03038970325348588, 0.6875, 'X[2] <= 2.885\\ngini = 0.249\\nsamples = 48\\nvalue = [7, 41]'),\n",
              " Text(0.028959599570968896, 0.6458333333333334, 'gini = 0.0\\nsamples = 1\\nvalue = [1, 0]'),\n",
              " Text(0.03181980693600286, 0.6458333333333334, 'X[2] <= 3.25\\ngini = 0.223\\nsamples = 47\\nvalue = [6, 41]'),\n",
              " Text(0.028959599570968896, 0.6041666666666666, 'X[2] <= 3.125\\ngini = 0.139\\nsamples = 40\\nvalue = [3, 37]'),\n",
              " Text(0.027529495888451914, 0.5625, 'X[0] <= 9.9\\ngini = 0.305\\nsamples = 16\\nvalue = [3, 13]'),\n",
              " Text(0.02609939220593493, 0.5208333333333334, 'X[0] <= 9.25\\ngini = 0.231\\nsamples = 15\\nvalue = [2, 13]'),\n",
              " Text(0.02466928852341795, 0.4791666666666667, 'X[0] <= 9.05\\ngini = 0.48\\nsamples = 5\\nvalue = [2, 3]'),\n",
              " Text(0.023239184840900966, 0.4375, 'gini = 0.0\\nsamples = 3\\nvalue = [0, 3]'),\n",
              " Text(0.02609939220593493, 0.4375, 'gini = 0.0\\nsamples = 2\\nvalue = [2, 0]'),\n",
              " Text(0.027529495888451914, 0.4791666666666667, 'gini = 0.0\\nsamples = 10\\nvalue = [0, 10]'),\n",
              " Text(0.028959599570968896, 0.5208333333333334, 'gini = 0.0\\nsamples = 1\\nvalue = [1, 0]'),\n",
              " Text(0.03038970325348588, 0.5625, 'gini = 0.0\\nsamples = 24\\nvalue = [0, 24]'),\n",
              " Text(0.03468001430103682, 0.6041666666666666, 'X[0] <= 9.55\\ngini = 0.49\\nsamples = 7\\nvalue = [3, 4]'),\n",
              " Text(0.03324991061851984, 0.5625, 'gini = 0.0\\nsamples = 3\\nvalue = [0, 3]'),\n",
              " Text(0.036110117983553805, 0.5625, 'X[0] <= 9.85\\ngini = 0.375\\nsamples = 4\\nvalue = [3, 1]'),\n",
              " Text(0.03468001430103682, 0.5208333333333334, 'gini = 0.0\\nsamples = 3\\nvalue = [3, 0]'),\n",
              " Text(0.03754022166607079, 0.5208333333333334, 'gini = 0.0\\nsamples = 1\\nvalue = [0, 1]'),\n",
              " Text(0.05184125849124061, 0.6875, 'X[2] <= 3.145\\ngini = 0.444\\nsamples = 66\\nvalue = [22, 44]'),\n",
              " Text(0.04612084376117268, 0.6458333333333334, 'X[0] <= 9.85\\ngini = 0.269\\nsamples = 25\\nvalue = [4, 21]'),\n",
              " Text(0.04326063639613872, 0.6041666666666666, 'X[0] <= 9.35\\ngini = 0.18\\nsamples = 20\\nvalue = [2, 18]'),\n",
              " Text(0.041830532713621735, 0.5625, 'X[0] <= 9.25\\ngini = 0.375\\nsamples = 8\\nvalue = [2, 6]'),\n",
              " Text(0.04040042903110475, 0.5208333333333334, 'gini = 0.0\\nsamples = 3\\nvalue = [0, 3]'),\n",
              " Text(0.04326063639613872, 0.5208333333333334, 'X[2] <= 3.065\\ngini = 0.48\\nsamples = 5\\nvalue = [2, 3]'),\n",
              " Text(0.041830532713621735, 0.4791666666666667, 'gini = 0.0\\nsamples = 1\\nvalue = [0, 1]'),\n",
              " Text(0.0446907400786557, 0.4791666666666667, 'X[1] <= 1.55\\ngini = 0.5\\nsamples = 4\\nvalue = [2, 2]'),\n",
              " Text(0.04326063639613872, 0.4375, 'gini = 0.0\\nsamples = 1\\nvalue = [1, 0]'),\n",
              " Text(0.04612084376117268, 0.4375, 'gini = 0.444\\nsamples = 3\\nvalue = [1, 2]'),\n",
              " Text(0.0446907400786557, 0.5625, 'gini = 0.0\\nsamples = 12\\nvalue = [0, 12]'),\n",
              " Text(0.04898105112620665, 0.6041666666666666, 'X[2] <= 3.05\\ngini = 0.48\\nsamples = 5\\nvalue = [2, 3]'),\n",
              " Text(0.047550947443689665, 0.5625, 'gini = 0.0\\nsamples = 2\\nvalue = [2, 0]'),\n",
              " Text(0.05041115480872363, 0.5625, 'gini = 0.0\\nsamples = 3\\nvalue = [0, 3]'),\n",
              " Text(0.05756167322130854, 0.6458333333333334, 'X[2] <= 3.175\\ngini = 0.493\\nsamples = 41\\nvalue = [18, 23]'),\n",
              " Text(0.05470146585627458, 0.6041666666666666, 'X[0] <= 9.95\\ngini = 0.18\\nsamples = 10\\nvalue = [9, 1]'),\n",
              " Text(0.053271362173757594, 0.5625, 'gini = 0.0\\nsamples = 9\\nvalue = [9, 0]'),\n",
              " Text(0.05613156953879156, 0.5625, 'gini = 0.0\\nsamples = 1\\nvalue = [0, 1]'),\n",
              " Text(0.060421880586342507, 0.6041666666666666, 'X[0] <= 9.95\\ngini = 0.412\\nsamples = 31\\nvalue = [9, 22]'),\n",
              " Text(0.058991776903825524, 0.5625, 'X[0] <= 9.45\\ngini = 0.366\\nsamples = 29\\nvalue = [7, 22]'),\n",
              " Text(0.05613156953879156, 0.5208333333333334, 'X[2] <= 3.245\\ngini = 0.486\\nsamples = 12\\nvalue = [5, 7]'),\n",
              " Text(0.05470146585627458, 0.4791666666666667, 'X[2] <= 3.205\\ngini = 0.346\\nsamples = 9\\nvalue = [2, 7]'),\n",
              " Text(0.053271362173757594, 0.4375, 'X[2] <= 3.195\\ngini = 0.444\\nsamples = 3\\nvalue = [2, 1]'),\n",
              " Text(0.05184125849124061, 0.3958333333333333, 'gini = 0.0\\nsamples = 1\\nvalue = [0, 1]'),\n",
              " Text(0.05470146585627458, 0.3958333333333333, 'gini = 0.0\\nsamples = 2\\nvalue = [2, 0]'),\n",
              " Text(0.05613156953879156, 0.4375, 'gini = 0.0\\nsamples = 6\\nvalue = [0, 6]'),\n",
              " Text(0.05756167322130854, 0.4791666666666667, 'gini = 0.0\\nsamples = 3\\nvalue = [3, 0]'),\n",
              " Text(0.06185198426885949, 0.5208333333333334, 'X[2] <= 3.25\\ngini = 0.208\\nsamples = 17\\nvalue = [2, 15]'),\n",
              " Text(0.060421880586342507, 0.4791666666666667, 'gini = 0.0\\nsamples = 6\\nvalue = [0, 6]'),\n",
              " Text(0.06328208795137648, 0.4791666666666667, 'X[2] <= 3.275\\ngini = 0.298\\nsamples = 11\\nvalue = [2, 9]'),\n",
              " Text(0.06185198426885949, 0.4375, 'gini = 0.0\\nsamples = 1\\nvalue = [1, 0]'),\n",
              " Text(0.06471219163389345, 0.4375, 'X[0] <= 9.65\\ngini = 0.18\\nsamples = 10\\nvalue = [1, 9]'),\n",
              " Text(0.06328208795137648, 0.3958333333333333, 'gini = 0.0\\nsamples = 8\\nvalue = [0, 8]'),\n",
              " Text(0.06614229531641044, 0.3958333333333333, 'X[0] <= 9.8\\ngini = 0.5\\nsamples = 2\\nvalue = [1, 1]'),\n",
              " Text(0.06471219163389345, 0.3541666666666667, 'gini = 0.0\\nsamples = 1\\nvalue = [1, 0]'),\n",
              " Text(0.06757239899892742, 0.3541666666666667, 'gini = 0.0\\nsamples = 1\\nvalue = [0, 1]'),\n",
              " Text(0.06185198426885949, 0.5625, 'gini = 0.0\\nsamples = 2\\nvalue = [2, 0]'),\n",
              " Text(0.04397568823739721, 0.7291666666666666, 'gini = 0.0\\nsamples = 2\\nvalue = [2, 0]'),\n",
              " Text(0.07972828030032178, 0.7708333333333334, 'X[0] <= 9.65\\ngini = 0.471\\nsamples = 50\\nvalue = [31, 19]'),\n",
              " Text(0.07472291741151234, 0.7291666666666666, 'X[1] <= 1.575\\ngini = 0.375\\nsamples = 32\\nvalue = [24, 8]'),\n",
              " Text(0.07043260636396138, 0.6875, 'X[2] <= 3.345\\ngini = 0.475\\nsamples = 18\\nvalue = [11, 7]'),\n",
              " Text(0.06614229531641044, 0.6458333333333334, 'X[0] <= 9.35\\ngini = 0.494\\nsamples = 9\\nvalue = [4, 5]'),\n",
              " Text(0.06471219163389345, 0.6041666666666666, 'gini = 0.0\\nsamples = 2\\nvalue = [2, 0]'),\n",
              " Text(0.06757239899892742, 0.6041666666666666, 'X[2] <= 3.325\\ngini = 0.408\\nsamples = 7\\nvalue = [2, 5]'),\n",
              " Text(0.06614229531641044, 0.5625, 'X[1] <= 1.45\\ngini = 0.444\\nsamples = 3\\nvalue = [2, 1]'),\n",
              " Text(0.06471219163389345, 0.5208333333333334, 'gini = 0.0\\nsamples = 2\\nvalue = [2, 0]'),\n",
              " Text(0.06757239899892742, 0.5208333333333334, 'gini = 0.0\\nsamples = 1\\nvalue = [0, 1]'),\n",
              " Text(0.06900250268144441, 0.5625, 'gini = 0.0\\nsamples = 4\\nvalue = [0, 4]'),\n",
              " Text(0.07472291741151234, 0.6458333333333334, 'X[0] <= 9.45\\ngini = 0.346\\nsamples = 9\\nvalue = [7, 2]'),\n",
              " Text(0.07329281372899535, 0.6041666666666666, 'X[0] <= 9.25\\ngini = 0.444\\nsamples = 3\\nvalue = [1, 2]'),\n",
              " Text(0.07186271004647837, 0.5625, 'gini = 0.0\\nsamples = 1\\nvalue = [0, 1]'),\n",
              " Text(0.07472291741151234, 0.5625, 'X[1] <= 1.525\\ngini = 0.5\\nsamples = 2\\nvalue = [1, 1]'),\n",
              " Text(0.07329281372899535, 0.5208333333333334, 'gini = 0.0\\nsamples = 1\\nvalue = [1, 0]'),\n",
              " Text(0.07615302109402931, 0.5208333333333334, 'gini = 0.0\\nsamples = 1\\nvalue = [0, 1]'),\n",
              " Text(0.07615302109402931, 0.6041666666666666, 'gini = 0.0\\nsamples = 6\\nvalue = [6, 0]'),\n",
              " Text(0.07901322845906328, 0.6875, 'X[2] <= 3.605\\ngini = 0.133\\nsamples = 14\\nvalue = [13, 1]'),\n",
              " Text(0.0775831247765463, 0.6458333333333334, 'gini = 0.0\\nsamples = 13\\nvalue = [13, 0]'),\n",
              " Text(0.08044333214158027, 0.6458333333333334, 'gini = 0.0\\nsamples = 1\\nvalue = [0, 1]'),\n",
              " Text(0.08473364318913121, 0.7291666666666666, 'X[0] <= 9.75\\ngini = 0.475\\nsamples = 18\\nvalue = [7, 11]'),\n",
              " Text(0.08330353950661423, 0.6875, 'gini = 0.0\\nsamples = 4\\nvalue = [0, 4]'),\n",
              " Text(0.0861637468716482, 0.6875, 'X[0] <= 9.95\\ngini = 0.5\\nsamples = 14\\nvalue = [7, 7]'),\n",
              " Text(0.08330353950661423, 0.6458333333333334, 'X[2] <= 3.455\\ngini = 0.408\\nsamples = 7\\nvalue = [5, 2]'),\n",
              " Text(0.08187343582409724, 0.6041666666666666, 'X[1] <= 1.55\\ngini = 0.5\\nsamples = 4\\nvalue = [2, 2]'),\n",
              " Text(0.08044333214158027, 0.5625, 'X[0] <= 9.85\\ngini = 0.444\\nsamples = 3\\nvalue = [1, 2]'),\n",
              " Text(0.07901322845906328, 0.5208333333333334, 'gini = 0.0\\nsamples = 1\\nvalue = [0, 1]'),\n",
              " Text(0.08187343582409724, 0.5208333333333334, 'X[2] <= 3.395\\ngini = 0.5\\nsamples = 2\\nvalue = [1, 1]'),\n",
              " Text(0.08044333214158027, 0.4791666666666667, 'gini = 0.0\\nsamples = 1\\nvalue = [1, 0]'),\n",
              " Text(0.08330353950661423, 0.4791666666666667, 'gini = 0.0\\nsamples = 1\\nvalue = [0, 1]'),\n",
              " Text(0.08330353950661423, 0.5625, 'gini = 0.0\\nsamples = 1\\nvalue = [1, 0]'),\n",
              " Text(0.08473364318913121, 0.6041666666666666, 'gini = 0.0\\nsamples = 3\\nvalue = [3, 0]'),\n",
              " Text(0.08902395423668216, 0.6458333333333334, 'X[2] <= 3.375\\ngini = 0.408\\nsamples = 7\\nvalue = [2, 5]'),\n",
              " Text(0.08759385055416517, 0.6041666666666666, 'gini = 0.0\\nsamples = 2\\nvalue = [0, 2]'),\n",
              " Text(0.09045405791919914, 0.6041666666666666, 'X[2] <= 3.455\\ngini = 0.48\\nsamples = 5\\nvalue = [2, 3]'),\n",
              " Text(0.08902395423668216, 0.5625, 'X[1] <= 1.45\\ngini = 0.444\\nsamples = 3\\nvalue = [2, 1]'),\n",
              " Text(0.08759385055416517, 0.5208333333333334, 'gini = 0.0\\nsamples = 1\\nvalue = [1, 0]'),\n",
              " Text(0.09045405791919914, 0.5208333333333334, 'X[1] <= 1.55\\ngini = 0.5\\nsamples = 2\\nvalue = [1, 1]'),\n",
              " Text(0.08902395423668216, 0.4791666666666667, 'gini = 0.0\\nsamples = 1\\nvalue = [0, 1]'),\n",
              " Text(0.09188416160171613, 0.4791666666666667, 'gini = 0.0\\nsamples = 1\\nvalue = [1, 0]'),\n",
              " Text(0.09188416160171613, 0.5625, 'gini = 0.0\\nsamples = 2\\nvalue = [0, 2]'),\n",
              " Text(0.14044065069717554, 0.8125, 'X[2] <= 3.6\\ngini = 0.189\\nsamples = 340\\nvalue = [36, 304]'),\n",
              " Text(0.12607257776188774, 0.7708333333333334, 'X[2] <= 3.445\\ngini = 0.165\\nsamples = 331\\nvalue = [30, 301]'),\n",
              " Text(0.10949231319270647, 0.7291666666666666, 'X[0] <= 11.95\\ngini = 0.137\\nsamples = 298\\nvalue = [22, 276]'),\n",
              " Text(0.1080622095101895, 0.6875, 'X[2] <= 3.125\\ngini = 0.176\\nsamples = 226\\nvalue = [22, 204]'),\n",
              " Text(0.1066321058276725, 0.6458333333333334, 'gini = 0.0\\nsamples = 48\\nvalue = [0, 48]'),\n",
              " Text(0.10949231319270647, 0.6458333333333334, 'X[2] <= 3.145\\ngini = 0.217\\nsamples = 178\\nvalue = [22, 156]'),\n",
              " Text(0.09617447264926707, 0.6041666666666666, 'X[0] <= 10.25\\ngini = 0.5\\nsamples = 6\\nvalue = [3, 3]'),\n",
              " Text(0.09474436896675009, 0.5625, 'gini = 0.0\\nsamples = 1\\nvalue = [0, 1]'),\n",
              " Text(0.09760457633178406, 0.5625, 'X[1] <= 1.45\\ngini = 0.48\\nsamples = 5\\nvalue = [3, 2]'),\n",
              " Text(0.09617447264926707, 0.5208333333333334, 'gini = 0.0\\nsamples = 2\\nvalue = [2, 0]'),\n",
              " Text(0.09903468001430103, 0.5208333333333334, 'X[2] <= 3.135\\ngini = 0.444\\nsamples = 3\\nvalue = [1, 2]'),\n",
              " Text(0.09760457633178406, 0.4791666666666667, 'gini = 0.0\\nsamples = 2\\nvalue = [0, 2]'),\n",
              " Text(0.10046478369681802, 0.4791666666666667, 'gini = 0.0\\nsamples = 1\\nvalue = [1, 0]'),\n",
              " Text(0.12281015373614587, 0.6041666666666666, 'X[0] <= 11.75\\ngini = 0.197\\nsamples = 172\\nvalue = [19, 153]'),\n",
              " Text(0.11083303539506614, 0.5625, 'X[2] <= 3.175\\ngini = 0.177\\nsamples = 163\\nvalue = [16, 147]'),\n",
              " Text(0.10940293171254915, 0.5208333333333334, 'gini = 0.0\\nsamples = 13\\nvalue = [0, 13]'),\n",
              " Text(0.11226313907758312, 0.5208333333333334, 'X[0] <= 10.35\\ngini = 0.191\\nsamples = 150\\nvalue = [16, 134]'),\n",
              " Text(0.10332499106185199, 0.4791666666666667, 'X[0] <= 10.25\\ngini = 0.298\\nsamples = 22\\nvalue = [4, 18]'),\n",
              " Text(0.10046478369681802, 0.4375, 'X[0] <= 10.15\\ngini = 0.198\\nsamples = 18\\nvalue = [2, 16]'),\n",
              " Text(0.09903468001430103, 0.3958333333333333, 'X[1] <= 1.55\\ngini = 0.346\\nsamples = 9\\nvalue = [2, 7]'),\n",
              " Text(0.09760457633178406, 0.3541666666666667, 'X[2] <= 3.225\\ngini = 0.444\\nsamples = 6\\nvalue = [2, 4]'),\n",
              " Text(0.09617447264926707, 0.3125, 'gini = 0.0\\nsamples = 1\\nvalue = [1, 0]'),\n",
              " Text(0.09903468001430103, 0.3125, 'X[2] <= 3.32\\ngini = 0.32\\nsamples = 5\\nvalue = [1, 4]'),\n",
              " Text(0.09760457633178406, 0.2708333333333333, 'gini = 0.0\\nsamples = 3\\nvalue = [0, 3]'),\n",
              " Text(0.10046478369681802, 0.2708333333333333, 'X[2] <= 3.395\\ngini = 0.5\\nsamples = 2\\nvalue = [1, 1]'),\n",
              " Text(0.09903468001430103, 0.22916666666666666, 'gini = 0.0\\nsamples = 1\\nvalue = [1, 0]'),\n",
              " Text(0.101894887379335, 0.22916666666666666, 'gini = 0.0\\nsamples = 1\\nvalue = [0, 1]'),\n",
              " Text(0.10046478369681802, 0.3541666666666667, 'gini = 0.0\\nsamples = 3\\nvalue = [0, 3]'),\n",
              " Text(0.101894887379335, 0.3958333333333333, 'gini = 0.0\\nsamples = 9\\nvalue = [0, 9]'),\n",
              " Text(0.10618519842688595, 0.4375, 'X[1] <= 1.45\\ngini = 0.5\\nsamples = 4\\nvalue = [2, 2]'),\n",
              " Text(0.10475509474436896, 0.3958333333333333, 'gini = 0.0\\nsamples = 1\\nvalue = [1, 0]'),\n",
              " Text(0.10761530210940293, 0.3958333333333333, 'X[2] <= 3.24\\ngini = 0.444\\nsamples = 3\\nvalue = [1, 2]'),\n",
              " Text(0.10618519842688595, 0.3541666666666667, 'gini = 0.0\\nsamples = 2\\nvalue = [0, 2]'),\n",
              " Text(0.10904540579191992, 0.3541666666666667, 'gini = 0.0\\nsamples = 1\\nvalue = [1, 0]'),\n",
              " Text(0.12120128709331426, 0.4791666666666667, 'X[1] <= 1.45\\ngini = 0.17\\nsamples = 128\\nvalue = [12, 116]'),\n",
              " Text(0.11190561315695388, 0.4375, 'X[0] <= 11.35\\ngini = 0.077\\nsamples = 50\\nvalue = [2, 48]'),\n",
              " Text(0.11047550947443689, 0.3958333333333333, 'gini = 0.0\\nsamples = 36\\nvalue = [0, 36]'),\n",
              " Text(0.11333571683947086, 0.3958333333333333, 'X[0] <= 11.45\\ngini = 0.245\\nsamples = 14\\nvalue = [2, 12]'),\n",
              " Text(0.11190561315695388, 0.3541666666666667, 'X[2] <= 3.255\\ngini = 0.5\\nsamples = 4\\nvalue = [2, 2]'),\n",
              " Text(0.11047550947443689, 0.3125, 'gini = 0.0\\nsamples = 1\\nvalue = [1, 0]'),\n",
              " Text(0.11333571683947086, 0.3125, 'X[2] <= 3.37\\ngini = 0.444\\nsamples = 3\\nvalue = [1, 2]'),\n",
              " Text(0.11190561315695388, 0.2708333333333333, 'gini = 0.5\\nsamples = 2\\nvalue = [1, 1]'),\n",
              " Text(0.11476582052198785, 0.2708333333333333, 'gini = 0.0\\nsamples = 1\\nvalue = [0, 1]'),\n",
              " Text(0.11476582052198785, 0.3541666666666667, 'gini = 0.0\\nsamples = 10\\nvalue = [0, 10]'),\n",
              " Text(0.13049696102967465, 0.4375, 'X[0] <= 11.25\\ngini = 0.224\\nsamples = 78\\nvalue = [10, 68]'),\n",
              " Text(0.1262066499821237, 0.3958333333333333, 'X[2] <= 3.245\\ngini = 0.262\\nsamples = 58\\nvalue = [9, 49]'),\n",
              " Text(0.12191633893457275, 0.3541666666666667, 'X[2] <= 3.235\\ngini = 0.391\\nsamples = 15\\nvalue = [4, 11]'),\n",
              " Text(0.12048623525205578, 0.3125, 'X[0] <= 10.6\\ngini = 0.26\\nsamples = 13\\nvalue = [2, 11]'),\n",
              " Text(0.11762602788702181, 0.2708333333333333, 'X[2] <= 3.19\\ngini = 0.5\\nsamples = 2\\nvalue = [1, 1]'),\n",
              " Text(0.11619592420450482, 0.22916666666666666, 'gini = 0.0\\nsamples = 1\\nvalue = [0, 1]'),\n",
              " Text(0.11905613156953879, 0.22916666666666666, 'gini = 0.0\\nsamples = 1\\nvalue = [1, 0]'),\n",
              " Text(0.12334644261708974, 0.2708333333333333, 'X[0] <= 11.05\\ngini = 0.165\\nsamples = 11\\nvalue = [1, 10]'),\n",
              " Text(0.12191633893457275, 0.22916666666666666, 'gini = 0.0\\nsamples = 8\\nvalue = [0, 8]'),\n",
              " Text(0.12477654629960672, 0.22916666666666666, 'X[1] <= 1.55\\ngini = 0.444\\nsamples = 3\\nvalue = [1, 2]'),\n",
              " Text(0.12334644261708974, 0.1875, 'gini = 0.5\\nsamples = 2\\nvalue = [1, 1]'),\n",
              " Text(0.1262066499821237, 0.1875, 'gini = 0.0\\nsamples = 1\\nvalue = [0, 1]'),\n",
              " Text(0.12334644261708974, 0.3125, 'gini = 0.0\\nsamples = 2\\nvalue = [2, 0]'),\n",
              " Text(0.13049696102967465, 0.3541666666666667, 'X[2] <= 3.285\\ngini = 0.206\\nsamples = 43\\nvalue = [5, 38]'),\n",
              " Text(0.12906685734715767, 0.3125, 'gini = 0.0\\nsamples = 10\\nvalue = [0, 10]'),\n",
              " Text(0.13192706471219162, 0.3125, 'X[2] <= 3.295\\ngini = 0.257\\nsamples = 33\\nvalue = [5, 28]'),\n",
              " Text(0.13049696102967465, 0.2708333333333333, 'gini = 0.0\\nsamples = 2\\nvalue = [2, 0]'),\n",
              " Text(0.13335716839470863, 0.2708333333333333, 'X[0] <= 10.75\\ngini = 0.175\\nsamples = 31\\nvalue = [3, 28]'),\n",
              " Text(0.13192706471219162, 0.22916666666666666, 'X[0] <= 10.6\\ngini = 0.305\\nsamples = 16\\nvalue = [3, 13]'),\n",
              " Text(0.12906685734715767, 0.1875, 'X[1] <= 1.55\\ngini = 0.142\\nsamples = 13\\nvalue = [1, 12]'),\n",
              " Text(0.1276367536646407, 0.14583333333333334, 'gini = 0.0\\nsamples = 7\\nvalue = [0, 7]'),\n",
              " Text(0.13049696102967465, 0.14583333333333334, 'X[2] <= 3.335\\ngini = 0.278\\nsamples = 6\\nvalue = [1, 5]'),\n",
              " Text(0.12906685734715767, 0.10416666666666667, 'X[2] <= 3.325\\ngini = 0.444\\nsamples = 3\\nvalue = [1, 2]'),\n",
              " Text(0.1276367536646407, 0.0625, 'gini = 0.0\\nsamples = 2\\nvalue = [0, 2]'),\n",
              " Text(0.13049696102967465, 0.0625, 'gini = 0.0\\nsamples = 1\\nvalue = [1, 0]'),\n",
              " Text(0.13192706471219162, 0.10416666666666667, 'gini = 0.0\\nsamples = 3\\nvalue = [0, 3]'),\n",
              " Text(0.1347872720772256, 0.1875, 'X[1] <= 1.55\\ngini = 0.444\\nsamples = 3\\nvalue = [2, 1]'),\n",
              " Text(0.13335716839470863, 0.14583333333333334, 'gini = 0.0\\nsamples = 1\\nvalue = [1, 0]'),\n",
              " Text(0.13621737575974258, 0.14583333333333334, 'X[2] <= 3.42\\ngini = 0.5\\nsamples = 2\\nvalue = [1, 1]'),\n",
              " Text(0.1347872720772256, 0.10416666666666667, 'gini = 0.0\\nsamples = 1\\nvalue = [0, 1]'),\n",
              " Text(0.13764747944225955, 0.10416666666666667, 'gini = 0.0\\nsamples = 1\\nvalue = [1, 0]'),\n",
              " Text(0.1347872720772256, 0.22916666666666666, 'gini = 0.0\\nsamples = 15\\nvalue = [0, 15]'),\n",
              " Text(0.1347872720772256, 0.3958333333333333, 'X[0] <= 11.65\\ngini = 0.095\\nsamples = 20\\nvalue = [1, 19]'),\n",
              " Text(0.13335716839470863, 0.3541666666666667, 'gini = 0.0\\nsamples = 17\\nvalue = [0, 17]'),\n",
              " Text(0.13621737575974258, 0.3541666666666667, 'X[2] <= 3.375\\ngini = 0.444\\nsamples = 3\\nvalue = [1, 2]'),\n",
              " Text(0.1347872720772256, 0.3125, 'gini = 0.0\\nsamples = 2\\nvalue = [0, 2]'),\n",
              " Text(0.13764747944225955, 0.3125, 'gini = 0.0\\nsamples = 1\\nvalue = [1, 0]'),\n",
              " Text(0.1347872720772256, 0.5625, 'X[1] <= 1.475\\ngini = 0.444\\nsamples = 9\\nvalue = [3, 6]'),\n",
              " Text(0.13335716839470863, 0.5208333333333334, 'gini = 0.0\\nsamples = 2\\nvalue = [2, 0]'),\n",
              " Text(0.13621737575974258, 0.5208333333333334, 'X[2] <= 3.29\\ngini = 0.245\\nsamples = 7\\nvalue = [1, 6]'),\n",
              " Text(0.1347872720772256, 0.4791666666666667, 'X[2] <= 3.215\\ngini = 0.444\\nsamples = 3\\nvalue = [1, 2]'),\n",
              " Text(0.13335716839470863, 0.4375, 'gini = 0.0\\nsamples = 2\\nvalue = [0, 2]'),\n",
              " Text(0.13621737575974258, 0.4375, 'gini = 0.0\\nsamples = 1\\nvalue = [1, 0]'),\n",
              " Text(0.13764747944225955, 0.4791666666666667, 'gini = 0.0\\nsamples = 4\\nvalue = [0, 4]'),\n",
              " Text(0.11092241687522346, 0.6875, 'gini = 0.0\\nsamples = 72\\nvalue = [0, 72]'),\n",
              " Text(0.142652842331069, 0.7291666666666666, 'X[0] <= 10.85\\ngini = 0.367\\nsamples = 33\\nvalue = [8, 25]'),\n",
              " Text(0.13621737575974258, 0.6875, 'X[2] <= 3.525\\ngini = 0.117\\nsamples = 16\\nvalue = [1, 15]'),\n",
              " Text(0.1347872720772256, 0.6458333333333334, 'gini = 0.0\\nsamples = 9\\nvalue = [0, 9]'),\n",
              " Text(0.13764747944225955, 0.6458333333333334, 'X[1] <= 1.45\\ngini = 0.245\\nsamples = 7\\nvalue = [1, 6]'),\n",
              " Text(0.13621737575974258, 0.6041666666666666, 'gini = 0.0\\nsamples = 3\\nvalue = [0, 3]'),\n",
              " Text(0.13907758312477655, 0.6041666666666666, 'X[0] <= 10.65\\ngini = 0.375\\nsamples = 4\\nvalue = [1, 3]'),\n",
              " Text(0.13764747944225955, 0.5625, 'gini = 0.0\\nsamples = 1\\nvalue = [1, 0]'),\n",
              " Text(0.14050768680729353, 0.5625, 'gini = 0.0\\nsamples = 3\\nvalue = [0, 3]'),\n",
              " Text(0.1490883089023954, 0.6875, 'X[0] <= 12.35\\ngini = 0.484\\nsamples = 17\\nvalue = [7, 10]'),\n",
              " Text(0.14765820521987844, 0.6458333333333334, 'X[2] <= 3.58\\ngini = 0.497\\nsamples = 13\\nvalue = [7, 6]'),\n",
              " Text(0.14622810153736146, 0.6041666666666666, 'X[2] <= 3.465\\ngini = 0.486\\nsamples = 12\\nvalue = [7, 5]'),\n",
              " Text(0.14336789417232748, 0.5625, 'X[0] <= 11.8\\ngini = 0.48\\nsamples = 5\\nvalue = [2, 3]'),\n",
              " Text(0.1419377904898105, 0.5208333333333334, 'gini = 0.0\\nsamples = 3\\nvalue = [0, 3]'),\n",
              " Text(0.14479799785484448, 0.5208333333333334, 'gini = 0.0\\nsamples = 2\\nvalue = [2, 0]'),\n",
              " Text(0.1490883089023954, 0.5625, 'X[0] <= 11.8\\ngini = 0.408\\nsamples = 7\\nvalue = [5, 2]'),\n",
              " Text(0.14765820521987844, 0.5208333333333334, 'gini = 0.0\\nsamples = 4\\nvalue = [4, 0]'),\n",
              " Text(0.15051841258491241, 0.5208333333333334, 'X[1] <= 1.55\\ngini = 0.444\\nsamples = 3\\nvalue = [1, 2]'),\n",
              " Text(0.1490883089023954, 0.4791666666666667, 'gini = 0.0\\nsamples = 1\\nvalue = [0, 1]'),\n",
              " Text(0.1519485162674294, 0.4791666666666667, 'X[0] <= 12.075\\ngini = 0.5\\nsamples = 2\\nvalue = [1, 1]'),\n",
              " Text(0.15051841258491241, 0.4375, 'gini = 0.0\\nsamples = 1\\nvalue = [1, 0]'),\n",
              " Text(0.15337861994994637, 0.4375, 'gini = 0.0\\nsamples = 1\\nvalue = [0, 1]'),\n",
              " Text(0.1490883089023954, 0.6041666666666666, 'gini = 0.0\\nsamples = 1\\nvalue = [0, 1]'),\n",
              " Text(0.15051841258491241, 0.6458333333333334, 'gini = 0.0\\nsamples = 4\\nvalue = [0, 4]'),\n",
              " Text(0.15480872363246334, 0.7708333333333334, 'X[1] <= 1.45\\ngini = 0.444\\nsamples = 9\\nvalue = [6, 3]'),\n",
              " Text(0.15337861994994637, 0.7291666666666666, 'X[0] <= 10.4\\ngini = 0.375\\nsamples = 4\\nvalue = [1, 3]'),\n",
              " Text(0.1519485162674294, 0.6875, 'gini = 0.0\\nsamples = 3\\nvalue = [0, 3]'),\n",
              " Text(0.15480872363246334, 0.6875, 'gini = 0.0\\nsamples = 1\\nvalue = [1, 0]'),\n",
              " Text(0.15623882731498034, 0.7291666666666666, 'gini = 0.0\\nsamples = 5\\nvalue = [5, 0]'),\n",
              " Text(0.5032529970727565, 0.8958333333333334, 'X[0] <= 11.025\\ngini = 0.486\\nsamples = 1807\\nvalue = [1054, 753]'),\n",
              " Text(0.33159621357704683, 0.8541666666666666, 'X[2] <= 3.235\\ngini = 0.41\\nsamples = 1108\\nvalue = [789, 319]'),\n",
              " Text(0.25586146987844116, 0.8125, 'X[1] <= 3.25\\ngini = 0.49\\nsamples = 447\\nvalue = [255, 192]'),\n",
              " Text(0.20925601090454057, 0.7708333333333334, 'X[0] <= 9.75\\ngini = 0.474\\nsamples = 393\\nvalue = [241, 152]'),\n",
              " Text(0.18967867357883447, 0.7291666666666666, 'X[2] <= 3.185\\ngini = 0.382\\nsamples = 167\\nvalue = [124, 43]'),\n",
              " Text(0.18253932785126922, 0.6875, 'X[2] <= 3.175\\ngini = 0.446\\nsamples = 122\\nvalue = [81, 41]'),\n",
              " Text(0.1768412584912406, 0.6458333333333334, 'X[1] <= 3.0\\ngini = 0.423\\nsamples = 112\\nvalue = [78, 34]'),\n",
              " Text(0.16973543081873435, 0.6041666666666666, 'X[2] <= 2.855\\ngini = 0.404\\nsamples = 107\\nvalue = [77, 30]'),\n",
              " Text(0.16830532713621738, 0.5625, 'gini = 0.0\\nsamples = 2\\nvalue = [0, 2]'),\n",
              " Text(0.17116553450125135, 0.5625, 'X[1] <= 1.95\\ngini = 0.391\\nsamples = 105\\nvalue = [77, 28]'),\n",
              " Text(0.16124419020378977, 0.5208333333333334, 'X[2] <= 3.03\\ngini = 0.475\\nsamples = 31\\nvalue = [19, 12]'),\n",
              " Text(0.15766893099749732, 0.4791666666666667, 'X[2] <= 2.985\\ngini = 0.198\\nsamples = 9\\nvalue = [8, 1]'),\n",
              " Text(0.15623882731498034, 0.4375, 'X[2] <= 2.935\\ngini = 0.444\\nsamples = 3\\nvalue = [2, 1]'),\n",
              " Text(0.15480872363246334, 0.3958333333333333, 'gini = 0.0\\nsamples = 2\\nvalue = [2, 0]'),\n",
              " Text(0.15766893099749732, 0.3958333333333333, 'gini = 0.0\\nsamples = 1\\nvalue = [0, 1]'),\n",
              " Text(0.1590990346800143, 0.4375, 'gini = 0.0\\nsamples = 6\\nvalue = [6, 0]'),\n",
              " Text(0.16481944941008222, 0.4791666666666667, 'X[1] <= 1.75\\ngini = 0.5\\nsamples = 22\\nvalue = [11, 11]'),\n",
              " Text(0.16195924204504827, 0.4375, 'X[0] <= 9.05\\ngini = 0.245\\nsamples = 7\\nvalue = [6, 1]'),\n",
              " Text(0.16052913836253127, 0.3958333333333333, 'gini = 0.0\\nsamples = 1\\nvalue = [0, 1]'),\n",
              " Text(0.16338934572756525, 0.3958333333333333, 'gini = 0.0\\nsamples = 6\\nvalue = [6, 0]'),\n",
              " Text(0.1676796567751162, 0.4375, 'X[2] <= 3.155\\ngini = 0.444\\nsamples = 15\\nvalue = [5, 10]'),\n",
              " Text(0.1662495530925992, 0.3958333333333333, 'X[2] <= 3.065\\ngini = 0.408\\nsamples = 14\\nvalue = [4, 10]'),\n",
              " Text(0.16338934572756525, 0.3541666666666667, 'X[0] <= 9.35\\ngini = 0.444\\nsamples = 3\\nvalue = [2, 1]'),\n",
              " Text(0.16195924204504827, 0.3125, 'gini = 0.0\\nsamples = 2\\nvalue = [2, 0]'),\n",
              " Text(0.16481944941008222, 0.3125, 'gini = 0.0\\nsamples = 1\\nvalue = [0, 1]'),\n",
              " Text(0.16910976045763318, 0.3541666666666667, 'X[2] <= 3.09\\ngini = 0.298\\nsamples = 11\\nvalue = [2, 9]'),\n",
              " Text(0.1676796567751162, 0.3125, 'gini = 0.0\\nsamples = 6\\nvalue = [0, 6]'),\n",
              " Text(0.17053986414015015, 0.3125, 'X[2] <= 3.125\\ngini = 0.48\\nsamples = 5\\nvalue = [2, 3]'),\n",
              " Text(0.16910976045763318, 0.2708333333333333, 'gini = 0.0\\nsamples = 2\\nvalue = [2, 0]'),\n",
              " Text(0.17196996782266713, 0.2708333333333333, 'gini = 0.0\\nsamples = 3\\nvalue = [0, 3]'),\n",
              " Text(0.16910976045763318, 0.3958333333333333, 'gini = 0.0\\nsamples = 1\\nvalue = [1, 0]'),\n",
              " Text(0.1810868787987129, 0.5208333333333334, 'X[2] <= 3.025\\ngini = 0.339\\nsamples = 74\\nvalue = [58, 16]'),\n",
              " Text(0.17340007150518413, 0.4791666666666667, 'X[1] <= 2.35\\ngini = 0.497\\nsamples = 13\\nvalue = [7, 6]'),\n",
              " Text(0.17196996782266713, 0.4375, 'gini = 0.0\\nsamples = 6\\nvalue = [6, 0]'),\n",
              " Text(0.1748301751877011, 0.4375, 'X[1] <= 2.75\\ngini = 0.245\\nsamples = 7\\nvalue = [1, 6]'),\n",
              " Text(0.17340007150518413, 0.3958333333333333, 'X[1] <= 2.65\\ngini = 0.444\\nsamples = 3\\nvalue = [1, 2]'),\n",
              " Text(0.17196996782266713, 0.3541666666666667, 'gini = 0.0\\nsamples = 2\\nvalue = [0, 2]'),\n",
              " Text(0.1748301751877011, 0.3541666666666667, 'gini = 0.0\\nsamples = 1\\nvalue = [1, 0]'),\n",
              " Text(0.17626027887021808, 0.3958333333333333, 'gini = 0.0\\nsamples = 4\\nvalue = [0, 4]'),\n",
              " Text(0.18877368609224168, 0.4791666666666667, 'X[1] <= 2.55\\ngini = 0.274\\nsamples = 61\\nvalue = [51, 10]'),\n",
              " Text(0.1873435824097247, 0.4375, 'X[1] <= 2.35\\ngini = 0.33\\nsamples = 48\\nvalue = [38, 10]'),\n",
              " Text(0.18269574544154452, 0.3958333333333333, 'X[2] <= 3.165\\ngini = 0.266\\nsamples = 38\\nvalue = [32, 6]'),\n",
              " Text(0.17769038255273506, 0.3541666666666667, 'X[2] <= 3.085\\ngini = 0.175\\nsamples = 31\\nvalue = [28, 3]'),\n",
              " Text(0.17626027887021808, 0.3125, 'gini = 0.0\\nsamples = 12\\nvalue = [12, 0]'),\n",
              " Text(0.17912048623525206, 0.3125, 'X[2] <= 3.095\\ngini = 0.266\\nsamples = 19\\nvalue = [16, 3]'),\n",
              " Text(0.17626027887021808, 0.2708333333333333, 'X[1] <= 2.25\\ngini = 0.444\\nsamples = 3\\nvalue = [1, 2]'),\n",
              " Text(0.1748301751877011, 0.22916666666666666, 'gini = 0.0\\nsamples = 2\\nvalue = [0, 2]'),\n",
              " Text(0.17769038255273506, 0.22916666666666666, 'gini = 0.0\\nsamples = 1\\nvalue = [1, 0]'),\n",
              " Text(0.18198069360028601, 0.2708333333333333, 'X[2] <= 3.155\\ngini = 0.117\\nsamples = 16\\nvalue = [15, 1]'),\n",
              " Text(0.18055058991776904, 0.22916666666666666, 'gini = 0.0\\nsamples = 11\\nvalue = [11, 0]'),\n",
              " Text(0.183410797282803, 0.22916666666666666, 'X[1] <= 2.2\\ngini = 0.32\\nsamples = 5\\nvalue = [4, 1]'),\n",
              " Text(0.18198069360028601, 0.1875, 'X[0] <= 9.3\\ngini = 0.444\\nsamples = 3\\nvalue = [2, 1]'),\n",
              " Text(0.18055058991776904, 0.14583333333333334, 'gini = 0.0\\nsamples = 2\\nvalue = [2, 0]'),\n",
              " Text(0.183410797282803, 0.14583333333333334, 'gini = 0.0\\nsamples = 1\\nvalue = [0, 1]'),\n",
              " Text(0.18484090096532, 0.1875, 'gini = 0.0\\nsamples = 2\\nvalue = [2, 0]'),\n",
              " Text(0.18770110833035394, 0.3541666666666667, 'X[1] <= 2.25\\ngini = 0.49\\nsamples = 7\\nvalue = [4, 3]'),\n",
              " Text(0.18627100464783697, 0.3125, 'X[0] <= 9.3\\ngini = 0.375\\nsamples = 4\\nvalue = [1, 3]'),\n",
              " Text(0.18484090096532, 0.2708333333333333, 'gini = 0.0\\nsamples = 1\\nvalue = [1, 0]'),\n",
              " Text(0.18770110833035394, 0.2708333333333333, 'gini = 0.0\\nsamples = 3\\nvalue = [0, 3]'),\n",
              " Text(0.18913121201287092, 0.3125, 'gini = 0.0\\nsamples = 3\\nvalue = [3, 0]'),\n",
              " Text(0.1919914193779049, 0.3958333333333333, 'X[0] <= 9.35\\ngini = 0.48\\nsamples = 10\\nvalue = [6, 4]'),\n",
              " Text(0.19056131569538792, 0.3541666666666667, 'gini = 0.0\\nsamples = 3\\nvalue = [0, 3]'),\n",
              " Text(0.19342152306042187, 0.3541666666666667, 'X[2] <= 3.105\\ngini = 0.245\\nsamples = 7\\nvalue = [6, 1]'),\n",
              " Text(0.1919914193779049, 0.3125, 'gini = 0.0\\nsamples = 5\\nvalue = [5, 0]'),\n",
              " Text(0.19485162674293885, 0.3125, 'X[2] <= 3.13\\ngini = 0.5\\nsamples = 2\\nvalue = [1, 1]'),\n",
              " Text(0.19342152306042187, 0.2708333333333333, 'gini = 0.0\\nsamples = 1\\nvalue = [0, 1]'),\n",
              " Text(0.19628173042545585, 0.2708333333333333, 'gini = 0.0\\nsamples = 1\\nvalue = [1, 0]'),\n",
              " Text(0.19020378977475866, 0.4375, 'gini = 0.0\\nsamples = 13\\nvalue = [13, 0]'),\n",
              " Text(0.18394708616374686, 0.6041666666666666, 'X[1] <= 3.15\\ngini = 0.32\\nsamples = 5\\nvalue = [1, 4]'),\n",
              " Text(0.18251698248122988, 0.5625, 'gini = 0.0\\nsamples = 3\\nvalue = [0, 3]'),\n",
              " Text(0.18537718984626386, 0.5625, 'X[2] <= 3.095\\ngini = 0.5\\nsamples = 2\\nvalue = [1, 1]'),\n",
              " Text(0.18394708616374686, 0.5208333333333334, 'gini = 0.0\\nsamples = 1\\nvalue = [1, 0]'),\n",
              " Text(0.18680729352878084, 0.5208333333333334, 'gini = 0.0\\nsamples = 1\\nvalue = [0, 1]'),\n",
              " Text(0.1882373972112978, 0.6458333333333334, 'X[0] <= 9.45\\ngini = 0.42\\nsamples = 10\\nvalue = [3, 7]'),\n",
              " Text(0.18680729352878084, 0.6041666666666666, 'gini = 0.0\\nsamples = 6\\nvalue = [0, 6]'),\n",
              " Text(0.1896675008938148, 0.6041666666666666, 'X[1] <= 2.3\\ngini = 0.375\\nsamples = 4\\nvalue = [3, 1]'),\n",
              " Text(0.1882373972112978, 0.5625, 'gini = 0.0\\nsamples = 3\\nvalue = [3, 0]'),\n",
              " Text(0.1910976045763318, 0.5625, 'gini = 0.0\\nsamples = 1\\nvalue = [0, 1]'),\n",
              " Text(0.19681801930639972, 0.6875, 'X[1] <= 3.05\\ngini = 0.085\\nsamples = 45\\nvalue = [43, 2]'),\n",
              " Text(0.19395781194136574, 0.6458333333333334, 'X[0] <= 9.65\\ngini = 0.045\\nsamples = 43\\nvalue = [42, 1]'),\n",
              " Text(0.19252770825884877, 0.6041666666666666, 'gini = 0.0\\nsamples = 40\\nvalue = [40, 0]'),\n",
              " Text(0.19538791562388272, 0.6041666666666666, 'X[2] <= 3.205\\ngini = 0.444\\nsamples = 3\\nvalue = [2, 1]'),\n",
              " Text(0.19395781194136574, 0.5625, 'gini = 0.0\\nsamples = 1\\nvalue = [0, 1]'),\n",
              " Text(0.19681801930639972, 0.5625, 'gini = 0.0\\nsamples = 2\\nvalue = [2, 0]'),\n",
              " Text(0.19967822667143367, 0.6458333333333334, 'X[2] <= 3.215\\ngini = 0.5\\nsamples = 2\\nvalue = [1, 1]'),\n",
              " Text(0.1982481229889167, 0.6041666666666666, 'gini = 0.0\\nsamples = 1\\nvalue = [0, 1]'),\n",
              " Text(0.20110833035395065, 0.6041666666666666, 'gini = 0.0\\nsamples = 1\\nvalue = [1, 0]'),\n",
              " Text(0.2288333482302467, 0.7291666666666666, 'X[1] <= 1.75\\ngini = 0.499\\nsamples = 226\\nvalue = [117, 109]'),\n",
              " Text(0.20870575616732212, 0.6875, 'X[2] <= 3.14\\ngini = 0.204\\nsamples = 26\\nvalue = [3, 23]'),\n",
              " Text(0.20727565248480515, 0.6458333333333334, 'gini = 0.0\\nsamples = 14\\nvalue = [0, 14]'),\n",
              " Text(0.21013585984983912, 0.6458333333333334, 'X[0] <= 10.7\\ngini = 0.375\\nsamples = 12\\nvalue = [3, 9]'),\n",
              " Text(0.20870575616732212, 0.6041666666666666, 'X[0] <= 10.5\\ngini = 0.49\\nsamples = 7\\nvalue = [3, 4]'),\n",
              " Text(0.20584554880228817, 0.5625, 'X[2] <= 3.225\\ngini = 0.375\\nsamples = 4\\nvalue = [1, 3]'),\n",
              " Text(0.2044154451197712, 0.5208333333333334, 'gini = 0.0\\nsamples = 3\\nvalue = [0, 3]'),\n",
              " Text(0.20727565248480515, 0.5208333333333334, 'gini = 0.0\\nsamples = 1\\nvalue = [1, 0]'),\n",
              " Text(0.2115659635323561, 0.5625, 'X[2] <= 3.205\\ngini = 0.444\\nsamples = 3\\nvalue = [2, 1]'),\n",
              " Text(0.21013585984983912, 0.5208333333333334, 'gini = 0.0\\nsamples = 2\\nvalue = [2, 0]'),\n",
              " Text(0.21299606721487307, 0.5208333333333334, 'gini = 0.0\\nsamples = 1\\nvalue = [0, 1]'),\n",
              " Text(0.2115659635323561, 0.6041666666666666, 'gini = 0.0\\nsamples = 5\\nvalue = [0, 5]'),\n",
              " Text(0.24896094029317126, 0.6875, 'X[1] <= 2.55\\ngini = 0.49\\nsamples = 200\\nvalue = [114, 86]'),\n",
              " Text(0.23371022524133, 0.6458333333333334, 'X[2] <= 3.185\\ngini = 0.5\\nsamples = 137\\nvalue = [67, 70]'),\n",
              " Text(0.22180014301036824, 0.6041666666666666, 'X[2] <= 2.945\\ngini = 0.494\\nsamples = 97\\nvalue = [54, 43]'),\n",
              " Text(0.22037003932785126, 0.5625, 'gini = 0.0\\nsamples = 4\\nvalue = [4, 0]'),\n",
              " Text(0.22323024669288524, 0.5625, 'X[2] <= 3.165\\ngini = 0.497\\nsamples = 93\\nvalue = [50, 43]'),\n",
              " Text(0.21585627457990705, 0.5208333333333334, 'X[1] <= 2.15\\ngini = 0.5\\nsamples = 74\\nvalue = [36, 38]'),\n",
              " Text(0.20682874508401858, 0.4791666666666667, 'X[2] <= 3.045\\ngini = 0.476\\nsamples = 41\\nvalue = [16, 25]'),\n",
              " Text(0.20396853771898463, 0.4375, 'X[1] <= 2.05\\ngini = 0.375\\nsamples = 4\\nvalue = [3, 1]'),\n",
              " Text(0.20253843403646765, 0.3958333333333333, 'gini = 0.0\\nsamples = 3\\nvalue = [3, 0]'),\n",
              " Text(0.2053986414015016, 0.3958333333333333, 'gini = 0.0\\nsamples = 1\\nvalue = [0, 1]'),\n",
              " Text(0.20968895244905256, 0.4375, 'X[2] <= 3.065\\ngini = 0.456\\nsamples = 37\\nvalue = [13, 24]'),\n",
              " Text(0.20825884876653558, 0.3958333333333333, 'gini = 0.0\\nsamples = 5\\nvalue = [0, 5]'),\n",
              " Text(0.21111905613156953, 0.3958333333333333, 'X[1] <= 2.05\\ngini = 0.482\\nsamples = 32\\nvalue = [13, 19]'),\n",
              " Text(0.2045048265999285, 0.3541666666666667, 'X[2] <= 3.105\\ngini = 0.444\\nsamples = 27\\nvalue = [9, 18]'),\n",
              " Text(0.2005720414730068, 0.3125, 'X[0] <= 10.25\\ngini = 0.49\\nsamples = 7\\nvalue = [4, 3]'),\n",
              " Text(0.1991419377904898, 0.2708333333333333, 'X[1] <= 1.95\\ngini = 0.48\\nsamples = 5\\nvalue = [2, 3]'),\n",
              " Text(0.19771183410797283, 0.22916666666666666, 'X[2] <= 3.095\\ngini = 0.444\\nsamples = 3\\nvalue = [2, 1]'),\n",
              " Text(0.19628173042545585, 0.1875, 'gini = 0.0\\nsamples = 2\\nvalue = [2, 0]'),\n",
              " Text(0.1991419377904898, 0.1875, 'gini = 0.0\\nsamples = 1\\nvalue = [0, 1]'),\n",
              " Text(0.2005720414730068, 0.22916666666666666, 'gini = 0.0\\nsamples = 2\\nvalue = [0, 2]'),\n",
              " Text(0.20200214515552378, 0.2708333333333333, 'gini = 0.0\\nsamples = 2\\nvalue = [2, 0]'),\n",
              " Text(0.20843761172685019, 0.3125, 'X[1] <= 1.85\\ngini = 0.375\\nsamples = 20\\nvalue = [5, 15]'),\n",
              " Text(0.20486235252055773, 0.2708333333333333, 'X[0] <= 10.05\\ngini = 0.198\\nsamples = 9\\nvalue = [1, 8]'),\n",
              " Text(0.20343224883804076, 0.22916666666666666, 'X[2] <= 3.145\\ngini = 0.444\\nsamples = 3\\nvalue = [1, 2]'),\n",
              " Text(0.20200214515552378, 0.1875, 'gini = 0.0\\nsamples = 1\\nvalue = [1, 0]'),\n",
              " Text(0.20486235252055773, 0.1875, 'gini = 0.0\\nsamples = 2\\nvalue = [0, 2]'),\n",
              " Text(0.20629245620307474, 0.22916666666666666, 'gini = 0.0\\nsamples = 6\\nvalue = [0, 6]'),\n",
              " Text(0.21201287093314267, 0.2708333333333333, 'X[0] <= 10.85\\ngini = 0.463\\nsamples = 11\\nvalue = [4, 7]'),\n",
              " Text(0.21058276725062566, 0.22916666666666666, 'X[1] <= 1.95\\ngini = 0.42\\nsamples = 10\\nvalue = [3, 7]'),\n",
              " Text(0.2077225598855917, 0.1875, 'X[0] <= 10.55\\ngini = 0.5\\nsamples = 4\\nvalue = [2, 2]'),\n",
              " Text(0.20629245620307474, 0.14583333333333334, 'gini = 0.0\\nsamples = 2\\nvalue = [2, 0]'),\n",
              " Text(0.2091526635681087, 0.14583333333333334, 'gini = 0.0\\nsamples = 2\\nvalue = [0, 2]'),\n",
              " Text(0.21344297461565964, 0.1875, 'X[2] <= 3.125\\ngini = 0.278\\nsamples = 6\\nvalue = [1, 5]'),\n",
              " Text(0.21201287093314267, 0.14583333333333334, 'X[0] <= 9.95\\ngini = 0.444\\nsamples = 3\\nvalue = [1, 2]'),\n",
              " Text(0.21058276725062566, 0.10416666666666667, 'gini = 0.0\\nsamples = 2\\nvalue = [0, 2]'),\n",
              " Text(0.21344297461565964, 0.10416666666666667, 'gini = 0.0\\nsamples = 1\\nvalue = [1, 0]'),\n",
              " Text(0.21487307829817662, 0.14583333333333334, 'gini = 0.0\\nsamples = 3\\nvalue = [0, 3]'),\n",
              " Text(0.21344297461565964, 0.22916666666666666, 'gini = 0.0\\nsamples = 1\\nvalue = [1, 0]'),\n",
              " Text(0.2177332856632106, 0.3541666666666667, 'X[0] <= 10.55\\ngini = 0.32\\nsamples = 5\\nvalue = [4, 1]'),\n",
              " Text(0.2163031819806936, 0.3125, 'X[2] <= 3.135\\ngini = 0.5\\nsamples = 2\\nvalue = [1, 1]'),\n",
              " Text(0.21487307829817662, 0.2708333333333333, 'gini = 0.0\\nsamples = 1\\nvalue = [1, 0]'),\n",
              " Text(0.2177332856632106, 0.2708333333333333, 'gini = 0.0\\nsamples = 1\\nvalue = [0, 1]'),\n",
              " Text(0.21916338934572757, 0.3125, 'gini = 0.0\\nsamples = 3\\nvalue = [3, 0]'),\n",
              " Text(0.2248838040757955, 0.4791666666666667, 'X[2] <= 3.135\\ngini = 0.478\\nsamples = 33\\nvalue = [20, 13]'),\n",
              " Text(0.22202359671076152, 0.4375, 'X[2] <= 3.005\\ngini = 0.495\\nsamples = 20\\nvalue = [9, 11]'),\n",
              " Text(0.22059349302824455, 0.3958333333333333, 'gini = 0.0\\nsamples = 3\\nvalue = [0, 3]'),\n",
              " Text(0.22345370039327853, 0.3958333333333333, 'X[2] <= 3.055\\ngini = 0.498\\nsamples = 17\\nvalue = [9, 8]'),\n",
              " Text(0.22202359671076152, 0.3541666666666667, 'gini = 0.0\\nsamples = 5\\nvalue = [5, 0]'),\n",
              " Text(0.2248838040757955, 0.3541666666666667, 'X[2] <= 3.115\\ngini = 0.444\\nsamples = 12\\nvalue = [4, 8]'),\n",
              " Text(0.22345370039327853, 0.3125, 'X[0] <= 10.2\\ngini = 0.48\\nsamples = 10\\nvalue = [4, 6]'),\n",
              " Text(0.22059349302824455, 0.2708333333333333, 'X[2] <= 3.1\\ngini = 0.32\\nsamples = 5\\nvalue = [1, 4]'),\n",
              " Text(0.21916338934572757, 0.22916666666666666, 'gini = 0.0\\nsamples = 4\\nvalue = [0, 4]'),\n",
              " Text(0.22202359671076152, 0.22916666666666666, 'gini = 0.0\\nsamples = 1\\nvalue = [1, 0]'),\n",
              " Text(0.22631390775831248, 0.2708333333333333, 'X[0] <= 10.55\\ngini = 0.48\\nsamples = 5\\nvalue = [3, 2]'),\n",
              " Text(0.2248838040757955, 0.22916666666666666, 'gini = 0.0\\nsamples = 2\\nvalue = [2, 0]'),\n",
              " Text(0.22774401144082945, 0.22916666666666666, 'X[2] <= 3.075\\ngini = 0.444\\nsamples = 3\\nvalue = [1, 2]'),\n",
              " Text(0.22631390775831248, 0.1875, 'gini = 0.0\\nsamples = 2\\nvalue = [0, 2]'),\n",
              " Text(0.22917411512334646, 0.1875, 'gini = 0.0\\nsamples = 1\\nvalue = [1, 0]'),\n",
              " Text(0.22631390775831248, 0.3125, 'gini = 0.0\\nsamples = 2\\nvalue = [0, 2]'),\n",
              " Text(0.22774401144082945, 0.4375, 'X[1] <= 2.45\\ngini = 0.26\\nsamples = 13\\nvalue = [11, 2]'),\n",
              " Text(0.22631390775831248, 0.3958333333333333, 'gini = 0.0\\nsamples = 9\\nvalue = [9, 0]'),\n",
              " Text(0.22917411512334646, 0.3958333333333333, 'X[0] <= 9.9\\ngini = 0.5\\nsamples = 4\\nvalue = [2, 2]'),\n",
              " Text(0.22774401144082945, 0.3541666666666667, 'gini = 0.0\\nsamples = 1\\nvalue = [1, 0]'),\n",
              " Text(0.23060421880586343, 0.3541666666666667, 'X[0] <= 10.25\\ngini = 0.444\\nsamples = 3\\nvalue = [1, 2]'),\n",
              " Text(0.22917411512334646, 0.3125, 'gini = 0.0\\nsamples = 2\\nvalue = [0, 2]'),\n",
              " Text(0.2320343224883804, 0.3125, 'gini = 0.0\\nsamples = 1\\nvalue = [1, 0]'),\n",
              " Text(0.23060421880586343, 0.5208333333333334, 'X[1] <= 2.25\\ngini = 0.388\\nsamples = 19\\nvalue = [14, 5]'),\n",
              " Text(0.22917411512334646, 0.4791666666666667, 'gini = 0.0\\nsamples = 12\\nvalue = [12, 0]'),\n",
              " Text(0.2320343224883804, 0.4791666666666667, 'X[0] <= 9.85\\ngini = 0.408\\nsamples = 7\\nvalue = [2, 5]'),\n",
              " Text(0.23060421880586343, 0.4375, 'gini = 0.0\\nsamples = 1\\nvalue = [1, 0]'),\n",
              " Text(0.23346442617089738, 0.4375, 'X[1] <= 2.35\\ngini = 0.278\\nsamples = 6\\nvalue = [1, 5]'),\n",
              " Text(0.2320343224883804, 0.3958333333333333, 'gini = 0.0\\nsamples = 4\\nvalue = [0, 4]'),\n",
              " Text(0.23489452985341439, 0.3958333333333333, 'X[2] <= 3.175\\ngini = 0.5\\nsamples = 2\\nvalue = [1, 1]'),\n",
              " Text(0.23346442617089738, 0.3541666666666667, 'gini = 0.0\\nsamples = 1\\nvalue = [1, 0]'),\n",
              " Text(0.23632463353593136, 0.3541666666666667, 'gini = 0.0\\nsamples = 1\\nvalue = [0, 1]'),\n",
              " Text(0.24562030747229174, 0.6041666666666666, 'X[2] <= 3.195\\ngini = 0.439\\nsamples = 40\\nvalue = [13, 27]'),\n",
              " Text(0.24419020378977477, 0.5625, 'gini = 0.0\\nsamples = 8\\nvalue = [0, 8]'),\n",
              " Text(0.24705041115480872, 0.5625, 'X[2] <= 3.215\\ngini = 0.482\\nsamples = 32\\nvalue = [13, 19]'),\n",
              " Text(0.24347515194851627, 0.5208333333333334, 'X[0] <= 10.7\\ngini = 0.484\\nsamples = 17\\nvalue = [10, 7]'),\n",
              " Text(0.2420450482659993, 0.4791666666666667, 'X[1] <= 2.05\\ngini = 0.497\\nsamples = 13\\nvalue = [6, 7]'),\n",
              " Text(0.2391848409009653, 0.4375, 'X[0] <= 10.05\\ngini = 0.278\\nsamples = 6\\nvalue = [5, 1]'),\n",
              " Text(0.23775473721844834, 0.3958333333333333, 'gini = 0.0\\nsamples = 3\\nvalue = [3, 0]'),\n",
              " Text(0.24061494458348232, 0.3958333333333333, 'X[2] <= 3.205\\ngini = 0.444\\nsamples = 3\\nvalue = [2, 1]'),\n",
              " Text(0.2391848409009653, 0.3541666666666667, 'gini = 0.0\\nsamples = 2\\nvalue = [2, 0]'),\n",
              " Text(0.2420450482659993, 0.3541666666666667, 'gini = 0.0\\nsamples = 1\\nvalue = [0, 1]'),\n",
              " Text(0.24490525563103324, 0.4375, 'X[0] <= 10.1\\ngini = 0.245\\nsamples = 7\\nvalue = [1, 6]'),\n",
              " Text(0.24347515194851627, 0.3958333333333333, 'gini = 0.0\\nsamples = 5\\nvalue = [0, 5]'),\n",
              " Text(0.24633535931355025, 0.3958333333333333, 'X[0] <= 10.4\\ngini = 0.5\\nsamples = 2\\nvalue = [1, 1]'),\n",
              " Text(0.24490525563103324, 0.3541666666666667, 'gini = 0.0\\nsamples = 1\\nvalue = [1, 0]'),\n",
              " Text(0.24776546299606722, 0.3541666666666667, 'gini = 0.0\\nsamples = 1\\nvalue = [0, 1]'),\n",
              " Text(0.24490525563103324, 0.4791666666666667, 'gini = 0.0\\nsamples = 4\\nvalue = [4, 0]'),\n",
              " Text(0.25062567036110117, 0.5208333333333334, 'X[0] <= 10.2\\ngini = 0.32\\nsamples = 15\\nvalue = [3, 12]'),\n",
              " Text(0.2491955666785842, 0.4791666666666667, 'X[0] <= 9.85\\ngini = 0.49\\nsamples = 7\\nvalue = [3, 4]'),\n",
              " Text(0.24776546299606722, 0.4375, 'gini = 0.0\\nsamples = 2\\nvalue = [0, 2]'),\n",
              " Text(0.25062567036110117, 0.4375, 'X[1] <= 2.05\\ngini = 0.48\\nsamples = 5\\nvalue = [3, 2]'),\n",
              " Text(0.2491955666785842, 0.3958333333333333, 'gini = 0.0\\nsamples = 2\\nvalue = [0, 2]'),\n",
              " Text(0.2520557740436182, 0.3958333333333333, 'gini = 0.0\\nsamples = 3\\nvalue = [3, 0]'),\n",
              " Text(0.2520557740436182, 0.4791666666666667, 'gini = 0.0\\nsamples = 8\\nvalue = [0, 8]'),\n",
              " Text(0.2642116553450125, 0.6458333333333334, 'X[2] <= 3.04\\ngini = 0.379\\nsamples = 63\\nvalue = [47, 16]'),\n",
              " Text(0.2577761887736861, 0.6041666666666666, 'X[1] <= 2.65\\ngini = 0.32\\nsamples = 5\\nvalue = [1, 4]'),\n",
              " Text(0.25634608509116913, 0.5625, 'gini = 0.0\\nsamples = 1\\nvalue = [1, 0]'),\n",
              " Text(0.2592062924562031, 0.5625, 'gini = 0.0\\nsamples = 4\\nvalue = [0, 4]'),\n",
              " Text(0.27064712191633894, 0.6041666666666666, 'X[0] <= 10.7\\ngini = 0.328\\nsamples = 58\\nvalue = [46, 12]'),\n",
              " Text(0.26206649982123703, 0.5625, 'X[1] <= 2.95\\ngini = 0.229\\nsamples = 38\\nvalue = [33, 5]'),\n",
              " Text(0.2592062924562031, 0.5208333333333334, 'X[1] <= 2.65\\ngini = 0.128\\nsamples = 29\\nvalue = [27, 2]'),\n",
              " Text(0.2577761887736861, 0.4791666666666667, 'X[0] <= 10.2\\ngini = 0.278\\nsamples = 12\\nvalue = [10, 2]'),\n",
              " Text(0.25634608509116913, 0.4375, 'X[2] <= 3.155\\ngini = 0.444\\nsamples = 6\\nvalue = [4, 2]'),\n",
              " Text(0.2549159814086521, 0.3958333333333333, 'gini = 0.0\\nsamples = 2\\nvalue = [0, 2]'),\n",
              " Text(0.2577761887736861, 0.3958333333333333, 'gini = 0.0\\nsamples = 4\\nvalue = [4, 0]'),\n",
              " Text(0.2592062924562031, 0.4375, 'gini = 0.0\\nsamples = 6\\nvalue = [6, 0]'),\n",
              " Text(0.2606363961387201, 0.4791666666666667, 'gini = 0.0\\nsamples = 17\\nvalue = [17, 0]'),\n",
              " Text(0.264926707186271, 0.5208333333333334, 'X[1] <= 3.05\\ngini = 0.444\\nsamples = 9\\nvalue = [6, 3]'),\n",
              " Text(0.26349660350375403, 0.4791666666666667, 'gini = 0.0\\nsamples = 1\\nvalue = [0, 1]'),\n",
              " Text(0.266356810868788, 0.4791666666666667, 'X[2] <= 3.125\\ngini = 0.375\\nsamples = 8\\nvalue = [6, 2]'),\n",
              " Text(0.264926707186271, 0.4375, 'gini = 0.0\\nsamples = 1\\nvalue = [0, 1]'),\n",
              " Text(0.267786914551305, 0.4375, 'X[2] <= 3.165\\ngini = 0.245\\nsamples = 7\\nvalue = [6, 1]'),\n",
              " Text(0.266356810868788, 0.3958333333333333, 'X[1] <= 3.15\\ngini = 0.444\\nsamples = 3\\nvalue = [2, 1]'),\n",
              " Text(0.264926707186271, 0.3541666666666667, 'gini = 0.0\\nsamples = 1\\nvalue = [0, 1]'),\n",
              " Text(0.267786914551305, 0.3541666666666667, 'gini = 0.0\\nsamples = 2\\nvalue = [2, 0]'),\n",
              " Text(0.26921701823382194, 0.3958333333333333, 'gini = 0.0\\nsamples = 4\\nvalue = [4, 0]'),\n",
              " Text(0.27922774401144085, 0.5625, 'X[1] <= 2.85\\ngini = 0.455\\nsamples = 20\\nvalue = [13, 7]'),\n",
              " Text(0.27636753664640684, 0.5208333333333334, 'X[0] <= 10.95\\ngini = 0.375\\nsamples = 16\\nvalue = [12, 4]'),\n",
              " Text(0.2749374329638899, 0.4791666666666667, 'X[1] <= 2.75\\ngini = 0.463\\nsamples = 11\\nvalue = [7, 4]'),\n",
              " Text(0.2735073292813729, 0.4375, 'X[2] <= 3.19\\ngini = 0.49\\nsamples = 7\\nvalue = [3, 4]'),\n",
              " Text(0.27207722559885594, 0.3958333333333333, 'gini = 0.0\\nsamples = 4\\nvalue = [0, 4]'),\n",
              " Text(0.2749374329638899, 0.3958333333333333, 'gini = 0.0\\nsamples = 3\\nvalue = [3, 0]'),\n",
              " Text(0.27636753664640684, 0.4375, 'gini = 0.0\\nsamples = 4\\nvalue = [4, 0]'),\n",
              " Text(0.27779764032892384, 0.4791666666666667, 'gini = 0.0\\nsamples = 5\\nvalue = [5, 0]'),\n",
              " Text(0.2820879513764748, 0.5208333333333334, 'X[2] <= 3.175\\ngini = 0.375\\nsamples = 4\\nvalue = [1, 3]'),\n",
              " Text(0.2806578476939578, 0.4791666666666667, 'gini = 0.0\\nsamples = 3\\nvalue = [0, 3]'),\n",
              " Text(0.2835180550589918, 0.4791666666666667, 'gini = 0.0\\nsamples = 1\\nvalue = [1, 0]'),\n",
              " Text(0.3024669288523418, 0.7708333333333334, 'X[2] <= 3.195\\ngini = 0.384\\nsamples = 54\\nvalue = [14, 40]'),\n",
              " Text(0.29567393636038614, 0.7291666666666666, 'X[2] <= 2.785\\ngini = 0.292\\nsamples = 45\\nvalue = [8, 37]'),\n",
              " Text(0.29424383267786913, 0.6875, 'gini = 0.0\\nsamples = 1\\nvalue = [1, 0]'),\n",
              " Text(0.2971040400429031, 0.6875, 'X[2] <= 3.115\\ngini = 0.268\\nsamples = 44\\nvalue = [7, 37]'),\n",
              " Text(0.29352878083661066, 0.6458333333333334, 'X[0] <= 10.75\\ngini = 0.147\\nsamples = 25\\nvalue = [2, 23]'),\n",
              " Text(0.2906685734715767, 0.6041666666666666, 'X[1] <= 3.45\\ngini = 0.083\\nsamples = 23\\nvalue = [1, 22]'),\n",
              " Text(0.2892384697890597, 0.5625, 'X[2] <= 3.065\\ngini = 0.375\\nsamples = 4\\nvalue = [1, 3]'),\n",
              " Text(0.2878083661065427, 0.5208333333333334, 'X[2] <= 2.995\\ngini = 0.5\\nsamples = 2\\nvalue = [1, 1]'),\n",
              " Text(0.28637826242402575, 0.4791666666666667, 'gini = 0.0\\nsamples = 1\\nvalue = [0, 1]'),\n",
              " Text(0.2892384697890597, 0.4791666666666667, 'gini = 0.0\\nsamples = 1\\nvalue = [1, 0]'),\n",
              " Text(0.2906685734715767, 0.5208333333333334, 'gini = 0.0\\nsamples = 2\\nvalue = [0, 2]'),\n",
              " Text(0.29209867715409366, 0.5625, 'gini = 0.0\\nsamples = 19\\nvalue = [0, 19]'),\n",
              " Text(0.2963889882016446, 0.6041666666666666, 'X[2] <= 3.06\\ngini = 0.5\\nsamples = 2\\nvalue = [1, 1]'),\n",
              " Text(0.29495888451912766, 0.5625, 'gini = 0.0\\nsamples = 1\\nvalue = [1, 0]'),\n",
              " Text(0.2978190918841616, 0.5625, 'gini = 0.0\\nsamples = 1\\nvalue = [0, 1]'),\n",
              " Text(0.30067929924919556, 0.6458333333333334, 'X[0] <= 9.25\\ngini = 0.388\\nsamples = 19\\nvalue = [5, 14]'),\n",
              " Text(0.29924919556667856, 0.6041666666666666, 'gini = 0.0\\nsamples = 3\\nvalue = [3, 0]'),\n",
              " Text(0.30210940293171257, 0.6041666666666666, 'X[2] <= 3.135\\ngini = 0.219\\nsamples = 16\\nvalue = [2, 14]'),\n",
              " Text(0.30067929924919556, 0.5625, 'X[0] <= 9.8\\ngini = 0.5\\nsamples = 4\\nvalue = [2, 2]'),\n",
              " Text(0.29924919556667856, 0.5208333333333334, 'gini = 0.0\\nsamples = 2\\nvalue = [2, 0]'),\n",
              " Text(0.30210940293171257, 0.5208333333333334, 'gini = 0.0\\nsamples = 2\\nvalue = [0, 2]'),\n",
              " Text(0.3035395066142295, 0.5625, 'gini = 0.0\\nsamples = 12\\nvalue = [0, 12]'),\n",
              " Text(0.3092599213442975, 0.7291666666666666, 'X[0] <= 10.6\\ngini = 0.444\\nsamples = 9\\nvalue = [6, 3]'),\n",
              " Text(0.30782981766178047, 0.6875, 'X[2] <= 3.205\\ngini = 0.245\\nsamples = 7\\nvalue = [6, 1]'),\n",
              " Text(0.3063997139792635, 0.6458333333333334, 'X[0] <= 9.45\\ngini = 0.5\\nsamples = 2\\nvalue = [1, 1]'),\n",
              " Text(0.3049696102967465, 0.6041666666666666, 'gini = 0.0\\nsamples = 1\\nvalue = [1, 0]'),\n",
              " Text(0.30782981766178047, 0.6041666666666666, 'gini = 0.0\\nsamples = 1\\nvalue = [0, 1]'),\n",
              " Text(0.3092599213442975, 0.6458333333333334, 'gini = 0.0\\nsamples = 5\\nvalue = [5, 0]'),\n",
              " Text(0.3106900250268144, 0.6875, 'gini = 0.0\\nsamples = 2\\nvalue = [0, 2]'),\n",
              " Text(0.4073309572756525, 0.8125, 'X[0] <= 9.95\\ngini = 0.31\\nsamples = 661\\nvalue = [534, 127]'),\n",
              " Text(0.3511798355380765, 0.7708333333333334, 'X[1] <= 2.65\\ngini = 0.155\\nsamples = 306\\nvalue = [280, 26]'),\n",
              " Text(0.3298176617804791, 0.7291666666666666, 'X[1] <= 1.85\\ngini = 0.119\\nsamples = 251\\nvalue = [235, 16]'),\n",
              " Text(0.3149803360743654, 0.6875, 'X[0] <= 9.05\\ngini = 0.256\\nsamples = 53\\nvalue = [45, 8]'),\n",
              " Text(0.3121201287093314, 0.6458333333333334, 'X[2] <= 3.455\\ngini = 0.444\\nsamples = 3\\nvalue = [1, 2]'),\n",
              " Text(0.3106900250268144, 0.6041666666666666, 'gini = 0.0\\nsamples = 2\\nvalue = [0, 2]'),\n",
              " Text(0.3135502323918484, 0.6041666666666666, 'gini = 0.0\\nsamples = 1\\nvalue = [1, 0]'),\n",
              " Text(0.3178405434393994, 0.6458333333333334, 'X[2] <= 3.255\\ngini = 0.211\\nsamples = 50\\nvalue = [44, 6]'),\n",
              " Text(0.3164104397568824, 0.6041666666666666, 'gini = 0.0\\nsamples = 1\\nvalue = [0, 1]'),\n",
              " Text(0.31927064712191633, 0.6041666666666666, 'X[1] <= 1.75\\ngini = 0.183\\nsamples = 49\\nvalue = [44, 5]'),\n",
              " Text(0.3156953879156239, 0.5625, 'X[2] <= 3.495\\ngini = 0.298\\nsamples = 11\\nvalue = [9, 2]'),\n",
              " Text(0.3142652842331069, 0.5208333333333334, 'X[2] <= 3.33\\ngini = 0.18\\nsamples = 10\\nvalue = [9, 1]'),\n",
              " Text(0.3128351805505899, 0.4791666666666667, 'X[0] <= 9.45\\ngini = 0.444\\nsamples = 3\\nvalue = [2, 1]'),\n",
              " Text(0.31140507686807295, 0.4375, 'gini = 0.0\\nsamples = 2\\nvalue = [2, 0]'),\n",
              " Text(0.3142652842331069, 0.4375, 'gini = 0.0\\nsamples = 1\\nvalue = [0, 1]'),\n",
              " Text(0.3156953879156239, 0.4791666666666667, 'gini = 0.0\\nsamples = 7\\nvalue = [7, 0]'),\n",
              " Text(0.31712549159814085, 0.5208333333333334, 'gini = 0.0\\nsamples = 1\\nvalue = [0, 1]'),\n",
              " Text(0.3228459063282088, 0.5625, 'X[0] <= 9.45\\ngini = 0.145\\nsamples = 38\\nvalue = [35, 3]'),\n",
              " Text(0.3199856989631748, 0.5208333333333334, 'X[2] <= 3.37\\ngini = 0.278\\nsamples = 12\\nvalue = [10, 2]'),\n",
              " Text(0.31855559528065786, 0.4791666666666667, 'gini = 0.0\\nsamples = 7\\nvalue = [7, 0]'),\n",
              " Text(0.3214158026456918, 0.4791666666666667, 'X[2] <= 3.48\\ngini = 0.48\\nsamples = 5\\nvalue = [3, 2]'),\n",
              " Text(0.3199856989631748, 0.4375, 'X[2] <= 3.415\\ngini = 0.444\\nsamples = 3\\nvalue = [1, 2]'),\n",
              " Text(0.31855559528065786, 0.3958333333333333, 'X[0] <= 9.3\\ngini = 0.5\\nsamples = 2\\nvalue = [1, 1]'),\n",
              " Text(0.31712549159814085, 0.3541666666666667, 'gini = 0.0\\nsamples = 1\\nvalue = [1, 0]'),\n",
              " Text(0.3199856989631748, 0.3541666666666667, 'gini = 0.0\\nsamples = 1\\nvalue = [0, 1]'),\n",
              " Text(0.3214158026456918, 0.3958333333333333, 'gini = 0.0\\nsamples = 1\\nvalue = [0, 1]'),\n",
              " Text(0.3228459063282088, 0.4375, 'gini = 0.0\\nsamples = 2\\nvalue = [2, 0]'),\n",
              " Text(0.32570611369324276, 0.5208333333333334, 'X[0] <= 9.85\\ngini = 0.074\\nsamples = 26\\nvalue = [25, 1]'),\n",
              " Text(0.32427601001072576, 0.4791666666666667, 'gini = 0.0\\nsamples = 19\\nvalue = [19, 0]'),\n",
              " Text(0.32713621737575976, 0.4791666666666667, 'X[2] <= 3.335\\ngini = 0.245\\nsamples = 7\\nvalue = [6, 1]'),\n",
              " Text(0.32570611369324276, 0.4375, 'gini = 0.0\\nsamples = 1\\nvalue = [0, 1]'),\n",
              " Text(0.3285663210582767, 0.4375, 'gini = 0.0\\nsamples = 6\\nvalue = [6, 0]'),\n",
              " Text(0.3446549874865928, 0.6875, 'X[2] <= 3.485\\ngini = 0.078\\nsamples = 198\\nvalue = [190, 8]'),\n",
              " Text(0.3392920986771541, 0.6458333333333334, 'X[0] <= 9.85\\ngini = 0.047\\nsamples = 165\\nvalue = [161, 4]'),\n",
              " Text(0.3357168394708616, 0.6041666666666666, 'X[0] <= 9.75\\ngini = 0.025\\nsamples = 155\\nvalue = [153, 2]'),\n",
              " Text(0.33285663210582767, 0.5625, 'X[1] <= 2.05\\ngini = 0.015\\nsamples = 136\\nvalue = [135, 1]'),\n",
              " Text(0.33142652842331066, 0.5208333333333334, 'X[1] <= 1.95\\ngini = 0.038\\nsamples = 52\\nvalue = [51, 1]'),\n",
              " Text(0.3299964247407937, 0.4791666666666667, 'gini = 0.0\\nsamples = 30\\nvalue = [30, 0]'),\n",
              " Text(0.33285663210582767, 0.4791666666666667, 'X[2] <= 3.325\\ngini = 0.087\\nsamples = 22\\nvalue = [21, 1]'),\n",
              " Text(0.33142652842331066, 0.4375, 'X[2] <= 3.315\\ngini = 0.165\\nsamples = 11\\nvalue = [10, 1]'),\n",
              " Text(0.3299964247407937, 0.3958333333333333, 'gini = 0.0\\nsamples = 9\\nvalue = [9, 0]'),\n",
              " Text(0.33285663210582767, 0.3958333333333333, 'X[0] <= 9.45\\ngini = 0.5\\nsamples = 2\\nvalue = [1, 1]'),\n",
              " Text(0.33142652842331066, 0.3541666666666667, 'gini = 0.0\\nsamples = 1\\nvalue = [0, 1]'),\n",
              " Text(0.33428673578834467, 0.3541666666666667, 'gini = 0.0\\nsamples = 1\\nvalue = [1, 0]'),\n",
              " Text(0.33428673578834467, 0.4375, 'gini = 0.0\\nsamples = 11\\nvalue = [11, 0]'),\n",
              " Text(0.33428673578834467, 0.5208333333333334, 'gini = 0.0\\nsamples = 84\\nvalue = [84, 0]'),\n",
              " Text(0.3385770468358956, 0.5625, 'X[1] <= 2.45\\ngini = 0.1\\nsamples = 19\\nvalue = [18, 1]'),\n",
              " Text(0.3371469431533786, 0.5208333333333334, 'gini = 0.0\\nsamples = 17\\nvalue = [17, 0]'),\n",
              " Text(0.34000715051841257, 0.5208333333333334, 'X[1] <= 2.55\\ngini = 0.5\\nsamples = 2\\nvalue = [1, 1]'),\n",
              " Text(0.3385770468358956, 0.4791666666666667, 'gini = 0.0\\nsamples = 1\\nvalue = [0, 1]'),\n",
              " Text(0.3414372542009296, 0.4791666666666667, 'gini = 0.0\\nsamples = 1\\nvalue = [1, 0]'),\n",
              " Text(0.3428673578834466, 0.6041666666666666, 'X[1] <= 1.95\\ngini = 0.32\\nsamples = 10\\nvalue = [8, 2]'),\n",
              " Text(0.3414372542009296, 0.5625, 'gini = 0.0\\nsamples = 1\\nvalue = [0, 1]'),\n",
              " Text(0.3442974615659635, 0.5625, 'X[1] <= 2.4\\ngini = 0.198\\nsamples = 9\\nvalue = [8, 1]'),\n",
              " Text(0.3428673578834466, 0.5208333333333334, 'gini = 0.0\\nsamples = 7\\nvalue = [7, 0]'),\n",
              " Text(0.34572756524848053, 0.5208333333333334, 'X[2] <= 3.355\\ngini = 0.5\\nsamples = 2\\nvalue = [1, 1]'),\n",
              " Text(0.3442974615659635, 0.4791666666666667, 'gini = 0.0\\nsamples = 1\\nvalue = [0, 1]'),\n",
              " Text(0.3471576689309975, 0.4791666666666667, 'gini = 0.0\\nsamples = 1\\nvalue = [1, 0]'),\n",
              " Text(0.3500178762960315, 0.6458333333333334, 'X[2] <= 3.505\\ngini = 0.213\\nsamples = 33\\nvalue = [29, 4]'),\n",
              " Text(0.3485877726135145, 0.6041666666666666, 'X[1] <= 2.05\\ngini = 0.48\\nsamples = 10\\nvalue = [6, 4]'),\n",
              " Text(0.3471576689309975, 0.5625, 'gini = 0.0\\nsamples = 2\\nvalue = [0, 2]'),\n",
              " Text(0.3500178762960315, 0.5625, 'X[1] <= 2.35\\ngini = 0.375\\nsamples = 8\\nvalue = [6, 2]'),\n",
              " Text(0.3485877726135145, 0.5208333333333334, 'gini = 0.0\\nsamples = 3\\nvalue = [3, 0]'),\n",
              " Text(0.35144797997854843, 0.5208333333333334, 'X[1] <= 2.45\\ngini = 0.48\\nsamples = 5\\nvalue = [3, 2]'),\n",
              " Text(0.3500178762960315, 0.4791666666666667, 'gini = 0.0\\nsamples = 2\\nvalue = [0, 2]'),\n",
              " Text(0.35287808366106543, 0.4791666666666667, 'gini = 0.0\\nsamples = 3\\nvalue = [3, 0]'),\n",
              " Text(0.35144797997854843, 0.6041666666666666, 'gini = 0.0\\nsamples = 23\\nvalue = [23, 0]'),\n",
              " Text(0.37254200929567394, 0.7291666666666666, 'X[2] <= 3.435\\ngini = 0.298\\nsamples = 55\\nvalue = [45, 10]'),\n",
              " Text(0.37111190561315693, 0.6875, 'X[2] <= 3.395\\ngini = 0.335\\nsamples = 47\\nvalue = [37, 10]'),\n",
              " Text(0.36968180193064, 0.6458333333333334, 'X[2] <= 3.315\\ngini = 0.292\\nsamples = 45\\nvalue = [37, 8]'),\n",
              " Text(0.36503396496245977, 0.6041666666666666, 'X[1] <= 3.625\\ngini = 0.213\\nsamples = 33\\nvalue = [29, 4]'),\n",
              " Text(0.36002860207365034, 0.5625, 'X[2] <= 3.245\\ngini = 0.137\\nsamples = 27\\nvalue = [25, 2]'),\n",
              " Text(0.3571683947086164, 0.5208333333333334, 'X[0] <= 9.6\\ngini = 0.5\\nsamples = 2\\nvalue = [1, 1]'),\n",
              " Text(0.3557382910260994, 0.4791666666666667, 'gini = 0.0\\nsamples = 1\\nvalue = [0, 1]'),\n",
              " Text(0.35859849839113334, 0.4791666666666667, 'gini = 0.0\\nsamples = 1\\nvalue = [1, 0]'),\n",
              " Text(0.3628888094386843, 0.5208333333333334, 'X[0] <= 9.75\\ngini = 0.077\\nsamples = 25\\nvalue = [24, 1]'),\n",
              " Text(0.36145870575616734, 0.4791666666666667, 'gini = 0.0\\nsamples = 19\\nvalue = [19, 0]'),\n",
              " Text(0.3643189131212013, 0.4791666666666667, 'X[1] <= 3.15\\ngini = 0.278\\nsamples = 6\\nvalue = [5, 1]'),\n",
              " Text(0.3628888094386843, 0.4375, 'X[2] <= 3.285\\ngini = 0.444\\nsamples = 3\\nvalue = [2, 1]'),\n",
              " Text(0.36145870575616734, 0.3958333333333333, 'X[1] <= 2.8\\ngini = 0.5\\nsamples = 2\\nvalue = [1, 1]'),\n",
              " Text(0.36002860207365034, 0.3541666666666667, 'gini = 0.0\\nsamples = 1\\nvalue = [1, 0]'),\n",
              " Text(0.3628888094386843, 0.3541666666666667, 'gini = 0.0\\nsamples = 1\\nvalue = [0, 1]'),\n",
              " Text(0.3643189131212013, 0.3958333333333333, 'gini = 0.0\\nsamples = 1\\nvalue = [1, 0]'),\n",
              " Text(0.3657490168037183, 0.4375, 'gini = 0.0\\nsamples = 3\\nvalue = [3, 0]'),\n",
              " Text(0.3700393278512692, 0.5625, 'X[0] <= 9.45\\ngini = 0.444\\nsamples = 6\\nvalue = [4, 2]'),\n",
              " Text(0.36860922416875225, 0.5208333333333334, 'gini = 0.0\\nsamples = 3\\nvalue = [3, 0]'),\n",
              " Text(0.3714694315337862, 0.5208333333333334, 'X[0] <= 9.6\\ngini = 0.444\\nsamples = 3\\nvalue = [1, 2]'),\n",
              " Text(0.3700393278512692, 0.4791666666666667, 'X[2] <= 3.295\\ngini = 0.5\\nsamples = 2\\nvalue = [1, 1]'),\n",
              " Text(0.36860922416875225, 0.4375, 'gini = 0.0\\nsamples = 1\\nvalue = [1, 0]'),\n",
              " Text(0.3714694315337862, 0.4375, 'gini = 0.0\\nsamples = 1\\nvalue = [0, 1]'),\n",
              " Text(0.3728995352163032, 0.4791666666666667, 'gini = 0.0\\nsamples = 1\\nvalue = [0, 1]'),\n",
              " Text(0.37432963889882015, 0.6041666666666666, 'X[1] <= 2.75\\ngini = 0.444\\nsamples = 12\\nvalue = [8, 4]'),\n",
              " Text(0.3728995352163032, 0.5625, 'gini = 0.0\\nsamples = 2\\nvalue = [0, 2]'),\n",
              " Text(0.37575974258133715, 0.5625, 'X[2] <= 3.35\\ngini = 0.32\\nsamples = 10\\nvalue = [8, 2]'),\n",
              " Text(0.37432963889882015, 0.5208333333333334, 'gini = 0.0\\nsamples = 5\\nvalue = [5, 0]'),\n",
              " Text(0.37718984626385416, 0.5208333333333334, 'X[1] <= 2.9\\ngini = 0.48\\nsamples = 5\\nvalue = [3, 2]'),\n",
              " Text(0.37575974258133715, 0.4791666666666667, 'gini = 0.0\\nsamples = 1\\nvalue = [0, 1]'),\n",
              " Text(0.3786199499463711, 0.4791666666666667, 'X[1] <= 3.1\\ngini = 0.375\\nsamples = 4\\nvalue = [3, 1]'),\n",
              " Text(0.37718984626385416, 0.4375, 'gini = 0.0\\nsamples = 2\\nvalue = [2, 0]'),\n",
              " Text(0.3800500536288881, 0.4375, 'X[0] <= 9.45\\ngini = 0.5\\nsamples = 2\\nvalue = [1, 1]'),\n",
              " Text(0.3786199499463711, 0.3958333333333333, 'gini = 0.0\\nsamples = 1\\nvalue = [1, 0]'),\n",
              " Text(0.38148015731140505, 0.3958333333333333, 'gini = 0.0\\nsamples = 1\\nvalue = [0, 1]'),\n",
              " Text(0.37254200929567394, 0.6458333333333334, 'gini = 0.0\\nsamples = 2\\nvalue = [0, 2]'),\n",
              " Text(0.37397211297819094, 0.6875, 'gini = 0.0\\nsamples = 8\\nvalue = [8, 0]'),\n",
              " Text(0.46348207901322847, 0.7708333333333334, 'X[2] <= 3.615\\ngini = 0.407\\nsamples = 355\\nvalue = [254, 101]'),\n",
              " Text(0.4297796746514122, 0.7291666666666666, 'X[2] <= 3.285\\ngini = 0.394\\nsamples = 345\\nvalue = [252, 93]'),\n",
              " Text(0.3880050053628888, 0.6875, 'X[1] <= 1.85\\ngini = 0.496\\nsamples = 55\\nvalue = [30, 25]'),\n",
              " Text(0.38148015731140505, 0.6458333333333334, 'X[0] <= 10.7\\ngini = 0.346\\nsamples = 9\\nvalue = [2, 7]'),\n",
              " Text(0.3800500536288881, 0.6041666666666666, 'gini = 0.0\\nsamples = 5\\nvalue = [0, 5]'),\n",
              " Text(0.38291026099392206, 0.6041666666666666, 'X[0] <= 10.95\\ngini = 0.5\\nsamples = 4\\nvalue = [2, 2]'),\n",
              " Text(0.38148015731140505, 0.5625, 'X[1] <= 1.75\\ngini = 0.444\\nsamples = 3\\nvalue = [2, 1]'),\n",
              " Text(0.3800500536288881, 0.5208333333333334, 'gini = 0.0\\nsamples = 1\\nvalue = [1, 0]'),\n",
              " Text(0.38291026099392206, 0.5208333333333334, 'gini = 0.5\\nsamples = 2\\nvalue = [1, 1]'),\n",
              " Text(0.38434036467643906, 0.5625, 'gini = 0.0\\nsamples = 1\\nvalue = [0, 1]'),\n",
              " Text(0.3945298534143725, 0.6458333333333334, 'X[0] <= 10.15\\ngini = 0.476\\nsamples = 46\\nvalue = [28, 18]'),\n",
              " Text(0.38863067572399, 0.6041666666666666, 'X[1] <= 2.8\\ngini = 0.198\\nsamples = 9\\nvalue = [8, 1]'),\n",
              " Text(0.387200572041473, 0.5625, 'gini = 0.0\\nsamples = 5\\nvalue = [5, 0]'),\n",
              " Text(0.39006077940650696, 0.5625, 'X[1] <= 3.45\\ngini = 0.375\\nsamples = 4\\nvalue = [3, 1]'),\n",
              " Text(0.38863067572399, 0.5208333333333334, 'gini = 0.0\\nsamples = 1\\nvalue = [0, 1]'),\n",
              " Text(0.39149088308902397, 0.5208333333333334, 'gini = 0.0\\nsamples = 3\\nvalue = [3, 0]'),\n",
              " Text(0.4004290311047551, 0.6041666666666666, 'X[2] <= 3.265\\ngini = 0.497\\nsamples = 37\\nvalue = [20, 17]'),\n",
              " Text(0.3957811941365749, 0.5625, 'X[0] <= 10.25\\ngini = 0.435\\nsamples = 25\\nvalue = [17, 8]'),\n",
              " Text(0.3943510904540579, 0.5208333333333334, 'gini = 0.0\\nsamples = 3\\nvalue = [3, 0]'),\n",
              " Text(0.39721129781909187, 0.5208333333333334, 'X[2] <= 3.245\\ngini = 0.463\\nsamples = 22\\nvalue = [14, 8]'),\n",
              " Text(0.39220593493028244, 0.4791666666666667, 'X[0] <= 10.35\\ngini = 0.32\\nsamples = 10\\nvalue = [8, 2]'),\n",
              " Text(0.39077583124776544, 0.4375, 'gini = 0.0\\nsamples = 1\\nvalue = [0, 1]'),\n",
              " Text(0.39363603861279944, 0.4375, 'X[1] <= 2.15\\ngini = 0.198\\nsamples = 9\\nvalue = [8, 1]'),\n",
              " Text(0.39220593493028244, 0.3958333333333333, 'X[0] <= 10.5\\ngini = 0.444\\nsamples = 3\\nvalue = [2, 1]'),\n",
              " Text(0.39077583124776544, 0.3541666666666667, 'gini = 0.5\\nsamples = 2\\nvalue = [1, 1]'),\n",
              " Text(0.39363603861279944, 0.3541666666666667, 'gini = 0.0\\nsamples = 1\\nvalue = [1, 0]'),\n",
              " Text(0.3950661422953164, 0.3958333333333333, 'gini = 0.0\\nsamples = 6\\nvalue = [6, 0]'),\n",
              " Text(0.4022166607079013, 0.4791666666666667, 'X[1] <= 2.3\\ngini = 0.5\\nsamples = 12\\nvalue = [6, 6]'),\n",
              " Text(0.39935645334286735, 0.4375, 'X[1] <= 2.05\\ngini = 0.375\\nsamples = 4\\nvalue = [3, 1]'),\n",
              " Text(0.3979263496603504, 0.3958333333333333, 'gini = 0.0\\nsamples = 1\\nvalue = [0, 1]'),\n",
              " Text(0.40078655702538435, 0.3958333333333333, 'gini = 0.0\\nsamples = 3\\nvalue = [3, 0]'),\n",
              " Text(0.4050768680729353, 0.4375, 'X[2] <= 3.255\\ngini = 0.469\\nsamples = 8\\nvalue = [3, 5]'),\n",
              " Text(0.4036467643904183, 0.3958333333333333, 'gini = 0.0\\nsamples = 4\\nvalue = [0, 4]'),\n",
              " Text(0.40650697175545225, 0.3958333333333333, 'X[0] <= 10.55\\ngini = 0.375\\nsamples = 4\\nvalue = [3, 1]'),\n",
              " Text(0.4050768680729353, 0.3541666666666667, 'gini = 0.0\\nsamples = 1\\nvalue = [0, 1]'),\n",
              " Text(0.40793707543796925, 0.3541666666666667, 'gini = 0.0\\nsamples = 3\\nvalue = [3, 0]'),\n",
              " Text(0.4050768680729353, 0.5625, 'X[0] <= 10.9\\ngini = 0.375\\nsamples = 12\\nvalue = [3, 9]'),\n",
              " Text(0.4036467643904183, 0.5208333333333334, 'gini = 0.0\\nsamples = 7\\nvalue = [0, 7]'),\n",
              " Text(0.40650697175545225, 0.5208333333333334, 'X[1] <= 2.3\\ngini = 0.48\\nsamples = 5\\nvalue = [3, 2]'),\n",
              " Text(0.4050768680729353, 0.4791666666666667, 'gini = 0.0\\nsamples = 2\\nvalue = [0, 2]'),\n",
              " Text(0.40793707543796925, 0.4791666666666667, 'gini = 0.0\\nsamples = 3\\nvalue = [3, 0]'),\n",
              " Text(0.47155434393993567, 0.6875, 'X[2] <= 3.405\\ngini = 0.359\\nsamples = 290\\nvalue = [222, 68]'),\n",
              " Text(0.44878441186986057, 0.6458333333333334, 'X[2] <= 3.395\\ngini = 0.288\\nsamples = 166\\nvalue = [137, 29]'),\n",
              " Text(0.44735430818734356, 0.6041666666666666, 'X[1] <= 2.25\\ngini = 0.306\\nsamples = 154\\nvalue = [125, 29]'),\n",
              " Text(0.43457275652484806, 0.5625, 'X[0] <= 10.15\\ngini = 0.347\\nsamples = 94\\nvalue = [73, 21]'),\n",
              " Text(0.43314265284233106, 0.5208333333333334, 'gini = 0.0\\nsamples = 17\\nvalue = [17, 0]'),\n",
              " Text(0.43600286020736506, 0.5208333333333334, 'X[2] <= 3.365\\ngini = 0.397\\nsamples = 77\\nvalue = [56, 21]'),\n",
              " Text(0.4233106900250268, 0.4791666666666667, 'X[2] <= 3.325\\ngini = 0.348\\nsamples = 58\\nvalue = [45, 13]'),\n",
              " Text(0.41723274937432964, 0.4375, 'X[0] <= 10.45\\ngini = 0.444\\nsamples = 30\\nvalue = [20, 10]'),\n",
              " Text(0.4122273864855202, 0.3958333333333333, 'X[2] <= 3.315\\ngini = 0.494\\nsamples = 9\\nvalue = [4, 5]'),\n",
              " Text(0.4107972828030032, 0.3541666666666667, 'X[1] <= 1.85\\ngini = 0.49\\nsamples = 7\\nvalue = [4, 3]'),\n",
              " Text(0.40936717912048626, 0.3125, 'gini = 0.0\\nsamples = 1\\nvalue = [0, 1]'),\n",
              " Text(0.4122273864855202, 0.3125, 'X[2] <= 3.305\\ngini = 0.444\\nsamples = 6\\nvalue = [4, 2]'),\n",
              " Text(0.4107972828030032, 0.2708333333333333, 'X[0] <= 10.35\\ngini = 0.5\\nsamples = 4\\nvalue = [2, 2]'),\n",
              " Text(0.40936717912048626, 0.22916666666666666, 'X[1] <= 2.1\\ngini = 0.444\\nsamples = 3\\nvalue = [2, 1]'),\n",
              " Text(0.40793707543796925, 0.1875, 'gini = 0.0\\nsamples = 1\\nvalue = [1, 0]'),\n",
              " Text(0.4107972828030032, 0.1875, 'X[0] <= 10.25\\ngini = 0.5\\nsamples = 2\\nvalue = [1, 1]'),\n",
              " Text(0.40936717912048626, 0.14583333333333334, 'gini = 0.0\\nsamples = 1\\nvalue = [0, 1]'),\n",
              " Text(0.4122273864855202, 0.14583333333333334, 'gini = 0.0\\nsamples = 1\\nvalue = [1, 0]'),\n",
              " Text(0.4122273864855202, 0.22916666666666666, 'gini = 0.0\\nsamples = 1\\nvalue = [0, 1]'),\n",
              " Text(0.41365749016803716, 0.2708333333333333, 'gini = 0.0\\nsamples = 2\\nvalue = [2, 0]'),\n",
              " Text(0.41365749016803716, 0.3541666666666667, 'gini = 0.0\\nsamples = 2\\nvalue = [0, 2]'),\n",
              " Text(0.42223811226313906, 0.3958333333333333, 'X[1] <= 2.05\\ngini = 0.363\\nsamples = 21\\nvalue = [16, 5]'),\n",
              " Text(0.4208080085806221, 0.3541666666666667, 'X[2] <= 3.295\\ngini = 0.43\\nsamples = 16\\nvalue = [11, 5]'),\n",
              " Text(0.4179478012155881, 0.3125, 'X[0] <= 10.65\\ngini = 0.444\\nsamples = 3\\nvalue = [1, 2]'),\n",
              " Text(0.41651769753307116, 0.2708333333333333, 'gini = 0.0\\nsamples = 2\\nvalue = [0, 2]'),\n",
              " Text(0.4193779048981051, 0.2708333333333333, 'gini = 0.0\\nsamples = 1\\nvalue = [1, 0]'),\n",
              " Text(0.42366821594565607, 0.3125, 'X[1] <= 1.95\\ngini = 0.355\\nsamples = 13\\nvalue = [10, 3]'),\n",
              " Text(0.42223811226313906, 0.2708333333333333, 'X[0] <= 10.575\\ngini = 0.298\\nsamples = 11\\nvalue = [9, 2]'),\n",
              " Text(0.4208080085806221, 0.22916666666666666, 'gini = 0.0\\nsamples = 5\\nvalue = [5, 0]'),\n",
              " Text(0.42366821594565607, 0.22916666666666666, 'X[1] <= 1.85\\ngini = 0.444\\nsamples = 6\\nvalue = [4, 2]'),\n",
              " Text(0.42223811226313906, 0.1875, 'X[1] <= 1.75\\ngini = 0.5\\nsamples = 4\\nvalue = [2, 2]'),\n",
              " Text(0.4208080085806221, 0.14583333333333334, 'gini = 0.0\\nsamples = 1\\nvalue = [1, 0]'),\n",
              " Text(0.42366821594565607, 0.14583333333333334, 'X[0] <= 10.7\\ngini = 0.444\\nsamples = 3\\nvalue = [1, 2]'),\n",
              " Text(0.42223811226313906, 0.10416666666666667, 'X[2] <= 3.315\\ngini = 0.5\\nsamples = 2\\nvalue = [1, 1]'),\n",
              " Text(0.4208080085806221, 0.0625, 'gini = 0.0\\nsamples = 1\\nvalue = [0, 1]'),\n",
              " Text(0.42366821594565607, 0.0625, 'gini = 0.0\\nsamples = 1\\nvalue = [1, 0]'),\n",
              " Text(0.425098319628173, 0.10416666666666667, 'gini = 0.0\\nsamples = 1\\nvalue = [0, 1]'),\n",
              " Text(0.425098319628173, 0.1875, 'gini = 0.0\\nsamples = 2\\nvalue = [2, 0]'),\n",
              " Text(0.425098319628173, 0.2708333333333333, 'gini = 0.5\\nsamples = 2\\nvalue = [1, 1]'),\n",
              " Text(0.42366821594565607, 0.3541666666666667, 'gini = 0.0\\nsamples = 5\\nvalue = [5, 0]'),\n",
              " Text(0.42938863067572397, 0.4375, 'X[0] <= 10.55\\ngini = 0.191\\nsamples = 28\\nvalue = [25, 3]'),\n",
              " Text(0.427958526993207, 0.3958333333333333, 'gini = 0.0\\nsamples = 16\\nvalue = [16, 0]'),\n",
              " Text(0.430818734358241, 0.3958333333333333, 'X[1] <= 1.85\\ngini = 0.375\\nsamples = 12\\nvalue = [9, 3]'),\n",
              " Text(0.427958526993207, 0.3541666666666667, 'X[0] <= 10.85\\ngini = 0.444\\nsamples = 3\\nvalue = [1, 2]'),\n",
              " Text(0.42652842331069, 0.3125, 'gini = 0.0\\nsamples = 2\\nvalue = [0, 2]'),\n",
              " Text(0.42938863067572397, 0.3125, 'gini = 0.0\\nsamples = 1\\nvalue = [1, 0]'),\n",
              " Text(0.4336789417232749, 0.3541666666666667, 'X[1] <= 2.15\\ngini = 0.198\\nsamples = 9\\nvalue = [8, 1]'),\n",
              " Text(0.432248838040758, 0.3125, 'gini = 0.0\\nsamples = 8\\nvalue = [8, 0]'),\n",
              " Text(0.4351090454057919, 0.3125, 'gini = 0.0\\nsamples = 1\\nvalue = [0, 1]'),\n",
              " Text(0.44869503038970326, 0.4791666666666667, 'X[1] <= 1.95\\ngini = 0.488\\nsamples = 19\\nvalue = [11, 8]'),\n",
              " Text(0.44368966750089384, 0.4375, 'X[1] <= 1.85\\ngini = 0.32\\nsamples = 10\\nvalue = [8, 2]'),\n",
              " Text(0.44225956381837683, 0.3958333333333333, 'X[0] <= 10.65\\ngini = 0.408\\nsamples = 7\\nvalue = [5, 2]'),\n",
              " Text(0.4393993564533429, 0.3541666666666667, 'X[1] <= 1.75\\ngini = 0.32\\nsamples = 5\\nvalue = [4, 1]'),\n",
              " Text(0.4379692527708259, 0.3125, 'gini = 0.0\\nsamples = 3\\nvalue = [3, 0]'),\n",
              " Text(0.44082946013585983, 0.3125, 'X[2] <= 3.38\\ngini = 0.5\\nsamples = 2\\nvalue = [1, 1]'),\n",
              " Text(0.4393993564533429, 0.2708333333333333, 'gini = 0.0\\nsamples = 1\\nvalue = [1, 0]'),\n",
              " Text(0.44225956381837683, 0.2708333333333333, 'gini = 0.0\\nsamples = 1\\nvalue = [0, 1]'),\n",
              " Text(0.4451197711834108, 0.3541666666666667, 'X[1] <= 1.75\\ngini = 0.5\\nsamples = 2\\nvalue = [1, 1]'),\n",
              " Text(0.44368966750089384, 0.3125, 'gini = 0.0\\nsamples = 1\\nvalue = [0, 1]'),\n",
              " Text(0.4465498748659278, 0.3125, 'gini = 0.0\\nsamples = 1\\nvalue = [1, 0]'),\n",
              " Text(0.4451197711834108, 0.3958333333333333, 'gini = 0.0\\nsamples = 3\\nvalue = [3, 0]'),\n",
              " Text(0.4537003932785127, 0.4375, 'X[0] <= 10.8\\ngini = 0.444\\nsamples = 9\\nvalue = [3, 6]'),\n",
              " Text(0.4522702895959957, 0.3958333333333333, 'X[0] <= 10.55\\ngini = 0.48\\nsamples = 5\\nvalue = [3, 2]'),\n",
              " Text(0.45084018591347874, 0.3541666666666667, 'X[0] <= 10.35\\ngini = 0.444\\nsamples = 3\\nvalue = [1, 2]'),\n",
              " Text(0.44941008223096174, 0.3125, 'gini = 0.0\\nsamples = 1\\nvalue = [1, 0]'),\n",
              " Text(0.4522702895959957, 0.3125, 'gini = 0.0\\nsamples = 2\\nvalue = [0, 2]'),\n",
              " Text(0.4537003932785127, 0.3541666666666667, 'gini = 0.0\\nsamples = 2\\nvalue = [2, 0]'),\n",
              " Text(0.4551304969610297, 0.3958333333333333, 'gini = 0.0\\nsamples = 4\\nvalue = [0, 4]'),\n",
              " Text(0.4601358598498391, 0.5625, 'X[1] <= 2.65\\ngini = 0.231\\nsamples = 60\\nvalue = [52, 8]'),\n",
              " Text(0.4587057561673221, 0.5208333333333334, 'gini = 0.0\\nsamples = 30\\nvalue = [30, 0]'),\n",
              " Text(0.46156596353235607, 0.5208333333333334, 'X[0] <= 10.25\\ngini = 0.391\\nsamples = 30\\nvalue = [22, 8]'),\n",
              " Text(0.45799070432606365, 0.4791666666666667, 'X[1] <= 3.2\\ngini = 0.278\\nsamples = 6\\nvalue = [1, 5]'),\n",
              " Text(0.45656060064354664, 0.4375, 'gini = 0.0\\nsamples = 5\\nvalue = [0, 5]'),\n",
              " Text(0.4594208080085806, 0.4375, 'gini = 0.0\\nsamples = 1\\nvalue = [1, 0]'),\n",
              " Text(0.46514122273864855, 0.4791666666666667, 'X[0] <= 10.85\\ngini = 0.219\\nsamples = 24\\nvalue = [21, 3]'),\n",
              " Text(0.4622810153736146, 0.4375, 'X[1] <= 3.75\\ngini = 0.095\\nsamples = 20\\nvalue = [19, 1]'),\n",
              " Text(0.4608509116910976, 0.3958333333333333, 'gini = 0.0\\nsamples = 18\\nvalue = [18, 0]'),\n",
              " Text(0.46371111905613155, 0.3958333333333333, 'X[2] <= 3.355\\ngini = 0.5\\nsamples = 2\\nvalue = [1, 1]'),\n",
              " Text(0.4622810153736146, 0.3541666666666667, 'gini = 0.0\\nsamples = 1\\nvalue = [0, 1]'),\n",
              " Text(0.46514122273864855, 0.3541666666666667, 'gini = 0.0\\nsamples = 1\\nvalue = [1, 0]'),\n",
              " Text(0.4680014301036825, 0.4375, 'X[2] <= 3.32\\ngini = 0.5\\nsamples = 4\\nvalue = [2, 2]'),\n",
              " Text(0.46657132642116556, 0.3958333333333333, 'gini = 0.0\\nsamples = 2\\nvalue = [0, 2]'),\n",
              " Text(0.4694315337861995, 0.3958333333333333, 'gini = 0.0\\nsamples = 2\\nvalue = [2, 0]'),\n",
              " Text(0.45021451555237757, 0.6041666666666666, 'gini = 0.0\\nsamples = 12\\nvalue = [12, 0]'),\n",
              " Text(0.4943242760100107, 0.6458333333333334, 'X[1] <= 1.75\\ngini = 0.431\\nsamples = 124\\nvalue = [85, 39]'),\n",
              " Text(0.47372184483375046, 0.6041666666666666, 'X[2] <= 3.505\\ngini = 0.473\\nsamples = 13\\nvalue = [5, 8]'),\n",
              " Text(0.47229174115123346, 0.5625, 'X[2] <= 3.445\\ngini = 0.397\\nsamples = 11\\nvalue = [3, 8]'),\n",
              " Text(0.4708616374687165, 0.5208333333333334, 'X[0] <= 10.35\\ngini = 0.48\\nsamples = 5\\nvalue = [3, 2]'),\n",
              " Text(0.4694315337861995, 0.4791666666666667, 'gini = 0.0\\nsamples = 2\\nvalue = [2, 0]'),\n",
              " Text(0.47229174115123346, 0.4791666666666667, 'X[0] <= 10.475\\ngini = 0.444\\nsamples = 3\\nvalue = [1, 2]'),\n",
              " Text(0.4708616374687165, 0.4375, 'gini = 0.0\\nsamples = 1\\nvalue = [0, 1]'),\n",
              " Text(0.47372184483375046, 0.4375, 'X[0] <= 10.775\\ngini = 0.5\\nsamples = 2\\nvalue = [1, 1]'),\n",
              " Text(0.47229174115123346, 0.3958333333333333, 'gini = 0.0\\nsamples = 1\\nvalue = [1, 0]'),\n",
              " Text(0.4751519485162674, 0.3958333333333333, 'gini = 0.0\\nsamples = 1\\nvalue = [0, 1]'),\n",
              " Text(0.47372184483375046, 0.5208333333333334, 'gini = 0.0\\nsamples = 6\\nvalue = [0, 6]'),\n",
              " Text(0.4751519485162674, 0.5625, 'gini = 0.0\\nsamples = 2\\nvalue = [2, 0]'),\n",
              " Text(0.514926707186271, 0.6041666666666666, 'X[1] <= 3.1\\ngini = 0.403\\nsamples = 111\\nvalue = [80, 31]'),\n",
              " Text(0.5060779406506972, 0.5625, 'X[2] <= 3.525\\ngini = 0.375\\nsamples = 104\\nvalue = [78, 26]'),\n",
              " Text(0.4926707186271005, 0.5208333333333334, 'X[1] <= 1.95\\ngini = 0.419\\nsamples = 77\\nvalue = [54, 23]'),\n",
              " Text(0.4837325706113693, 0.4791666666666667, 'X[2] <= 3.435\\ngini = 0.499\\nsamples = 19\\nvalue = [10, 9]'),\n",
              " Text(0.47944225956381836, 0.4375, 'X[0] <= 10.25\\ngini = 0.375\\nsamples = 8\\nvalue = [2, 6]'),\n",
              " Text(0.4780121558813014, 0.3958333333333333, 'gini = 0.0\\nsamples = 1\\nvalue = [1, 0]'),\n",
              " Text(0.48087236324633537, 0.3958333333333333, 'X[0] <= 10.65\\ngini = 0.245\\nsamples = 7\\nvalue = [1, 6]'),\n",
              " Text(0.47944225956381836, 0.3541666666666667, 'X[1] <= 1.85\\ngini = 0.444\\nsamples = 3\\nvalue = [1, 2]'),\n",
              " Text(0.4780121558813014, 0.3125, 'X[0] <= 10.45\\ngini = 0.5\\nsamples = 2\\nvalue = [1, 1]'),\n",
              " Text(0.4765820521987844, 0.2708333333333333, 'gini = 0.0\\nsamples = 1\\nvalue = [0, 1]'),\n",
              " Text(0.47944225956381836, 0.2708333333333333, 'gini = 0.0\\nsamples = 1\\nvalue = [1, 0]'),\n",
              " Text(0.48087236324633537, 0.3125, 'gini = 0.0\\nsamples = 1\\nvalue = [0, 1]'),\n",
              " Text(0.48230246692885237, 0.3541666666666667, 'gini = 0.0\\nsamples = 4\\nvalue = [0, 4]'),\n",
              " Text(0.48802288165892027, 0.4375, 'X[2] <= 3.515\\ngini = 0.397\\nsamples = 11\\nvalue = [8, 3]'),\n",
              " Text(0.48659277797640327, 0.3958333333333333, 'X[2] <= 3.48\\ngini = 0.198\\nsamples = 9\\nvalue = [8, 1]'),\n",
              " Text(0.4851626742938863, 0.3541666666666667, 'gini = 0.0\\nsamples = 3\\nvalue = [3, 0]'),\n",
              " Text(0.48802288165892027, 0.3541666666666667, 'X[0] <= 10.45\\ngini = 0.278\\nsamples = 6\\nvalue = [5, 1]'),\n",
              " Text(0.48659277797640327, 0.3125, 'gini = 0.0\\nsamples = 2\\nvalue = [2, 0]'),\n",
              " Text(0.4894529853414373, 0.3125, 'X[0] <= 10.6\\ngini = 0.375\\nsamples = 4\\nvalue = [3, 1]'),\n",
              " Text(0.48802288165892027, 0.2708333333333333, 'gini = 0.444\\nsamples = 3\\nvalue = [2, 1]'),\n",
              " Text(0.4908830890239542, 0.2708333333333333, 'gini = 0.0\\nsamples = 1\\nvalue = [1, 0]'),\n",
              " Text(0.4894529853414373, 0.3958333333333333, 'gini = 0.0\\nsamples = 2\\nvalue = [0, 2]'),\n",
              " Text(0.5016088666428316, 0.4791666666666667, 'X[2] <= 3.445\\ngini = 0.366\\nsamples = 58\\nvalue = [44, 14]'),\n",
              " Text(0.49374329638898823, 0.4375, 'X[1] <= 2.35\\ngini = 0.191\\nsamples = 28\\nvalue = [25, 3]'),\n",
              " Text(0.4923131927064712, 0.3958333333333333, 'gini = 0.0\\nsamples = 16\\nvalue = [16, 0]'),\n",
              " Text(0.4951734000715052, 0.3958333333333333, 'X[1] <= 2.75\\ngini = 0.375\\nsamples = 12\\nvalue = [9, 3]'),\n",
              " Text(0.49374329638898823, 0.3541666666666667, 'X[0] <= 10.3\\ngini = 0.444\\nsamples = 9\\nvalue = [6, 3]'),\n",
              " Text(0.4923131927064712, 0.3125, 'gini = 0.0\\nsamples = 2\\nvalue = [2, 0]'),\n",
              " Text(0.4951734000715052, 0.3125, 'X[0] <= 10.65\\ngini = 0.49\\nsamples = 7\\nvalue = [4, 3]'),\n",
              " Text(0.49374329638898823, 0.2708333333333333, 'gini = 0.0\\nsamples = 2\\nvalue = [0, 2]'),\n",
              " Text(0.4966035037540222, 0.2708333333333333, 'X[2] <= 3.415\\ngini = 0.32\\nsamples = 5\\nvalue = [4, 1]'),\n",
              " Text(0.4951734000715052, 0.22916666666666666, 'gini = 0.0\\nsamples = 1\\nvalue = [0, 1]'),\n",
              " Text(0.4980336074365391, 0.22916666666666666, 'gini = 0.0\\nsamples = 4\\nvalue = [4, 0]'),\n",
              " Text(0.4966035037540222, 0.3541666666666667, 'gini = 0.0\\nsamples = 3\\nvalue = [3, 0]'),\n",
              " Text(0.509474436896675, 0.4375, 'X[2] <= 3.505\\ngini = 0.464\\nsamples = 30\\nvalue = [19, 11]'),\n",
              " Text(0.508044333214158, 0.3958333333333333, 'X[0] <= 10.95\\ngini = 0.497\\nsamples = 24\\nvalue = [13, 11]'),\n",
              " Text(0.506614229531641, 0.3541666666666667, 'X[1] <= 2.8\\ngini = 0.499\\nsamples = 21\\nvalue = [10, 11]'),\n",
              " Text(0.5051841258491241, 0.3125, 'X[1] <= 2.65\\ngini = 0.475\\nsamples = 18\\nvalue = [7, 11]'),\n",
              " Text(0.503754022166607, 0.2708333333333333, 'X[0] <= 10.25\\ngini = 0.5\\nsamples = 14\\nvalue = [7, 7]'),\n",
              " Text(0.5008938148015731, 0.22916666666666666, 'X[2] <= 3.485\\ngini = 0.375\\nsamples = 4\\nvalue = [3, 1]'),\n",
              " Text(0.49946371111905613, 0.1875, 'gini = 0.0\\nsamples = 3\\nvalue = [3, 0]'),\n",
              " Text(0.5023239184840901, 0.1875, 'gini = 0.0\\nsamples = 1\\nvalue = [0, 1]'),\n",
              " Text(0.506614229531641, 0.22916666666666666, 'X[0] <= 10.85\\ngini = 0.48\\nsamples = 10\\nvalue = [4, 6]'),\n",
              " Text(0.5051841258491241, 0.1875, 'X[2] <= 3.475\\ngini = 0.444\\nsamples = 9\\nvalue = [3, 6]'),\n",
              " Text(0.503754022166607, 0.14583333333333334, 'X[0] <= 10.55\\ngini = 0.5\\nsamples = 6\\nvalue = [3, 3]'),\n",
              " Text(0.5023239184840901, 0.10416666666666667, 'gini = 0.0\\nsamples = 2\\nvalue = [2, 0]'),\n",
              " Text(0.5051841258491241, 0.10416666666666667, 'X[1] <= 2.4\\ngini = 0.375\\nsamples = 4\\nvalue = [1, 3]'),\n",
              " Text(0.503754022166607, 0.0625, 'gini = 0.0\\nsamples = 2\\nvalue = [0, 2]'),\n",
              " Text(0.506614229531641, 0.0625, 'X[1] <= 2.55\\ngini = 0.5\\nsamples = 2\\nvalue = [1, 1]'),\n",
              " Text(0.5051841258491241, 0.020833333333333332, 'gini = 0.0\\nsamples = 1\\nvalue = [1, 0]'),\n",
              " Text(0.508044333214158, 0.020833333333333332, 'gini = 0.0\\nsamples = 1\\nvalue = [0, 1]'),\n",
              " Text(0.506614229531641, 0.14583333333333334, 'gini = 0.0\\nsamples = 3\\nvalue = [0, 3]'),\n",
              " Text(0.508044333214158, 0.1875, 'gini = 0.0\\nsamples = 1\\nvalue = [1, 0]'),\n",
              " Text(0.506614229531641, 0.2708333333333333, 'gini = 0.0\\nsamples = 4\\nvalue = [0, 4]'),\n",
              " Text(0.508044333214158, 0.3125, 'gini = 0.0\\nsamples = 3\\nvalue = [3, 0]'),\n",
              " Text(0.509474436896675, 0.3541666666666667, 'gini = 0.0\\nsamples = 3\\nvalue = [3, 0]'),\n",
              " Text(0.510904540579192, 0.3958333333333333, 'gini = 0.0\\nsamples = 6\\nvalue = [6, 0]'),\n",
              " Text(0.5194851626742939, 0.5208333333333334, 'X[2] <= 3.595\\ngini = 0.198\\nsamples = 27\\nvalue = [24, 3]'),\n",
              " Text(0.5166249553092599, 0.4791666666666667, 'X[0] <= 10.1\\ngini = 0.083\\nsamples = 23\\nvalue = [22, 1]'),\n",
              " Text(0.515194851626743, 0.4375, 'X[2] <= 3.56\\ngini = 0.444\\nsamples = 3\\nvalue = [2, 1]'),\n",
              " Text(0.513764747944226, 0.3958333333333333, 'gini = 0.0\\nsamples = 1\\nvalue = [1, 0]'),\n",
              " Text(0.5166249553092599, 0.3958333333333333, 'X[2] <= 3.585\\ngini = 0.5\\nsamples = 2\\nvalue = [1, 1]'),\n",
              " Text(0.515194851626743, 0.3541666666666667, 'gini = 0.0\\nsamples = 1\\nvalue = [0, 1]'),\n",
              " Text(0.518055058991777, 0.3541666666666667, 'gini = 0.0\\nsamples = 1\\nvalue = [1, 0]'),\n",
              " Text(0.518055058991777, 0.4375, 'gini = 0.0\\nsamples = 20\\nvalue = [20, 0]'),\n",
              " Text(0.5223453700393279, 0.4791666666666667, 'X[1] <= 2.15\\ngini = 0.5\\nsamples = 4\\nvalue = [2, 2]'),\n",
              " Text(0.5209152663568108, 0.4375, 'gini = 0.0\\nsamples = 2\\nvalue = [2, 0]'),\n",
              " Text(0.5237754737218449, 0.4375, 'gini = 0.0\\nsamples = 2\\nvalue = [0, 2]'),\n",
              " Text(0.5237754737218449, 0.5625, 'X[0] <= 10.9\\ngini = 0.408\\nsamples = 7\\nvalue = [2, 5]'),\n",
              " Text(0.5223453700393279, 0.5208333333333334, 'gini = 0.0\\nsamples = 5\\nvalue = [0, 5]'),\n",
              " Text(0.5252055774043618, 0.5208333333333334, 'gini = 0.0\\nsamples = 2\\nvalue = [2, 0]'),\n",
              " Text(0.4971844833750447, 0.7291666666666666, 'X[2] <= 3.67\\ngini = 0.32\\nsamples = 10\\nvalue = [2, 8]'),\n",
              " Text(0.4957543796925277, 0.6875, 'gini = 0.0\\nsamples = 6\\nvalue = [0, 6]'),\n",
              " Text(0.4986145870575617, 0.6875, 'X[2] <= 3.705\\ngini = 0.5\\nsamples = 4\\nvalue = [2, 2]'),\n",
              " Text(0.4971844833750447, 0.6458333333333334, 'gini = 0.0\\nsamples = 2\\nvalue = [2, 0]'),\n",
              " Text(0.5000446907400786, 0.6458333333333334, 'gini = 0.0\\nsamples = 2\\nvalue = [0, 2]'),\n",
              " Text(0.6749097805684662, 0.8541666666666666, 'X[2] <= 3.325\\ngini = 0.471\\nsamples = 699\\nvalue = [265, 434]'),\n",
              " Text(0.6029842241687522, 0.8125, 'X[2] <= 3.195\\ngini = 0.375\\nsamples = 472\\nvalue = [118, 354]'),\n",
              " Text(0.557382910260994, 0.7708333333333334, 'X[0] <= 11.85\\ngini = 0.225\\nsamples = 225\\nvalue = [29, 196]'),\n",
              " Text(0.5423668215945656, 0.7291666666666666, 'X[2] <= 3.115\\ngini = 0.338\\nsamples = 102\\nvalue = [22, 80]'),\n",
              " Text(0.5316410439756882, 0.6875, 'X[1] <= 2.125\\ngini = 0.172\\nsamples = 63\\nvalue = [6, 57]'),\n",
              " Text(0.5302109402931713, 0.6458333333333334, 'gini = 0.0\\nsamples = 18\\nvalue = [0, 18]'),\n",
              " Text(0.5330711476582052, 0.6458333333333334, 'X[1] <= 2.45\\ngini = 0.231\\nsamples = 45\\nvalue = [6, 39]'),\n",
              " Text(0.5280657847693958, 0.6041666666666666, 'X[0] <= 11.25\\ngini = 0.463\\nsamples = 11\\nvalue = [4, 7]'),\n",
              " Text(0.5266356810868787, 0.5625, 'gini = 0.0\\nsamples = 3\\nvalue = [0, 3]'),\n",
              " Text(0.5294958884519128, 0.5625, 'X[2] <= 3.085\\ngini = 0.5\\nsamples = 8\\nvalue = [4, 4]'),\n",
              " Text(0.5280657847693958, 0.5208333333333334, 'X[1] <= 2.175\\ngini = 0.32\\nsamples = 5\\nvalue = [1, 4]'),\n",
              " Text(0.5266356810868787, 0.4791666666666667, 'gini = 0.0\\nsamples = 1\\nvalue = [1, 0]'),\n",
              " Text(0.5294958884519128, 0.4791666666666667, 'gini = 0.0\\nsamples = 4\\nvalue = [0, 4]'),\n",
              " Text(0.5309259921344297, 0.5208333333333334, 'gini = 0.0\\nsamples = 3\\nvalue = [3, 0]'),\n",
              " Text(0.5380765105470147, 0.6041666666666666, 'X[2] <= 2.965\\ngini = 0.111\\nsamples = 34\\nvalue = [2, 32]'),\n",
              " Text(0.5352163031819807, 0.5625, 'X[1] <= 3.65\\ngini = 0.32\\nsamples = 5\\nvalue = [1, 4]'),\n",
              " Text(0.5337861994994637, 0.5208333333333334, 'gini = 0.0\\nsamples = 4\\nvalue = [0, 4]'),\n",
              " Text(0.5366464068644977, 0.5208333333333334, 'gini = 0.0\\nsamples = 1\\nvalue = [1, 0]'),\n",
              " Text(0.5409367179120487, 0.5625, 'X[0] <= 11.383\\ngini = 0.067\\nsamples = 29\\nvalue = [1, 28]'),\n",
              " Text(0.5395066142295316, 0.5208333333333334, 'gini = 0.0\\nsamples = 17\\nvalue = [0, 17]'),\n",
              " Text(0.5423668215945656, 0.5208333333333334, 'X[0] <= 11.45\\ngini = 0.153\\nsamples = 12\\nvalue = [1, 11]'),\n",
              " Text(0.5409367179120487, 0.4791666666666667, 'X[2] <= 3.03\\ngini = 0.444\\nsamples = 3\\nvalue = [1, 2]'),\n",
              " Text(0.5395066142295316, 0.4375, 'gini = 0.0\\nsamples = 2\\nvalue = [0, 2]'),\n",
              " Text(0.5423668215945656, 0.4375, 'gini = 0.0\\nsamples = 1\\nvalue = [1, 0]'),\n",
              " Text(0.5437969252770826, 0.4791666666666667, 'gini = 0.0\\nsamples = 9\\nvalue = [0, 9]'),\n",
              " Text(0.553092599213443, 0.6875, 'X[1] <= 3.35\\ngini = 0.484\\nsamples = 39\\nvalue = [16, 23]'),\n",
              " Text(0.551662495530926, 0.6458333333333334, 'X[2] <= 3.135\\ngini = 0.498\\nsamples = 34\\nvalue = [16, 18]'),\n",
              " Text(0.5452270289595996, 0.6041666666666666, 'X[0] <= 11.45\\ngini = 0.408\\nsamples = 7\\nvalue = [2, 5]'),\n",
              " Text(0.5437969252770826, 0.5625, 'gini = 0.0\\nsamples = 4\\nvalue = [0, 4]'),\n",
              " Text(0.5466571326421166, 0.5625, 'X[1] <= 2.15\\ngini = 0.444\\nsamples = 3\\nvalue = [2, 1]'),\n",
              " Text(0.5452270289595996, 0.5208333333333334, 'gini = 0.0\\nsamples = 2\\nvalue = [2, 0]'),\n",
              " Text(0.5480872363246335, 0.5208333333333334, 'gini = 0.0\\nsamples = 1\\nvalue = [0, 1]'),\n",
              " Text(0.5580979621022524, 0.6041666666666666, 'X[0] <= 11.35\\ngini = 0.499\\nsamples = 27\\nvalue = [14, 13]'),\n",
              " Text(0.5538076510547014, 0.5625, 'X[1] <= 2.4\\ngini = 0.397\\nsamples = 11\\nvalue = [8, 3]'),\n",
              " Text(0.5509474436896675, 0.5208333333333334, 'X[1] <= 1.95\\ngini = 0.219\\nsamples = 8\\nvalue = [7, 1]'),\n",
              " Text(0.5495173400071505, 0.4791666666666667, 'X[1] <= 1.8\\ngini = 0.444\\nsamples = 3\\nvalue = [2, 1]'),\n",
              " Text(0.5480872363246335, 0.4375, 'gini = 0.0\\nsamples = 1\\nvalue = [1, 0]'),\n",
              " Text(0.5509474436896675, 0.4375, 'X[0] <= 11.15\\ngini = 0.5\\nsamples = 2\\nvalue = [1, 1]'),\n",
              " Text(0.5495173400071505, 0.3958333333333333, 'gini = 0.0\\nsamples = 1\\nvalue = [1, 0]'),\n",
              " Text(0.5523775473721845, 0.3958333333333333, 'gini = 0.0\\nsamples = 1\\nvalue = [0, 1]'),\n",
              " Text(0.5523775473721845, 0.4791666666666667, 'gini = 0.0\\nsamples = 5\\nvalue = [5, 0]'),\n",
              " Text(0.5566678584197354, 0.5208333333333334, 'X[2] <= 3.165\\ngini = 0.444\\nsamples = 3\\nvalue = [1, 2]'),\n",
              " Text(0.5552377547372185, 0.4791666666666667, 'gini = 0.0\\nsamples = 2\\nvalue = [0, 2]'),\n",
              " Text(0.5580979621022524, 0.4791666666666667, 'gini = 0.0\\nsamples = 1\\nvalue = [1, 0]'),\n",
              " Text(0.5623882731498033, 0.5625, 'X[1] <= 1.675\\ngini = 0.469\\nsamples = 16\\nvalue = [6, 10]'),\n",
              " Text(0.5609581694672864, 0.5208333333333334, 'gini = 0.0\\nsamples = 1\\nvalue = [1, 0]'),\n",
              " Text(0.5638183768323204, 0.5208333333333334, 'X[1] <= 2.15\\ngini = 0.444\\nsamples = 15\\nvalue = [5, 10]'),\n",
              " Text(0.5609581694672864, 0.4791666666666667, 'X[2] <= 3.155\\ngini = 0.245\\nsamples = 7\\nvalue = [1, 6]'),\n",
              " Text(0.5595280657847694, 0.4375, 'gini = 0.0\\nsamples = 1\\nvalue = [1, 0]'),\n",
              " Text(0.5623882731498033, 0.4375, 'gini = 0.0\\nsamples = 6\\nvalue = [0, 6]'),\n",
              " Text(0.5666785841973543, 0.4791666666666667, 'X[2] <= 3.155\\ngini = 0.5\\nsamples = 8\\nvalue = [4, 4]'),\n",
              " Text(0.5652484805148373, 0.4375, 'X[0] <= 11.75\\ngini = 0.444\\nsamples = 6\\nvalue = [2, 4]'),\n",
              " Text(0.5638183768323204, 0.3958333333333333, 'X[1] <= 2.65\\ngini = 0.32\\nsamples = 5\\nvalue = [1, 4]'),\n",
              " Text(0.5623882731498033, 0.3541666666666667, 'gini = 0.0\\nsamples = 3\\nvalue = [0, 3]'),\n",
              " Text(0.5652484805148373, 0.3541666666666667, 'X[2] <= 3.145\\ngini = 0.5\\nsamples = 2\\nvalue = [1, 1]'),\n",
              " Text(0.5638183768323204, 0.3125, 'gini = 0.0\\nsamples = 1\\nvalue = [1, 0]'),\n",
              " Text(0.5666785841973543, 0.3125, 'gini = 0.0\\nsamples = 1\\nvalue = [0, 1]'),\n",
              " Text(0.5666785841973543, 0.3958333333333333, 'gini = 0.0\\nsamples = 1\\nvalue = [1, 0]'),\n",
              " Text(0.5681086878798713, 0.4375, 'gini = 0.0\\nsamples = 2\\nvalue = [2, 0]'),\n",
              " Text(0.55452270289596, 0.6458333333333334, 'gini = 0.0\\nsamples = 5\\nvalue = [0, 5]'),\n",
              " Text(0.5723989989274222, 0.7291666666666666, 'X[0] <= 12.55\\ngini = 0.107\\nsamples = 123\\nvalue = [7, 116]'),\n",
              " Text(0.5709688952449052, 0.6875, 'X[2] <= 3.105\\ngini = 0.171\\nsamples = 74\\nvalue = [7, 67]'),\n",
              " Text(0.5681086878798713, 0.6458333333333334, 'X[1] <= 2.95\\ngini = 0.053\\nsamples = 37\\nvalue = [1, 36]'),\n",
              " Text(0.5666785841973543, 0.6041666666666666, 'gini = 0.0\\nsamples = 22\\nvalue = [0, 22]'),\n",
              " Text(0.5695387915623883, 0.6041666666666666, 'X[1] <= 3.05\\ngini = 0.124\\nsamples = 15\\nvalue = [1, 14]'),\n",
              " Text(0.5681086878798713, 0.5625, 'gini = 0.0\\nsamples = 1\\nvalue = [1, 0]'),\n",
              " Text(0.5709688952449052, 0.5625, 'gini = 0.0\\nsamples = 14\\nvalue = [0, 14]'),\n",
              " Text(0.5738291026099392, 0.6458333333333334, 'X[1] <= 2.05\\ngini = 0.272\\nsamples = 37\\nvalue = [6, 31]'),\n",
              " Text(0.5723989989274222, 0.6041666666666666, 'gini = 0.0\\nsamples = 13\\nvalue = [0, 13]'),\n",
              " Text(0.5752592062924562, 0.6041666666666666, 'X[1] <= 2.15\\ngini = 0.375\\nsamples = 24\\nvalue = [6, 18]'),\n",
              " Text(0.5738291026099392, 0.5625, 'gini = 0.0\\nsamples = 2\\nvalue = [2, 0]'),\n",
              " Text(0.5766893099749731, 0.5625, 'X[0] <= 12.45\\ngini = 0.298\\nsamples = 22\\nvalue = [4, 18]'),\n",
              " Text(0.5752592062924562, 0.5208333333333334, 'X[2] <= 3.135\\ngini = 0.245\\nsamples = 21\\nvalue = [3, 18]'),\n",
              " Text(0.5723989989274222, 0.4791666666666667, 'X[0] <= 12.075\\ngini = 0.48\\nsamples = 5\\nvalue = [2, 3]'),\n",
              " Text(0.5709688952449052, 0.4375, 'gini = 0.0\\nsamples = 2\\nvalue = [2, 0]'),\n",
              " Text(0.5738291026099392, 0.4375, 'gini = 0.0\\nsamples = 3\\nvalue = [0, 3]'),\n",
              " Text(0.5781194136574902, 0.4791666666666667, 'X[1] <= 3.3\\ngini = 0.117\\nsamples = 16\\nvalue = [1, 15]'),\n",
              " Text(0.5766893099749731, 0.4375, 'gini = 0.0\\nsamples = 9\\nvalue = [0, 9]'),\n",
              " Text(0.5795495173400071, 0.4375, 'X[1] <= 3.45\\ngini = 0.245\\nsamples = 7\\nvalue = [1, 6]'),\n",
              " Text(0.5781194136574902, 0.3958333333333333, 'gini = 0.0\\nsamples = 1\\nvalue = [1, 0]'),\n",
              " Text(0.5809796210225241, 0.3958333333333333, 'gini = 0.0\\nsamples = 6\\nvalue = [0, 6]'),\n",
              " Text(0.5781194136574902, 0.5208333333333334, 'gini = 0.0\\nsamples = 1\\nvalue = [1, 0]'),\n",
              " Text(0.5738291026099392, 0.6875, 'gini = 0.0\\nsamples = 49\\nvalue = [0, 49]'),\n",
              " Text(0.6485855380765105, 0.7708333333333334, 'X[0] <= 12.55\\ngini = 0.461\\nsamples = 247\\nvalue = [89, 158]'),\n",
              " Text(0.6232347157668932, 0.7291666666666666, 'X[1] <= 2.85\\ngini = 0.496\\nsamples = 177\\nvalue = [81, 96]'),\n",
              " Text(0.6011351447979979, 0.6875, 'X[1] <= 1.95\\ngini = 0.5\\nsamples = 137\\nvalue = [70, 67]'),\n",
              " Text(0.5917053986414015, 0.6458333333333334, 'X[0] <= 12.25\\ngini = 0.432\\nsamples = 38\\nvalue = [12, 26]'),\n",
              " Text(0.5888451912763676, 0.6041666666666666, 'X[0] <= 11.15\\ngini = 0.389\\nsamples = 34\\nvalue = [9, 25]'),\n",
              " Text(0.5874150875938505, 0.5625, 'gini = 0.0\\nsamples = 1\\nvalue = [1, 0]'),\n",
              " Text(0.5902752949588845, 0.5625, 'X[0] <= 12.1\\ngini = 0.367\\nsamples = 33\\nvalue = [8, 25]'),\n",
              " Text(0.5888451912763676, 0.5208333333333334, 'X[0] <= 11.875\\ngini = 0.391\\nsamples = 30\\nvalue = [8, 22]'),\n",
              " Text(0.585269932070075, 0.4791666666666667, 'X[2] <= 3.235\\ngini = 0.355\\nsamples = 26\\nvalue = [6, 20]'),\n",
              " Text(0.5838398283875581, 0.4375, 'gini = 0.0\\nsamples = 4\\nvalue = [0, 4]'),\n",
              " Text(0.5867000357525921, 0.4375, 'X[1] <= 1.75\\ngini = 0.397\\nsamples = 22\\nvalue = [6, 16]'),\n",
              " Text(0.5838398283875581, 0.3958333333333333, 'X[2] <= 3.295\\ngini = 0.219\\nsamples = 8\\nvalue = [1, 7]'),\n",
              " Text(0.5824097247050412, 0.3541666666666667, 'gini = 0.0\\nsamples = 7\\nvalue = [0, 7]'),\n",
              " Text(0.585269932070075, 0.3541666666666667, 'gini = 0.0\\nsamples = 1\\nvalue = [1, 0]'),\n",
              " Text(0.589560243117626, 0.3958333333333333, 'X[0] <= 11.65\\ngini = 0.459\\nsamples = 14\\nvalue = [5, 9]'),\n",
              " Text(0.5881301394351091, 0.3541666666666667, 'X[1] <= 1.85\\ngini = 0.494\\nsamples = 9\\nvalue = [5, 4]'),\n",
              " Text(0.5838398283875581, 0.3125, 'X[2] <= 3.295\\ngini = 0.32\\nsamples = 5\\nvalue = [4, 1]'),\n",
              " Text(0.5824097247050412, 0.2708333333333333, 'gini = 0.0\\nsamples = 3\\nvalue = [3, 0]'),\n",
              " Text(0.585269932070075, 0.2708333333333333, 'X[2] <= 3.315\\ngini = 0.5\\nsamples = 2\\nvalue = [1, 1]'),\n",
              " Text(0.5838398283875581, 0.22916666666666666, 'gini = 0.0\\nsamples = 1\\nvalue = [0, 1]'),\n",
              " Text(0.5867000357525921, 0.22916666666666666, 'gini = 0.0\\nsamples = 1\\nvalue = [1, 0]'),\n",
              " Text(0.59242045048266, 0.3125, 'X[0] <= 11.25\\ngini = 0.375\\nsamples = 4\\nvalue = [1, 3]'),\n",
              " Text(0.5909903468001431, 0.2708333333333333, 'X[2] <= 3.28\\ngini = 0.5\\nsamples = 2\\nvalue = [1, 1]'),\n",
              " Text(0.589560243117626, 0.22916666666666666, 'gini = 0.0\\nsamples = 1\\nvalue = [1, 0]'),\n",
              " Text(0.59242045048266, 0.22916666666666666, 'gini = 0.0\\nsamples = 1\\nvalue = [0, 1]'),\n",
              " Text(0.593850554165177, 0.2708333333333333, 'gini = 0.0\\nsamples = 2\\nvalue = [0, 2]'),\n",
              " Text(0.5909903468001431, 0.3541666666666667, 'gini = 0.0\\nsamples = 5\\nvalue = [0, 5]'),\n",
              " Text(0.59242045048266, 0.4791666666666667, 'X[2] <= 3.235\\ngini = 0.5\\nsamples = 4\\nvalue = [2, 2]'),\n",
              " Text(0.5909903468001431, 0.4375, 'gini = 0.0\\nsamples = 1\\nvalue = [1, 0]'),\n",
              " Text(0.593850554165177, 0.4375, 'X[2] <= 3.295\\ngini = 0.444\\nsamples = 3\\nvalue = [1, 2]'),\n",
              " Text(0.59242045048266, 0.3958333333333333, 'gini = 0.0\\nsamples = 2\\nvalue = [0, 2]'),\n",
              " Text(0.5952806578476939, 0.3958333333333333, 'gini = 0.0\\nsamples = 1\\nvalue = [1, 0]'),\n",
              " Text(0.5917053986414015, 0.5208333333333334, 'gini = 0.0\\nsamples = 3\\nvalue = [0, 3]'),\n",
              " Text(0.5945656060064355, 0.6041666666666666, 'X[2] <= 3.255\\ngini = 0.375\\nsamples = 4\\nvalue = [3, 1]'),\n",
              " Text(0.5931355023239184, 0.5625, 'gini = 0.0\\nsamples = 3\\nvalue = [3, 0]'),\n",
              " Text(0.5959957096889524, 0.5625, 'gini = 0.0\\nsamples = 1\\nvalue = [0, 1]'),\n",
              " Text(0.6105648909545942, 0.6458333333333334, 'X[2] <= 3.235\\ngini = 0.485\\nsamples = 99\\nvalue = [58, 41]'),\n",
              " Text(0.6002860207365034, 0.6041666666666666, 'X[0] <= 11.75\\ngini = 0.358\\nsamples = 30\\nvalue = [23, 7]'),\n",
              " Text(0.5988559170539864, 0.5625, 'X[1] <= 2.15\\ngini = 0.465\\nsamples = 19\\nvalue = [12, 7]'),\n",
              " Text(0.5974258133714694, 0.5208333333333334, 'gini = 0.0\\nsamples = 8\\nvalue = [8, 0]'),\n",
              " Text(0.6002860207365034, 0.5208333333333334, 'X[1] <= 2.65\\ngini = 0.463\\nsamples = 11\\nvalue = [4, 7]'),\n",
              " Text(0.5988559170539864, 0.4791666666666667, 'X[0] <= 11.35\\ngini = 0.346\\nsamples = 9\\nvalue = [2, 7]'),\n",
              " Text(0.5974258133714694, 0.4375, 'gini = 0.0\\nsamples = 3\\nvalue = [0, 3]'),\n",
              " Text(0.6002860207365034, 0.4375, 'X[2] <= 3.215\\ngini = 0.444\\nsamples = 6\\nvalue = [2, 4]'),\n",
              " Text(0.5988559170539864, 0.3958333333333333, 'X[0] <= 11.45\\ngini = 0.32\\nsamples = 5\\nvalue = [1, 4]'),\n",
              " Text(0.5974258133714694, 0.3541666666666667, 'X[1] <= 2.3\\ngini = 0.444\\nsamples = 3\\nvalue = [1, 2]'),\n",
              " Text(0.5959957096889524, 0.3125, 'gini = 0.0\\nsamples = 2\\nvalue = [0, 2]'),\n",
              " Text(0.5988559170539864, 0.3125, 'gini = 0.0\\nsamples = 1\\nvalue = [1, 0]'),\n",
              " Text(0.6002860207365034, 0.3541666666666667, 'gini = 0.0\\nsamples = 2\\nvalue = [0, 2]'),\n",
              " Text(0.6017161244190203, 0.3958333333333333, 'gini = 0.0\\nsamples = 1\\nvalue = [1, 0]'),\n",
              " Text(0.6017161244190203, 0.4791666666666667, 'gini = 0.0\\nsamples = 2\\nvalue = [2, 0]'),\n",
              " Text(0.6017161244190203, 0.5625, 'gini = 0.0\\nsamples = 11\\nvalue = [11, 0]'),\n",
              " Text(0.620843761172685, 0.6041666666666666, 'X[0] <= 11.85\\ngini = 0.5\\nsamples = 69\\nvalue = [35, 34]'),\n",
              " Text(0.6124419020378977, 0.5625, 'X[2] <= 3.305\\ngini = 0.424\\nsamples = 36\\nvalue = [25, 11]'),\n",
              " Text(0.6088666428316053, 0.5208333333333334, 'X[1] <= 2.15\\ngini = 0.236\\nsamples = 22\\nvalue = [19, 3]'),\n",
              " Text(0.6074365391490884, 0.4791666666666667, 'X[2] <= 3.275\\ngini = 0.375\\nsamples = 12\\nvalue = [9, 3]'),\n",
              " Text(0.6060064354665713, 0.4375, 'X[0] <= 11.65\\ngini = 0.469\\nsamples = 8\\nvalue = [5, 3]'),\n",
              " Text(0.6045763317840543, 0.3958333333333333, 'X[2] <= 3.265\\ngini = 0.48\\nsamples = 5\\nvalue = [2, 3]'),\n",
              " Text(0.6031462281015374, 0.3541666666666667, 'X[0] <= 11.45\\ngini = 0.444\\nsamples = 3\\nvalue = [2, 1]'),\n",
              " Text(0.6017161244190203, 0.3125, 'gini = 0.0\\nsamples = 2\\nvalue = [2, 0]'),\n",
              " Text(0.6045763317840543, 0.3125, 'gini = 0.0\\nsamples = 1\\nvalue = [0, 1]'),\n",
              " Text(0.6060064354665713, 0.3541666666666667, 'gini = 0.0\\nsamples = 2\\nvalue = [0, 2]'),\n",
              " Text(0.6074365391490884, 0.3958333333333333, 'gini = 0.0\\nsamples = 3\\nvalue = [3, 0]'),\n",
              " Text(0.6088666428316053, 0.4375, 'gini = 0.0\\nsamples = 4\\nvalue = [4, 0]'),\n",
              " Text(0.6102967465141222, 0.4791666666666667, 'gini = 0.0\\nsamples = 10\\nvalue = [10, 0]'),\n",
              " Text(0.6160171612441903, 0.5208333333333334, 'X[1] <= 2.4\\ngini = 0.49\\nsamples = 14\\nvalue = [6, 8]'),\n",
              " Text(0.6131569538791563, 0.4791666666666667, 'X[0] <= 11.15\\ngini = 0.278\\nsamples = 6\\nvalue = [5, 1]'),\n",
              " Text(0.6117268501966393, 0.4375, 'X[2] <= 3.315\\ngini = 0.5\\nsamples = 2\\nvalue = [1, 1]'),\n",
              " Text(0.6102967465141222, 0.3958333333333333, 'gini = 0.0\\nsamples = 1\\nvalue = [0, 1]'),\n",
              " Text(0.6131569538791563, 0.3958333333333333, 'gini = 0.0\\nsamples = 1\\nvalue = [1, 0]'),\n",
              " Text(0.6145870575616732, 0.4375, 'gini = 0.0\\nsamples = 4\\nvalue = [4, 0]'),\n",
              " Text(0.6188773686092242, 0.4791666666666667, 'X[0] <= 11.2\\ngini = 0.219\\nsamples = 8\\nvalue = [1, 7]'),\n",
              " Text(0.6174472649267072, 0.4375, 'gini = 0.0\\nsamples = 1\\nvalue = [1, 0]'),\n",
              " Text(0.6203074722917411, 0.4375, 'gini = 0.0\\nsamples = 7\\nvalue = [0, 7]'),\n",
              " ...]"
            ]
          },
          "metadata": {},
          "execution_count": 36
        },
        {
          "output_type": "display_data",
          "data": {
            "text/plain": [
              "<Figure size 432x288 with 1 Axes>"
            ],
            "image/png": "[encoded data removed]"
          },
          "metadata": {
            "needs_background": "light"
          }
        }
      ]
    },
    {
      "cell_type": "code",
      "source": [
        "# 랜덤포레스트 : 트리기반 // 결정트리랑 똑같다. // 결정트리보다 좋을 수 밖에 없다.\n",
        "# 결정트리 여러개(다 시작점이 다름) : 잘 분류된 나뭇가지들만 가져와서 사용\n",
        "\n",
        "# 랜덤포레스트 : 훈련세트랑 시험세트 안나눠도됌\n",
        "\n",
        "# 트리 기반 : 범위를 벗어난 값은 예측X\n",
        "\n",
        "from sklearn.ensemble import RandomForestClassifier # 랜덤포레스트회귀\n",
        "\n",
        "rf = RandomForestClassifier(oob_score=True) # 선택받지 못한 데이터로 평가하겠다.\n",
        "rf.fit(data, target)\n",
        "rf.oob_score_"
      ],
      "metadata": {
        "colab": {
          "base_uri": "https://localhost:8080/"
        },
        "id": "uoIQdzXJneky",
        "outputId": "36a52d43-110c-407c-9c1d-ae85162566d7"
      },
      "execution_count": 40,
      "outputs": [
        {
          "output_type": "execute_result",
          "data": {
            "text/plain": [
              "0.9054948437740495"
            ]
          },
          "metadata": {},
          "execution_count": 40
        }
      ]
    },
    {
      "cell_type": "code",
      "source": [
        "# Mozilla/5.0 (Macintosh; Intel Mac OS X 12_5_1)\n",
        "\n",
        "import requests\n",
        "from bs4 import BeautifulSoup\n",
        "import time\n",
        "import pandas as pd\n",
        "from tqdm import tqdm\n",
        "\n",
        "dic = {'User-Agent' : \"Mozilla/5.0 (Macintosh; Intel Mac OS X 12_5_1)\"}\n",
        "\n",
        "total = []\n",
        "for n in tqdm(range(1, 659)):\n",
        "    url = requests.get(\"https://finance.naver.com/item/sise_day.naver?code=005930&page={}\".format(n), headers = dic)\n",
        "    html = BeautifulSoup(url.text)\n",
        "    table = html.find('table')\n",
        "    table = pd.read_html(str(table))[0].dropna()\n",
        "    total.append(table)\n",
        "    time.sleep(1)"
      ],
      "metadata": {
        "colab": {
          "base_uri": "https://localhost:8080/"
        },
        "id": "oUaALXRAs4d8",
        "outputId": "455e5eb9-1614-43ab-c67a-632105637aac"
      },
      "execution_count": 44,
      "outputs": [
        {
          "output_type": "stream",
          "name": "stderr",
          "text": [
            "100%|██████████| 658/658 [17:17<00:00,  1.58s/it]\n"
          ]
        }
      ]
    },
    {
      "cell_type": "code",
      "source": [
        "samsung = pd.concat(total, ignore_index=True)\n",
        "samsung = samsung[::-1]\n",
        "samsung"
      ],
      "metadata": {
        "colab": {
          "base_uri": "https://localhost:8080/",
          "height": 424
        },
        "id": "TJucEZI2xqEv",
        "outputId": "ec1fa444-cf7f-4671-984f-298e85ea4bfd"
      },
      "execution_count": 49,
      "outputs": [
        {
          "output_type": "execute_result",
          "data": {
            "text/plain": [
              "              날짜       종가     전일비       시가       고가       저가        거래량\n",
              "6573  1996.06.25  67500.0     0.0  66500.0  68300.0  65600.0   112960.0\n",
              "6572  1996.06.26  67700.0   200.0  67600.0  67900.0  66000.0   136630.0\n",
              "6571  1996.06.27  66900.0   800.0  67500.0  67700.0  66700.0   155450.0\n",
              "6570  1996.06.28  68100.0  1200.0  67300.0  68500.0  67200.0   138430.0\n",
              "6569  1996.06.29  68500.0   400.0  68100.0  69100.0  67100.0    96710.0\n",
              "...          ...      ...     ...      ...      ...      ...        ...\n",
              "4     2022.08.25  59700.0   700.0  59200.0  59700.0  59000.0  5767902.0\n",
              "3     2022.08.26  60000.0   300.0  60300.0  60900.0  59900.0  9499995.0\n",
              "2     2022.08.29  58600.0  1400.0  58700.0  58900.0  58600.0  9841329.0\n",
              "1     2022.08.30  58800.0   200.0  58700.0  59000.0  58300.0  9690044.0\n",
              "0     2022.08.31  58800.0     0.0  58200.0  58900.0  58200.0  4097314.0\n",
              "\n",
              "[6574 rows x 7 columns]"
            ],
            "text/html": [
              "\n",
              "  <div id=\"df-69448cff-3ab1-4bb9-996f-fcd9231226ac\">\n",
              "    <div class=\"colab-df-container\">\n",
              "      <div>\n",
              "<style scoped>\n",
              "    .dataframe tbody tr th:only-of-type {\n",
              "        vertical-align: middle;\n",
              "    }\n",
              "\n",
              "    .dataframe tbody tr th {\n",
              "        vertical-align: top;\n",
              "    }\n",
              "\n",
              "    .dataframe thead th {\n",
              "        text-align: right;\n",
              "    }\n",
              "</style>\n",
              "<table border=\"1\" class=\"dataframe\">\n",
              "  <thead>\n",
              "    <tr style=\"text-align: right;\">\n",
              "      <th></th>\n",
              "      <th>날짜</th>\n",
              "      <th>종가</th>\n",
              "      <th>전일비</th>\n",
              "      <th>시가</th>\n",
              "      <th>고가</th>\n",
              "      <th>저가</th>\n",
              "      <th>거래량</th>\n",
              "    </tr>\n",
              "  </thead>\n",
              "  <tbody>\n",
              "    <tr>\n",
              "      <th>6573</th>\n",
              "      <td>1996.06.25</td>\n",
              "      <td>67500.0</td>\n",
              "      <td>0.0</td>\n",
              "      <td>66500.0</td>\n",
              "      <td>68300.0</td>\n",
              "      <td>65600.0</td>\n",
              "      <td>112960.0</td>\n",
              "    </tr>\n",
              "    <tr>\n",
              "      <th>6572</th>\n",
              "      <td>1996.06.26</td>\n",
              "      <td>67700.0</td>\n",
              "      <td>200.0</td>\n",
              "      <td>67600.0</td>\n",
              "      <td>67900.0</td>\n",
              "      <td>66000.0</td>\n",
              "      <td>136630.0</td>\n",
              "    </tr>\n",
              "    <tr>\n",
              "      <th>6571</th>\n",
              "      <td>1996.06.27</td>\n",
              "      <td>66900.0</td>\n",
              "      <td>800.0</td>\n",
              "      <td>67500.0</td>\n",
              "      <td>67700.0</td>\n",
              "      <td>66700.0</td>\n",
              "      <td>155450.0</td>\n",
              "    </tr>\n",
              "    <tr>\n",
              "      <th>6570</th>\n",
              "      <td>1996.06.28</td>\n",
              "      <td>68100.0</td>\n",
              "      <td>1200.0</td>\n",
              "      <td>67300.0</td>\n",
              "      <td>68500.0</td>\n",
              "      <td>67200.0</td>\n",
              "      <td>138430.0</td>\n",
              "    </tr>\n",
              "    <tr>\n",
              "      <th>6569</th>\n",
              "      <td>1996.06.29</td>\n",
              "      <td>68500.0</td>\n",
              "      <td>400.0</td>\n",
              "      <td>68100.0</td>\n",
              "      <td>69100.0</td>\n",
              "      <td>67100.0</td>\n",
              "      <td>96710.0</td>\n",
              "    </tr>\n",
              "    <tr>\n",
              "      <th>...</th>\n",
              "      <td>...</td>\n",
              "      <td>...</td>\n",
              "      <td>...</td>\n",
              "      <td>...</td>\n",
              "      <td>...</td>\n",
              "      <td>...</td>\n",
              "      <td>...</td>\n",
              "    </tr>\n",
              "    <tr>\n",
              "      <th>4</th>\n",
              "      <td>2022.08.25</td>\n",
              "      <td>59700.0</td>\n",
              "      <td>700.0</td>\n",
              "      <td>59200.0</td>\n",
              "      <td>59700.0</td>\n",
              "      <td>59000.0</td>\n",
              "      <td>5767902.0</td>\n",
              "    </tr>\n",
              "    <tr>\n",
              "      <th>3</th>\n",
              "      <td>2022.08.26</td>\n",
              "      <td>60000.0</td>\n",
              "      <td>300.0</td>\n",
              "      <td>60300.0</td>\n",
              "      <td>60900.0</td>\n",
              "      <td>59900.0</td>\n",
              "      <td>9499995.0</td>\n",
              "    </tr>\n",
              "    <tr>\n",
              "      <th>2</th>\n",
              "      <td>2022.08.29</td>\n",
              "      <td>58600.0</td>\n",
              "      <td>1400.0</td>\n",
              "      <td>58700.0</td>\n",
              "      <td>58900.0</td>\n",
              "      <td>58600.0</td>\n",
              "      <td>9841329.0</td>\n",
              "    </tr>\n",
              "    <tr>\n",
              "      <th>1</th>\n",
              "      <td>2022.08.30</td>\n",
              "      <td>58800.0</td>\n",
              "      <td>200.0</td>\n",
              "      <td>58700.0</td>\n",
              "      <td>59000.0</td>\n",
              "      <td>58300.0</td>\n",
              "      <td>9690044.0</td>\n",
              "    </tr>\n",
              "    <tr>\n",
              "      <th>0</th>\n",
              "      <td>2022.08.31</td>\n",
              "      <td>58800.0</td>\n",
              "      <td>0.0</td>\n",
              "      <td>58200.0</td>\n",
              "      <td>58900.0</td>\n",
              "      <td>58200.0</td>\n",
              "      <td>4097314.0</td>\n",
              "    </tr>\n",
              "  </tbody>\n",
              "</table>\n",
              "<p>6574 rows × 7 columns</p>\n",
              "</div>\n",
              "      <button class=\"colab-df-convert\" onclick=\"convertToInteractive('df-69448cff-3ab1-4bb9-996f-fcd9231226ac')\"\n",
              "              title=\"Convert this dataframe to an interactive table.\"\n",
              "              style=\"display:none;\">\n",
              "        \n",
              "  <svg xmlns=\"http://www.w3.org/2000/svg\" height=\"24px\"viewBox=\"0 0 24 24\"\n",
              "       width=\"24px\">\n",
              "    <path d=\"M0 0h24v24H0V0z\" fill=\"none\"/>\n",
              "    <path d=\"M18.56 5.44l.94 2.06.94-2.06 2.06-.94-2.06-.94-.94-2.06-.94 2.06-2.06.94zm-11 1L8.5 8.5l.94-2.06 2.06-.94-2.06-.94L8.5 2.5l-.94 2.06-2.06.94zm10 10l.94 2.06.94-2.06 2.06-.94-2.06-.94-.94-2.06-.94 2.06-2.06.94z\"/><path d=\"M17.41 7.96l-1.37-1.37c-.4-.4-.92-.59-1.43-.59-.52 0-1.04.2-1.43.59L10.3 9.45l-7.72 7.72c-.78.78-.78 2.05 0 2.83L4 21.41c.39.39.9.59 1.41.59.51 0 1.02-.2 1.41-.59l7.78-7.78 2.81-2.81c.8-.78.8-2.07 0-2.86zM5.41 20L4 18.59l7.72-7.72 1.47 1.35L5.41 20z\"/>\n",
              "  </svg>\n",
              "      </button>\n",
              "      \n",
              "  <style>\n",
              "    .colab-df-container {\n",
              "      display:flex;\n",
              "      flex-wrap:wrap;\n",
              "      gap: 12px;\n",
              "    }\n",
              "\n",
              "    .colab-df-convert {\n",
              "      background-color: #E8F0FE;\n",
              "      border: none;\n",
              "      border-radius: 50%;\n",
              "      cursor: pointer;\n",
              "      display: none;\n",
              "      fill: #1967D2;\n",
              "      height: 32px;\n",
              "      padding: 0 0 0 0;\n",
              "      width: 32px;\n",
              "    }\n",
              "\n",
              "    .colab-df-convert:hover {\n",
              "      background-color: #E2EBFA;\n",
              "      box-shadow: 0px 1px 2px rgba(60, 64, 67, 0.3), 0px 1px 3px 1px rgba(60, 64, 67, 0.15);\n",
              "      fill: #174EA6;\n",
              "    }\n",
              "\n",
              "    [theme=dark] .colab-df-convert {\n",
              "      background-color: #3B4455;\n",
              "      fill: #D2E3FC;\n",
              "    }\n",
              "\n",
              "    [theme=dark] .colab-df-convert:hover {\n",
              "      background-color: #434B5C;\n",
              "      box-shadow: 0px 1px 3px 1px rgba(0, 0, 0, 0.15);\n",
              "      filter: drop-shadow(0px 1px 2px rgba(0, 0, 0, 0.3));\n",
              "      fill: #FFFFFF;\n",
              "    }\n",
              "  </style>\n",
              "\n",
              "      <script>\n",
              "        const buttonEl =\n",
              "          document.querySelector('#df-69448cff-3ab1-4bb9-996f-fcd9231226ac button.colab-df-convert');\n",
              "        buttonEl.style.display =\n",
              "          google.colab.kernel.accessAllowed ? 'block' : 'none';\n",
              "\n",
              "        async function convertToInteractive(key) {\n",
              "          const element = document.querySelector('#df-69448cff-3ab1-4bb9-996f-fcd9231226ac');\n",
              "          const dataTable =\n",
              "            await google.colab.kernel.invokeFunction('convertToInteractive',\n",
              "                                                     [key], {});\n",
              "          if (!dataTable) return;\n",
              "\n",
              "          const docLinkHtml = 'Like what you see? Visit the ' +\n",
              "            '<a target=\"_blank\" href=https://colab.research.google.com/notebooks/data_table.ipynb>data table notebook</a>'\n",
              "            + ' to learn more about interactive tables.';\n",
              "          element.innerHTML = '';\n",
              "          dataTable['output_type'] = 'display_data';\n",
              "          await google.colab.output.renderOutput(dataTable, element);\n",
              "          const docLink = document.createElement('div');\n",
              "          docLink.innerHTML = docLinkHtml;\n",
              "          element.appendChild(docLink);\n",
              "        }\n",
              "      </script>\n",
              "    </div>\n",
              "  </div>\n",
              "  "
            ]
          },
          "metadata": {},
          "execution_count": 49
        }
      ]
    },
    {
      "cell_type": "code",
      "source": [
        "samsung.index = range(len(samsung))\n",
        "samsung"
      ],
      "metadata": {
        "colab": {
          "base_uri": "https://localhost:8080/",
          "height": 424
        },
        "id": "O8ZfqfqdEafF",
        "outputId": "a8743960-d4d2-4fe4-85aa-044069f2df96"
      },
      "execution_count": 52,
      "outputs": [
        {
          "output_type": "execute_result",
          "data": {
            "text/plain": [
              "              날짜       종가     전일비       시가       고가       저가        거래량\n",
              "0     1996.06.25  67500.0     0.0  66500.0  68300.0  65600.0   112960.0\n",
              "1     1996.06.26  67700.0   200.0  67600.0  67900.0  66000.0   136630.0\n",
              "2     1996.06.27  66900.0   800.0  67500.0  67700.0  66700.0   155450.0\n",
              "3     1996.06.28  68100.0  1200.0  67300.0  68500.0  67200.0   138430.0\n",
              "4     1996.06.29  68500.0   400.0  68100.0  69100.0  67100.0    96710.0\n",
              "...          ...      ...     ...      ...      ...      ...        ...\n",
              "6569  2022.08.25  59700.0   700.0  59200.0  59700.0  59000.0  5767902.0\n",
              "6570  2022.08.26  60000.0   300.0  60300.0  60900.0  59900.0  9499995.0\n",
              "6571  2022.08.29  58600.0  1400.0  58700.0  58900.0  58600.0  9841329.0\n",
              "6572  2022.08.30  58800.0   200.0  58700.0  59000.0  58300.0  9690044.0\n",
              "6573  2022.08.31  58800.0     0.0  58200.0  58900.0  58200.0  4097314.0\n",
              "\n",
              "[6574 rows x 7 columns]"
            ],
            "text/html": [
              "\n",
              "  <div id=\"df-efa38434-8078-4b06-a1b3-fa7e51e39b07\">\n",
              "    <div class=\"colab-df-container\">\n",
              "      <div>\n",
              "<style scoped>\n",
              "    .dataframe tbody tr th:only-of-type {\n",
              "        vertical-align: middle;\n",
              "    }\n",
              "\n",
              "    .dataframe tbody tr th {\n",
              "        vertical-align: top;\n",
              "    }\n",
              "\n",
              "    .dataframe thead th {\n",
              "        text-align: right;\n",
              "    }\n",
              "</style>\n",
              "<table border=\"1\" class=\"dataframe\">\n",
              "  <thead>\n",
              "    <tr style=\"text-align: right;\">\n",
              "      <th></th>\n",
              "      <th>날짜</th>\n",
              "      <th>종가</th>\n",
              "      <th>전일비</th>\n",
              "      <th>시가</th>\n",
              "      <th>고가</th>\n",
              "      <th>저가</th>\n",
              "      <th>거래량</th>\n",
              "    </tr>\n",
              "  </thead>\n",
              "  <tbody>\n",
              "    <tr>\n",
              "      <th>0</th>\n",
              "      <td>1996.06.25</td>\n",
              "      <td>67500.0</td>\n",
              "      <td>0.0</td>\n",
              "      <td>66500.0</td>\n",
              "      <td>68300.0</td>\n",
              "      <td>65600.0</td>\n",
              "      <td>112960.0</td>\n",
              "    </tr>\n",
              "    <tr>\n",
              "      <th>1</th>\n",
              "      <td>1996.06.26</td>\n",
              "      <td>67700.0</td>\n",
              "      <td>200.0</td>\n",
              "      <td>67600.0</td>\n",
              "      <td>67900.0</td>\n",
              "      <td>66000.0</td>\n",
              "      <td>136630.0</td>\n",
              "    </tr>\n",
              "    <tr>\n",
              "      <th>2</th>\n",
              "      <td>1996.06.27</td>\n",
              "      <td>66900.0</td>\n",
              "      <td>800.0</td>\n",
              "      <td>67500.0</td>\n",
              "      <td>67700.0</td>\n",
              "      <td>66700.0</td>\n",
              "      <td>155450.0</td>\n",
              "    </tr>\n",
              "    <tr>\n",
              "      <th>3</th>\n",
              "      <td>1996.06.28</td>\n",
              "      <td>68100.0</td>\n",
              "      <td>1200.0</td>\n",
              "      <td>67300.0</td>\n",
              "      <td>68500.0</td>\n",
              "      <td>67200.0</td>\n",
              "      <td>138430.0</td>\n",
              "    </tr>\n",
              "    <tr>\n",
              "      <th>4</th>\n",
              "      <td>1996.06.29</td>\n",
              "      <td>68500.0</td>\n",
              "      <td>400.0</td>\n",
              "      <td>68100.0</td>\n",
              "      <td>69100.0</td>\n",
              "      <td>67100.0</td>\n",
              "      <td>96710.0</td>\n",
              "    </tr>\n",
              "    <tr>\n",
              "      <th>...</th>\n",
              "      <td>...</td>\n",
              "      <td>...</td>\n",
              "      <td>...</td>\n",
              "      <td>...</td>\n",
              "      <td>...</td>\n",
              "      <td>...</td>\n",
              "      <td>...</td>\n",
              "    </tr>\n",
              "    <tr>\n",
              "      <th>6569</th>\n",
              "      <td>2022.08.25</td>\n",
              "      <td>59700.0</td>\n",
              "      <td>700.0</td>\n",
              "      <td>59200.0</td>\n",
              "      <td>59700.0</td>\n",
              "      <td>59000.0</td>\n",
              "      <td>5767902.0</td>\n",
              "    </tr>\n",
              "    <tr>\n",
              "      <th>6570</th>\n",
              "      <td>2022.08.26</td>\n",
              "      <td>60000.0</td>\n",
              "      <td>300.0</td>\n",
              "      <td>60300.0</td>\n",
              "      <td>60900.0</td>\n",
              "      <td>59900.0</td>\n",
              "      <td>9499995.0</td>\n",
              "    </tr>\n",
              "    <tr>\n",
              "      <th>6571</th>\n",
              "      <td>2022.08.29</td>\n",
              "      <td>58600.0</td>\n",
              "      <td>1400.0</td>\n",
              "      <td>58700.0</td>\n",
              "      <td>58900.0</td>\n",
              "      <td>58600.0</td>\n",
              "      <td>9841329.0</td>\n",
              "    </tr>\n",
              "    <tr>\n",
              "      <th>6572</th>\n",
              "      <td>2022.08.30</td>\n",
              "      <td>58800.0</td>\n",
              "      <td>200.0</td>\n",
              "      <td>58700.0</td>\n",
              "      <td>59000.0</td>\n",
              "      <td>58300.0</td>\n",
              "      <td>9690044.0</td>\n",
              "    </tr>\n",
              "    <tr>\n",
              "      <th>6573</th>\n",
              "      <td>2022.08.31</td>\n",
              "      <td>58800.0</td>\n",
              "      <td>0.0</td>\n",
              "      <td>58200.0</td>\n",
              "      <td>58900.0</td>\n",
              "      <td>58200.0</td>\n",
              "      <td>4097314.0</td>\n",
              "    </tr>\n",
              "  </tbody>\n",
              "</table>\n",
              "<p>6574 rows × 7 columns</p>\n",
              "</div>\n",
              "      <button class=\"colab-df-convert\" onclick=\"convertToInteractive('df-efa38434-8078-4b06-a1b3-fa7e51e39b07')\"\n",
              "              title=\"Convert this dataframe to an interactive table.\"\n",
              "              style=\"display:none;\">\n",
              "        \n",
              "  <svg xmlns=\"http://www.w3.org/2000/svg\" height=\"24px\"viewBox=\"0 0 24 24\"\n",
              "       width=\"24px\">\n",
              "    <path d=\"M0 0h24v24H0V0z\" fill=\"none\"/>\n",
              "    <path d=\"M18.56 5.44l.94 2.06.94-2.06 2.06-.94-2.06-.94-.94-2.06-.94 2.06-2.06.94zm-11 1L8.5 8.5l.94-2.06 2.06-.94-2.06-.94L8.5 2.5l-.94 2.06-2.06.94zm10 10l.94 2.06.94-2.06 2.06-.94-2.06-.94-.94-2.06-.94 2.06-2.06.94z\"/><path d=\"M17.41 7.96l-1.37-1.37c-.4-.4-.92-.59-1.43-.59-.52 0-1.04.2-1.43.59L10.3 9.45l-7.72 7.72c-.78.78-.78 2.05 0 2.83L4 21.41c.39.39.9.59 1.41.59.51 0 1.02-.2 1.41-.59l7.78-7.78 2.81-2.81c.8-.78.8-2.07 0-2.86zM5.41 20L4 18.59l7.72-7.72 1.47 1.35L5.41 20z\"/>\n",
              "  </svg>\n",
              "      </button>\n",
              "      \n",
              "  <style>\n",
              "    .colab-df-container {\n",
              "      display:flex;\n",
              "      flex-wrap:wrap;\n",
              "      gap: 12px;\n",
              "    }\n",
              "\n",
              "    .colab-df-convert {\n",
              "      background-color: #E8F0FE;\n",
              "      border: none;\n",
              "      border-radius: 50%;\n",
              "      cursor: pointer;\n",
              "      display: none;\n",
              "      fill: #1967D2;\n",
              "      height: 32px;\n",
              "      padding: 0 0 0 0;\n",
              "      width: 32px;\n",
              "    }\n",
              "\n",
              "    .colab-df-convert:hover {\n",
              "      background-color: #E2EBFA;\n",
              "      box-shadow: 0px 1px 2px rgba(60, 64, 67, 0.3), 0px 1px 3px 1px rgba(60, 64, 67, 0.15);\n",
              "      fill: #174EA6;\n",
              "    }\n",
              "\n",
              "    [theme=dark] .colab-df-convert {\n",
              "      background-color: #3B4455;\n",
              "      fill: #D2E3FC;\n",
              "    }\n",
              "\n",
              "    [theme=dark] .colab-df-convert:hover {\n",
              "      background-color: #434B5C;\n",
              "      box-shadow: 0px 1px 3px 1px rgba(0, 0, 0, 0.15);\n",
              "      filter: drop-shadow(0px 1px 2px rgba(0, 0, 0, 0.3));\n",
              "      fill: #FFFFFF;\n",
              "    }\n",
              "  </style>\n",
              "\n",
              "      <script>\n",
              "        const buttonEl =\n",
              "          document.querySelector('#df-efa38434-8078-4b06-a1b3-fa7e51e39b07 button.colab-df-convert');\n",
              "        buttonEl.style.display =\n",
              "          google.colab.kernel.accessAllowed ? 'block' : 'none';\n",
              "\n",
              "        async function convertToInteractive(key) {\n",
              "          const element = document.querySelector('#df-efa38434-8078-4b06-a1b3-fa7e51e39b07');\n",
              "          const dataTable =\n",
              "            await google.colab.kernel.invokeFunction('convertToInteractive',\n",
              "                                                     [key], {});\n",
              "          if (!dataTable) return;\n",
              "\n",
              "          const docLinkHtml = 'Like what you see? Visit the ' +\n",
              "            '<a target=\"_blank\" href=https://colab.research.google.com/notebooks/data_table.ipynb>data table notebook</a>'\n",
              "            + ' to learn more about interactive tables.';\n",
              "          element.innerHTML = '';\n",
              "          dataTable['output_type'] = 'display_data';\n",
              "          await google.colab.output.renderOutput(dataTable, element);\n",
              "          const docLink = document.createElement('div');\n",
              "          docLink.innerHTML = docLinkHtml;\n",
              "          element.appendChild(docLink);\n",
              "        }\n",
              "      </script>\n",
              "    </div>\n",
              "  </div>\n",
              "  "
            ]
          },
          "metadata": {},
          "execution_count": 52
        }
      ]
    },
    {
      "cell_type": "code",
      "source": [
        "samsung['날짜'] = pd.to_datetime(samsung['날짜'])\n",
        "samsung.info()"
      ],
      "metadata": {
        "colab": {
          "base_uri": "https://localhost:8080/"
        },
        "id": "zdU4qChjHiuh",
        "outputId": "07768f25-650f-4688-f9a9-eec6745554c1"
      },
      "execution_count": 69,
      "outputs": [
        {
          "output_type": "stream",
          "name": "stdout",
          "text": [
            "<class 'pandas.core.frame.DataFrame'>\n",
            "RangeIndex: 6574 entries, 0 to 6573\n",
            "Data columns (total 6 columns):\n",
            " #   Column  Non-Null Count  Dtype         \n",
            "---  ------  --------------  -----         \n",
            " 0   날짜      6574 non-null   datetime64[ns]\n",
            " 1   종가      6574 non-null   float64       \n",
            " 2   시가      6574 non-null   float64       \n",
            " 3   고가      6574 non-null   float64       \n",
            " 4   저가      6574 non-null   float64       \n",
            " 5   거래량     6574 non-null   float64       \n",
            "dtypes: datetime64[ns](1), float64(5)\n",
            "memory usage: 308.3 KB\n"
          ]
        }
      ]
    },
    {
      "cell_type": "code",
      "source": [
        "train = samsung[samsung['날짜'].dt.year != 2022]\n",
        "test = samsung[samsung['날짜'].dt.year == 2022]"
      ],
      "metadata": {
        "id": "PrCHlGCOHzkM"
      },
      "execution_count": 71,
      "outputs": []
    },
    {
      "cell_type": "code",
      "source": [
        "del samsung['전일비']\n",
        "samsung"
      ],
      "metadata": {
        "colab": {
          "base_uri": "https://localhost:8080/",
          "height": 424
        },
        "id": "4aR5OhRfEpWn",
        "outputId": "e83ccb74-cd49-474b-a8d3-2b02c8dd17e3"
      },
      "execution_count": 55,
      "outputs": [
        {
          "output_type": "execute_result",
          "data": {
            "text/plain": [
              "              날짜       종가       시가       고가       저가        거래량\n",
              "0     1996.06.25  67500.0  66500.0  68300.0  65600.0   112960.0\n",
              "1     1996.06.26  67700.0  67600.0  67900.0  66000.0   136630.0\n",
              "2     1996.06.27  66900.0  67500.0  67700.0  66700.0   155450.0\n",
              "3     1996.06.28  68100.0  67300.0  68500.0  67200.0   138430.0\n",
              "4     1996.06.29  68500.0  68100.0  69100.0  67100.0    96710.0\n",
              "...          ...      ...      ...      ...      ...        ...\n",
              "6569  2022.08.25  59700.0  59200.0  59700.0  59000.0  5767902.0\n",
              "6570  2022.08.26  60000.0  60300.0  60900.0  59900.0  9499995.0\n",
              "6571  2022.08.29  58600.0  58700.0  58900.0  58600.0  9841329.0\n",
              "6572  2022.08.30  58800.0  58700.0  59000.0  58300.0  9690044.0\n",
              "6573  2022.08.31  58800.0  58200.0  58900.0  58200.0  4097314.0\n",
              "\n",
              "[6574 rows x 6 columns]"
            ],
            "text/html": [
              "\n",
              "  <div id=\"df-b61a172c-75a4-4383-9627-7ab7631d331f\">\n",
              "    <div class=\"colab-df-container\">\n",
              "      <div>\n",
              "<style scoped>\n",
              "    .dataframe tbody tr th:only-of-type {\n",
              "        vertical-align: middle;\n",
              "    }\n",
              "\n",
              "    .dataframe tbody tr th {\n",
              "        vertical-align: top;\n",
              "    }\n",
              "\n",
              "    .dataframe thead th {\n",
              "        text-align: right;\n",
              "    }\n",
              "</style>\n",
              "<table border=\"1\" class=\"dataframe\">\n",
              "  <thead>\n",
              "    <tr style=\"text-align: right;\">\n",
              "      <th></th>\n",
              "      <th>날짜</th>\n",
              "      <th>종가</th>\n",
              "      <th>시가</th>\n",
              "      <th>고가</th>\n",
              "      <th>저가</th>\n",
              "      <th>거래량</th>\n",
              "    </tr>\n",
              "  </thead>\n",
              "  <tbody>\n",
              "    <tr>\n",
              "      <th>0</th>\n",
              "      <td>1996.06.25</td>\n",
              "      <td>67500.0</td>\n",
              "      <td>66500.0</td>\n",
              "      <td>68300.0</td>\n",
              "      <td>65600.0</td>\n",
              "      <td>112960.0</td>\n",
              "    </tr>\n",
              "    <tr>\n",
              "      <th>1</th>\n",
              "      <td>1996.06.26</td>\n",
              "      <td>67700.0</td>\n",
              "      <td>67600.0</td>\n",
              "      <td>67900.0</td>\n",
              "      <td>66000.0</td>\n",
              "      <td>136630.0</td>\n",
              "    </tr>\n",
              "    <tr>\n",
              "      <th>2</th>\n",
              "      <td>1996.06.27</td>\n",
              "      <td>66900.0</td>\n",
              "      <td>67500.0</td>\n",
              "      <td>67700.0</td>\n",
              "      <td>66700.0</td>\n",
              "      <td>155450.0</td>\n",
              "    </tr>\n",
              "    <tr>\n",
              "      <th>3</th>\n",
              "      <td>1996.06.28</td>\n",
              "      <td>68100.0</td>\n",
              "      <td>67300.0</td>\n",
              "      <td>68500.0</td>\n",
              "      <td>67200.0</td>\n",
              "      <td>138430.0</td>\n",
              "    </tr>\n",
              "    <tr>\n",
              "      <th>4</th>\n",
              "      <td>1996.06.29</td>\n",
              "      <td>68500.0</td>\n",
              "      <td>68100.0</td>\n",
              "      <td>69100.0</td>\n",
              "      <td>67100.0</td>\n",
              "      <td>96710.0</td>\n",
              "    </tr>\n",
              "    <tr>\n",
              "      <th>...</th>\n",
              "      <td>...</td>\n",
              "      <td>...</td>\n",
              "      <td>...</td>\n",
              "      <td>...</td>\n",
              "      <td>...</td>\n",
              "      <td>...</td>\n",
              "    </tr>\n",
              "    <tr>\n",
              "      <th>6569</th>\n",
              "      <td>2022.08.25</td>\n",
              "      <td>59700.0</td>\n",
              "      <td>59200.0</td>\n",
              "      <td>59700.0</td>\n",
              "      <td>59000.0</td>\n",
              "      <td>5767902.0</td>\n",
              "    </tr>\n",
              "    <tr>\n",
              "      <th>6570</th>\n",
              "      <td>2022.08.26</td>\n",
              "      <td>60000.0</td>\n",
              "      <td>60300.0</td>\n",
              "      <td>60900.0</td>\n",
              "      <td>59900.0</td>\n",
              "      <td>9499995.0</td>\n",
              "    </tr>\n",
              "    <tr>\n",
              "      <th>6571</th>\n",
              "      <td>2022.08.29</td>\n",
              "      <td>58600.0</td>\n",
              "      <td>58700.0</td>\n",
              "      <td>58900.0</td>\n",
              "      <td>58600.0</td>\n",
              "      <td>9841329.0</td>\n",
              "    </tr>\n",
              "    <tr>\n",
              "      <th>6572</th>\n",
              "      <td>2022.08.30</td>\n",
              "      <td>58800.0</td>\n",
              "      <td>58700.0</td>\n",
              "      <td>59000.0</td>\n",
              "      <td>58300.0</td>\n",
              "      <td>9690044.0</td>\n",
              "    </tr>\n",
              "    <tr>\n",
              "      <th>6573</th>\n",
              "      <td>2022.08.31</td>\n",
              "      <td>58800.0</td>\n",
              "      <td>58200.0</td>\n",
              "      <td>58900.0</td>\n",
              "      <td>58200.0</td>\n",
              "      <td>4097314.0</td>\n",
              "    </tr>\n",
              "  </tbody>\n",
              "</table>\n",
              "<p>6574 rows × 6 columns</p>\n",
              "</div>\n",
              "      <button class=\"colab-df-convert\" onclick=\"convertToInteractive('df-b61a172c-75a4-4383-9627-7ab7631d331f')\"\n",
              "              title=\"Convert this dataframe to an interactive table.\"\n",
              "              style=\"display:none;\">\n",
              "        \n",
              "  <svg xmlns=\"http://www.w3.org/2000/svg\" height=\"24px\"viewBox=\"0 0 24 24\"\n",
              "       width=\"24px\">\n",
              "    <path d=\"M0 0h24v24H0V0z\" fill=\"none\"/>\n",
              "    <path d=\"M18.56 5.44l.94 2.06.94-2.06 2.06-.94-2.06-.94-.94-2.06-.94 2.06-2.06.94zm-11 1L8.5 8.5l.94-2.06 2.06-.94-2.06-.94L8.5 2.5l-.94 2.06-2.06.94zm10 10l.94 2.06.94-2.06 2.06-.94-2.06-.94-.94-2.06-.94 2.06-2.06.94z\"/><path d=\"M17.41 7.96l-1.37-1.37c-.4-.4-.92-.59-1.43-.59-.52 0-1.04.2-1.43.59L10.3 9.45l-7.72 7.72c-.78.78-.78 2.05 0 2.83L4 21.41c.39.39.9.59 1.41.59.51 0 1.02-.2 1.41-.59l7.78-7.78 2.81-2.81c.8-.78.8-2.07 0-2.86zM5.41 20L4 18.59l7.72-7.72 1.47 1.35L5.41 20z\"/>\n",
              "  </svg>\n",
              "      </button>\n",
              "      \n",
              "  <style>\n",
              "    .colab-df-container {\n",
              "      display:flex;\n",
              "      flex-wrap:wrap;\n",
              "      gap: 12px;\n",
              "    }\n",
              "\n",
              "    .colab-df-convert {\n",
              "      background-color: #E8F0FE;\n",
              "      border: none;\n",
              "      border-radius: 50%;\n",
              "      cursor: pointer;\n",
              "      display: none;\n",
              "      fill: #1967D2;\n",
              "      height: 32px;\n",
              "      padding: 0 0 0 0;\n",
              "      width: 32px;\n",
              "    }\n",
              "\n",
              "    .colab-df-convert:hover {\n",
              "      background-color: #E2EBFA;\n",
              "      box-shadow: 0px 1px 2px rgba(60, 64, 67, 0.3), 0px 1px 3px 1px rgba(60, 64, 67, 0.15);\n",
              "      fill: #174EA6;\n",
              "    }\n",
              "\n",
              "    [theme=dark] .colab-df-convert {\n",
              "      background-color: #3B4455;\n",
              "      fill: #D2E3FC;\n",
              "    }\n",
              "\n",
              "    [theme=dark] .colab-df-convert:hover {\n",
              "      background-color: #434B5C;\n",
              "      box-shadow: 0px 1px 3px 1px rgba(0, 0, 0, 0.15);\n",
              "      filter: drop-shadow(0px 1px 2px rgba(0, 0, 0, 0.3));\n",
              "      fill: #FFFFFF;\n",
              "    }\n",
              "  </style>\n",
              "\n",
              "      <script>\n",
              "        const buttonEl =\n",
              "          document.querySelector('#df-b61a172c-75a4-4383-9627-7ab7631d331f button.colab-df-convert');\n",
              "        buttonEl.style.display =\n",
              "          google.colab.kernel.accessAllowed ? 'block' : 'none';\n",
              "\n",
              "        async function convertToInteractive(key) {\n",
              "          const element = document.querySelector('#df-b61a172c-75a4-4383-9627-7ab7631d331f');\n",
              "          const dataTable =\n",
              "            await google.colab.kernel.invokeFunction('convertToInteractive',\n",
              "                                                     [key], {});\n",
              "          if (!dataTable) return;\n",
              "\n",
              "          const docLinkHtml = 'Like what you see? Visit the ' +\n",
              "            '<a target=\"_blank\" href=https://colab.research.google.com/notebooks/data_table.ipynb>data table notebook</a>'\n",
              "            + ' to learn more about interactive tables.';\n",
              "          element.innerHTML = '';\n",
              "          dataTable['output_type'] = 'display_data';\n",
              "          await google.colab.output.renderOutput(dataTable, element);\n",
              "          const docLink = document.createElement('div');\n",
              "          docLink.innerHTML = docLinkHtml;\n",
              "          element.appendChild(docLink);\n",
              "        }\n",
              "      </script>\n",
              "    </div>\n",
              "  </div>\n",
              "  "
            ]
          },
          "metadata": {},
          "execution_count": 55
        }
      ]
    },
    {
      "cell_type": "code",
      "source": [
        "data = []\n",
        "target = []\n",
        "for i in range(len(train) - 1):\n",
        "    a = list(train.iloc[i, 1:])\n",
        "    b = train.iloc[i+1, 1]\n",
        "    data.append(a)\n",
        "    target.append(b)"
      ],
      "metadata": {
        "id": "h470mM3rE_fL"
      },
      "execution_count": 72,
      "outputs": []
    },
    {
      "cell_type": "code",
      "source": [
        "plt.plot(target)\n",
        "plt.plot(pred)\n",
        "plt.legend(['real', 'prediction'])"
      ],
      "metadata": {
        "colab": {
          "base_uri": "https://localhost:8080/",
          "height": 294
        },
        "id": "4rYwDYTQFgss",
        "outputId": "4d98c10d-9e50-4d52-ab4c-154d8202fc4c"
      },
      "execution_count": 65,
      "outputs": [
        {
          "output_type": "execute_result",
          "data": {
            "text/plain": [
              "<matplotlib.legend.Legend at 0x7f1d682f7150>"
            ]
          },
          "metadata": {},
          "execution_count": 65
        },
        {
          "output_type": "display_data",
          "data": {
            "text/plain": [
              "<Figure size 432x288 with 1 Axes>"
            ],
            "image/png": "[encoded data removed]"
          },
          "metadata": {
            "needs_background": "light"
          }
        }
      ]
    },
    {
      "cell_type": "code",
      "source": [
        "from random import Random\n",
        "from sklearn.ensemble import RandomForestRegressor\n",
        "\n",
        "rf = RandomForestRegressor()\n",
        "rf.fit(data, target)"
      ],
      "metadata": {
        "colab": {
          "base_uri": "https://localhost:8080/"
        },
        "id": "tfeNzmhzGD0G",
        "outputId": "9682407f-a014-45ec-c1f9-08683089dffc"
      },
      "execution_count": 73,
      "outputs": [
        {
          "output_type": "execute_result",
          "data": {
            "text/plain": [
              "RandomForestRegressor()"
            ]
          },
          "metadata": {},
          "execution_count": 73
        }
      ]
    },
    {
      "cell_type": "code",
      "source": [
        "pred = rf.predict(data)\n",
        "pred"
      ],
      "metadata": {
        "colab": {
          "base_uri": "https://localhost:8080/"
        },
        "id": "j9am65MXGVVV",
        "outputId": "3634d0a2-f8e0-4e8d-8531-1bb12a0b85bc"
      },
      "execution_count": 63,
      "outputs": [
        {
          "output_type": "execute_result",
          "data": {
            "text/plain": [
              "array([67420., 67019., 67796., ..., 58999., 58620., 58750.])"
            ]
          },
          "metadata": {},
          "execution_count": 63
        }
      ]
    },
    {
      "cell_type": "code",
      "source": [
        "rf.predict([[58800.0,58200.0,58900.0,58200.0,4097314.0]])"
      ],
      "metadata": {
        "colab": {
          "base_uri": "https://localhost:8080/"
        },
        "id": "ODldoAX9GiKU",
        "outputId": "48758b68-c7f3-4def-bb04-b0d61b6f57f2"
      },
      "execution_count": 67,
      "outputs": [
        {
          "output_type": "execute_result",
          "data": {
            "text/plain": [
              "array([58975.])"
            ]
          },
          "metadata": {},
          "execution_count": 67
        }
      ]
    },
    {
      "cell_type": "code",
      "source": [
        "data = []\n",
        "target = []\n",
        "for i in range(len(test) - 1):\n",
        "    a = list(test.iloc[i, 1:])\n",
        "    b = test.iloc[i+1, 1]\n",
        "    data.append(a)\n",
        "    target.append(b)"
      ],
      "metadata": {
        "id": "yR8g71YcGkSt"
      },
      "execution_count": 74,
      "outputs": []
    },
    {
      "cell_type": "code",
      "source": [
        "plt.plot(target)\n",
        "plt.plot(rf.predict(data))"
      ],
      "metadata": {
        "colab": {
          "base_uri": "https://localhost:8080/",
          "height": 286
        },
        "id": "CPdOKD6vId9W",
        "outputId": "574ecfb0-67d0-4627-da67-fe03de74d485"
      },
      "execution_count": 76,
      "outputs": [
        {
          "output_type": "execute_result",
          "data": {
            "text/plain": [
              "[<matplotlib.lines.Line2D at 0x7f1d663b7110>]"
            ]
          },
          "metadata": {},
          "execution_count": 76
        },
        {
          "output_type": "display_data",
          "data": {
            "text/plain": [
              "<Figure size 432x288 with 1 Axes>"
            ],
            "image/png": "[encoded data removed]"
          },
          "metadata": {
            "needs_background": "light"
          }
        }
      ]
    },
    {
      "cell_type": "code",
      "source": [
        "rf.predict([[58800.0,58200.0,58900.0,58200.0,4097314.0]])"
      ],
      "metadata": {
        "colab": {
          "base_uri": "https://localhost:8080/"
        },
        "id": "eYfawh83IoIz",
        "outputId": "b2dfa615-7b24-47d5-b573-4e076219aa1a"
      },
      "execution_count": 77,
      "outputs": [
        {
          "output_type": "execute_result",
          "data": {
            "text/plain": [
              "array([58701.])"
            ]
          },
          "metadata": {},
          "execution_count": 77
        }
      ]
    },
    {
      "cell_type": "code",
      "source": [
        "df = pd.read_csv(\"시간별 태양광 인버터 발전량 데이터.csv\", encoding='euc-kr')\n",
        "df"
      ],
      "metadata": {
        "colab": {
          "base_uri": "https://localhost:8080/",
          "height": 424
        },
        "id": "JsWvGLTFI30L",
        "outputId": "8104bf3d-caab-448a-acff-e4214de8c799"
      },
      "execution_count": 79,
      "outputs": [
        {
          "output_type": "execute_result",
          "data": {
            "text/plain": [
              "            발전기명         년월일  설비용량(MW)  01시  02시  03시  04시  05시  06시      07시  \\\n",
              "0      영암에프원태양광b  2017-01-01    13.296  0.0  0.0  0.0  0.0  0.0  0.0      0.0   \n",
              "1      영암에프원태양광b  2017-01-02    13.296  0.0  0.0  0.0  0.0  0.0  0.0      0.0   \n",
              "2      영암에프원태양광b  2017-01-03    13.296  0.0  0.0  0.0  0.0  0.0  0.0      0.0   \n",
              "3      영암에프원태양광b  2017-01-04    13.296  0.0  0.0  0.0  0.0  0.0  0.0      0.0   \n",
              "4      영암에프원태양광b  2017-01-05    13.296  0.0  0.0  0.0  0.0  0.0  0.0      0.0   \n",
              "...          ...         ...       ...  ...  ...  ...  ...  ...  ...      ...   \n",
              "5102  안산연성정수장태양광  2021-08-27     1.490  0.0  0.0  0.0  0.0  0.0  0.0      0.0   \n",
              "5103  안산연성정수장태양광  2021-08-28     1.490  0.0  0.0  0.0  0.0  0.0  0.0  22800.0   \n",
              "5104  안산연성정수장태양광  2021-08-29     1.490  0.0  0.0  0.0  0.0  0.0  0.0      0.0   \n",
              "5105  안산연성정수장태양광  2021-08-30     1.490  0.0  0.0  0.0  0.0  0.0  0.0  10800.0   \n",
              "5106  안산연성정수장태양광  2021-08-31     1.490  0.0  0.0  0.0  0.0  0.0  0.0      0.0   \n",
              "\n",
              "      ...        15시        16시        17시       18시      19시  20시  21시  22시  \\\n",
              "0     ...  7344000.0  5155200.0  2131200.0  134400.0      0.0  0.0  0.0  0.0   \n",
              "1     ...  6355200.0  4512000.0  1584000.0   76800.0      0.0  0.0  0.0  0.0   \n",
              "2     ...  7411200.0  5356800.0  2332800.0  163200.0      0.0  0.0  0.0  0.0   \n",
              "3     ...  4752000.0  3427200.0  1440000.0   67200.0      0.0  0.0  0.0  0.0   \n",
              "4     ...  1027200.0   969600.0   460800.0   38400.0      0.0  0.0  0.0  0.0   \n",
              "...   ...        ...        ...        ...       ...      ...  ...  ...  ...   \n",
              "5102  ...   110400.0    82800.0    51600.0   24000.0   3600.0  0.0  0.0  0.0   \n",
              "5103  ...   679200.0   433200.0   261600.0  114000.0  24000.0  0.0  0.0  0.0   \n",
              "5104  ...   519600.0   313200.0   262800.0   84000.0  18000.0  0.0  0.0  0.0   \n",
              "5105  ...   379200.0   330000.0   248400.0  120000.0  14400.0  0.0  0.0  0.0   \n",
              "5106  ...    42000.0    16800.0     2400.0       0.0      0.0  0.0  0.0  0.0   \n",
              "\n",
              "      23시  24시  \n",
              "0     0.0  0.0  \n",
              "1     0.0  0.0  \n",
              "2     0.0  0.0  \n",
              "3     0.0  0.0  \n",
              "4     0.0  0.0  \n",
              "...   ...  ...  \n",
              "5102  0.0  0.0  \n",
              "5103  0.0  0.0  \n",
              "5104  0.0  0.0  \n",
              "5105  0.0  0.0  \n",
              "5106  0.0  0.0  \n",
              "\n",
              "[5107 rows x 27 columns]"
            ],
            "text/html": [
              "\n",
              "  <div id=\"df-5222a2a2-1560-42ff-8934-6eda5ef2d896\">\n",
              "    <div class=\"colab-df-container\">\n",
              "      <div>\n",
              "<style scoped>\n",
              "    .dataframe tbody tr th:only-of-type {\n",
              "        vertical-align: middle;\n",
              "    }\n",
              "\n",
              "    .dataframe tbody tr th {\n",
              "        vertical-align: top;\n",
              "    }\n",
              "\n",
              "    .dataframe thead th {\n",
              "        text-align: right;\n",
              "    }\n",
              "</style>\n",
              "<table border=\"1\" class=\"dataframe\">\n",
              "  <thead>\n",
              "    <tr style=\"text-align: right;\">\n",
              "      <th></th>\n",
              "      <th>발전기명</th>\n",
              "      <th>년월일</th>\n",
              "      <th>설비용량(MW)</th>\n",
              "      <th>01시</th>\n",
              "      <th>02시</th>\n",
              "      <th>03시</th>\n",
              "      <th>04시</th>\n",
              "      <th>05시</th>\n",
              "      <th>06시</th>\n",
              "      <th>07시</th>\n",
              "      <th>...</th>\n",
              "      <th>15시</th>\n",
              "      <th>16시</th>\n",
              "      <th>17시</th>\n",
              "      <th>18시</th>\n",
              "      <th>19시</th>\n",
              "      <th>20시</th>\n",
              "      <th>21시</th>\n",
              "      <th>22시</th>\n",
              "      <th>23시</th>\n",
              "      <th>24시</th>\n",
              "    </tr>\n",
              "  </thead>\n",
              "  <tbody>\n",
              "    <tr>\n",
              "      <th>0</th>\n",
              "      <td>영암에프원태양광b</td>\n",
              "      <td>2017-01-01</td>\n",
              "      <td>13.296</td>\n",
              "      <td>0.0</td>\n",
              "      <td>0.0</td>\n",
              "      <td>0.0</td>\n",
              "      <td>0.0</td>\n",
              "      <td>0.0</td>\n",
              "      <td>0.0</td>\n",
              "      <td>0.0</td>\n",
              "      <td>...</td>\n",
              "      <td>7344000.0</td>\n",
              "      <td>5155200.0</td>\n",
              "      <td>2131200.0</td>\n",
              "      <td>134400.0</td>\n",
              "      <td>0.0</td>\n",
              "      <td>0.0</td>\n",
              "      <td>0.0</td>\n",
              "      <td>0.0</td>\n",
              "      <td>0.0</td>\n",
              "      <td>0.0</td>\n",
              "    </tr>\n",
              "    <tr>\n",
              "      <th>1</th>\n",
              "      <td>영암에프원태양광b</td>\n",
              "      <td>2017-01-02</td>\n",
              "      <td>13.296</td>\n",
              "      <td>0.0</td>\n",
              "      <td>0.0</td>\n",
              "      <td>0.0</td>\n",
              "      <td>0.0</td>\n",
              "      <td>0.0</td>\n",
              "      <td>0.0</td>\n",
              "      <td>0.0</td>\n",
              "      <td>...</td>\n",
              "      <td>6355200.0</td>\n",
              "      <td>4512000.0</td>\n",
              "      <td>1584000.0</td>\n",
              "      <td>76800.0</td>\n",
              "      <td>0.0</td>\n",
              "      <td>0.0</td>\n",
              "      <td>0.0</td>\n",
              "      <td>0.0</td>\n",
              "      <td>0.0</td>\n",
              "      <td>0.0</td>\n",
              "    </tr>\n",
              "    <tr>\n",
              "      <th>2</th>\n",
              "      <td>영암에프원태양광b</td>\n",
              "      <td>2017-01-03</td>\n",
              "      <td>13.296</td>\n",
              "      <td>0.0</td>\n",
              "      <td>0.0</td>\n",
              "      <td>0.0</td>\n",
              "      <td>0.0</td>\n",
              "      <td>0.0</td>\n",
              "      <td>0.0</td>\n",
              "      <td>0.0</td>\n",
              "      <td>...</td>\n",
              "      <td>7411200.0</td>\n",
              "      <td>5356800.0</td>\n",
              "      <td>2332800.0</td>\n",
              "      <td>163200.0</td>\n",
              "      <td>0.0</td>\n",
              "      <td>0.0</td>\n",
              "      <td>0.0</td>\n",
              "      <td>0.0</td>\n",
              "      <td>0.0</td>\n",
              "      <td>0.0</td>\n",
              "    </tr>\n",
              "    <tr>\n",
              "      <th>3</th>\n",
              "      <td>영암에프원태양광b</td>\n",
              "      <td>2017-01-04</td>\n",
              "      <td>13.296</td>\n",
              "      <td>0.0</td>\n",
              "      <td>0.0</td>\n",
              "      <td>0.0</td>\n",
              "      <td>0.0</td>\n",
              "      <td>0.0</td>\n",
              "      <td>0.0</td>\n",
              "      <td>0.0</td>\n",
              "      <td>...</td>\n",
              "      <td>4752000.0</td>\n",
              "      <td>3427200.0</td>\n",
              "      <td>1440000.0</td>\n",
              "      <td>67200.0</td>\n",
              "      <td>0.0</td>\n",
              "      <td>0.0</td>\n",
              "      <td>0.0</td>\n",
              "      <td>0.0</td>\n",
              "      <td>0.0</td>\n",
              "      <td>0.0</td>\n",
              "    </tr>\n",
              "    <tr>\n",
              "      <th>4</th>\n",
              "      <td>영암에프원태양광b</td>\n",
              "      <td>2017-01-05</td>\n",
              "      <td>13.296</td>\n",
              "      <td>0.0</td>\n",
              "      <td>0.0</td>\n",
              "      <td>0.0</td>\n",
              "      <td>0.0</td>\n",
              "      <td>0.0</td>\n",
              "      <td>0.0</td>\n",
              "      <td>0.0</td>\n",
              "      <td>...</td>\n",
              "      <td>1027200.0</td>\n",
              "      <td>969600.0</td>\n",
              "      <td>460800.0</td>\n",
              "      <td>38400.0</td>\n",
              "      <td>0.0</td>\n",
              "      <td>0.0</td>\n",
              "      <td>0.0</td>\n",
              "      <td>0.0</td>\n",
              "      <td>0.0</td>\n",
              "      <td>0.0</td>\n",
              "    </tr>\n",
              "    <tr>\n",
              "      <th>...</th>\n",
              "      <td>...</td>\n",
              "      <td>...</td>\n",
              "      <td>...</td>\n",
              "      <td>...</td>\n",
              "      <td>...</td>\n",
              "      <td>...</td>\n",
              "      <td>...</td>\n",
              "      <td>...</td>\n",
              "      <td>...</td>\n",
              "      <td>...</td>\n",
              "      <td>...</td>\n",
              "      <td>...</td>\n",
              "      <td>...</td>\n",
              "      <td>...</td>\n",
              "      <td>...</td>\n",
              "      <td>...</td>\n",
              "      <td>...</td>\n",
              "      <td>...</td>\n",
              "      <td>...</td>\n",
              "      <td>...</td>\n",
              "      <td>...</td>\n",
              "    </tr>\n",
              "    <tr>\n",
              "      <th>5102</th>\n",
              "      <td>안산연성정수장태양광</td>\n",
              "      <td>2021-08-27</td>\n",
              "      <td>1.490</td>\n",
              "      <td>0.0</td>\n",
              "      <td>0.0</td>\n",
              "      <td>0.0</td>\n",
              "      <td>0.0</td>\n",
              "      <td>0.0</td>\n",
              "      <td>0.0</td>\n",
              "      <td>0.0</td>\n",
              "      <td>...</td>\n",
              "      <td>110400.0</td>\n",
              "      <td>82800.0</td>\n",
              "      <td>51600.0</td>\n",
              "      <td>24000.0</td>\n",
              "      <td>3600.0</td>\n",
              "      <td>0.0</td>\n",
              "      <td>0.0</td>\n",
              "      <td>0.0</td>\n",
              "      <td>0.0</td>\n",
              "      <td>0.0</td>\n",
              "    </tr>\n",
              "    <tr>\n",
              "      <th>5103</th>\n",
              "      <td>안산연성정수장태양광</td>\n",
              "      <td>2021-08-28</td>\n",
              "      <td>1.490</td>\n",
              "      <td>0.0</td>\n",
              "      <td>0.0</td>\n",
              "      <td>0.0</td>\n",
              "      <td>0.0</td>\n",
              "      <td>0.0</td>\n",
              "      <td>0.0</td>\n",
              "      <td>22800.0</td>\n",
              "      <td>...</td>\n",
              "      <td>679200.0</td>\n",
              "      <td>433200.0</td>\n",
              "      <td>261600.0</td>\n",
              "      <td>114000.0</td>\n",
              "      <td>24000.0</td>\n",
              "      <td>0.0</td>\n",
              "      <td>0.0</td>\n",
              "      <td>0.0</td>\n",
              "      <td>0.0</td>\n",
              "      <td>0.0</td>\n",
              "    </tr>\n",
              "    <tr>\n",
              "      <th>5104</th>\n",
              "      <td>안산연성정수장태양광</td>\n",
              "      <td>2021-08-29</td>\n",
              "      <td>1.490</td>\n",
              "      <td>0.0</td>\n",
              "      <td>0.0</td>\n",
              "      <td>0.0</td>\n",
              "      <td>0.0</td>\n",
              "      <td>0.0</td>\n",
              "      <td>0.0</td>\n",
              "      <td>0.0</td>\n",
              "      <td>...</td>\n",
              "      <td>519600.0</td>\n",
              "      <td>313200.0</td>\n",
              "      <td>262800.0</td>\n",
              "      <td>84000.0</td>\n",
              "      <td>18000.0</td>\n",
              "      <td>0.0</td>\n",
              "      <td>0.0</td>\n",
              "      <td>0.0</td>\n",
              "      <td>0.0</td>\n",
              "      <td>0.0</td>\n",
              "    </tr>\n",
              "    <tr>\n",
              "      <th>5105</th>\n",
              "      <td>안산연성정수장태양광</td>\n",
              "      <td>2021-08-30</td>\n",
              "      <td>1.490</td>\n",
              "      <td>0.0</td>\n",
              "      <td>0.0</td>\n",
              "      <td>0.0</td>\n",
              "      <td>0.0</td>\n",
              "      <td>0.0</td>\n",
              "      <td>0.0</td>\n",
              "      <td>10800.0</td>\n",
              "      <td>...</td>\n",
              "      <td>379200.0</td>\n",
              "      <td>330000.0</td>\n",
              "      <td>248400.0</td>\n",
              "      <td>120000.0</td>\n",
              "      <td>14400.0</td>\n",
              "      <td>0.0</td>\n",
              "      <td>0.0</td>\n",
              "      <td>0.0</td>\n",
              "      <td>0.0</td>\n",
              "      <td>0.0</td>\n",
              "    </tr>\n",
              "    <tr>\n",
              "      <th>5106</th>\n",
              "      <td>안산연성정수장태양광</td>\n",
              "      <td>2021-08-31</td>\n",
              "      <td>1.490</td>\n",
              "      <td>0.0</td>\n",
              "      <td>0.0</td>\n",
              "      <td>0.0</td>\n",
              "      <td>0.0</td>\n",
              "      <td>0.0</td>\n",
              "      <td>0.0</td>\n",
              "      <td>0.0</td>\n",
              "      <td>...</td>\n",
              "      <td>42000.0</td>\n",
              "      <td>16800.0</td>\n",
              "      <td>2400.0</td>\n",
              "      <td>0.0</td>\n",
              "      <td>0.0</td>\n",
              "      <td>0.0</td>\n",
              "      <td>0.0</td>\n",
              "      <td>0.0</td>\n",
              "      <td>0.0</td>\n",
              "      <td>0.0</td>\n",
              "    </tr>\n",
              "  </tbody>\n",
              "</table>\n",
              "<p>5107 rows × 27 columns</p>\n",
              "</div>\n",
              "      <button class=\"colab-df-convert\" onclick=\"convertToInteractive('df-5222a2a2-1560-42ff-8934-6eda5ef2d896')\"\n",
              "              title=\"Convert this dataframe to an interactive table.\"\n",
              "              style=\"display:none;\">\n",
              "        \n",
              "  <svg xmlns=\"http://www.w3.org/2000/svg\" height=\"24px\"viewBox=\"0 0 24 24\"\n",
              "       width=\"24px\">\n",
              "    <path d=\"M0 0h24v24H0V0z\" fill=\"none\"/>\n",
              "    <path d=\"M18.56 5.44l.94 2.06.94-2.06 2.06-.94-2.06-.94-.94-2.06-.94 2.06-2.06.94zm-11 1L8.5 8.5l.94-2.06 2.06-.94-2.06-.94L8.5 2.5l-.94 2.06-2.06.94zm10 10l.94 2.06.94-2.06 2.06-.94-2.06-.94-.94-2.06-.94 2.06-2.06.94z\"/><path d=\"M17.41 7.96l-1.37-1.37c-.4-.4-.92-.59-1.43-.59-.52 0-1.04.2-1.43.59L10.3 9.45l-7.72 7.72c-.78.78-.78 2.05 0 2.83L4 21.41c.39.39.9.59 1.41.59.51 0 1.02-.2 1.41-.59l7.78-7.78 2.81-2.81c.8-.78.8-2.07 0-2.86zM5.41 20L4 18.59l7.72-7.72 1.47 1.35L5.41 20z\"/>\n",
              "  </svg>\n",
              "      </button>\n",
              "      \n",
              "  <style>\n",
              "    .colab-df-container {\n",
              "      display:flex;\n",
              "      flex-wrap:wrap;\n",
              "      gap: 12px;\n",
              "    }\n",
              "\n",
              "    .colab-df-convert {\n",
              "      background-color: #E8F0FE;\n",
              "      border: none;\n",
              "      border-radius: 50%;\n",
              "      cursor: pointer;\n",
              "      display: none;\n",
              "      fill: #1967D2;\n",
              "      height: 32px;\n",
              "      padding: 0 0 0 0;\n",
              "      width: 32px;\n",
              "    }\n",
              "\n",
              "    .colab-df-convert:hover {\n",
              "      background-color: #E2EBFA;\n",
              "      box-shadow: 0px 1px 2px rgba(60, 64, 67, 0.3), 0px 1px 3px 1px rgba(60, 64, 67, 0.15);\n",
              "      fill: #174EA6;\n",
              "    }\n",
              "\n",
              "    [theme=dark] .colab-df-convert {\n",
              "      background-color: #3B4455;\n",
              "      fill: #D2E3FC;\n",
              "    }\n",
              "\n",
              "    [theme=dark] .colab-df-convert:hover {\n",
              "      background-color: #434B5C;\n",
              "      box-shadow: 0px 1px 3px 1px rgba(0, 0, 0, 0.15);\n",
              "      filter: drop-shadow(0px 1px 2px rgba(0, 0, 0, 0.3));\n",
              "      fill: #FFFFFF;\n",
              "    }\n",
              "  </style>\n",
              "\n",
              "      <script>\n",
              "        const buttonEl =\n",
              "          document.querySelector('#df-5222a2a2-1560-42ff-8934-6eda5ef2d896 button.colab-df-convert');\n",
              "        buttonEl.style.display =\n",
              "          google.colab.kernel.accessAllowed ? 'block' : 'none';\n",
              "\n",
              "        async function convertToInteractive(key) {\n",
              "          const element = document.querySelector('#df-5222a2a2-1560-42ff-8934-6eda5ef2d896');\n",
              "          const dataTable =\n",
              "            await google.colab.kernel.invokeFunction('convertToInteractive',\n",
              "                                                     [key], {});\n",
              "          if (!dataTable) return;\n",
              "\n",
              "          const docLinkHtml = 'Like what you see? Visit the ' +\n",
              "            '<a target=\"_blank\" href=https://colab.research.google.com/notebooks/data_table.ipynb>data table notebook</a>'\n",
              "            + ' to learn more about interactive tables.';\n",
              "          element.innerHTML = '';\n",
              "          dataTable['output_type'] = 'display_data';\n",
              "          await google.colab.output.renderOutput(dataTable, element);\n",
              "          const docLink = document.createElement('div');\n",
              "          docLink.innerHTML = docLinkHtml;\n",
              "          element.appendChild(docLink);\n",
              "        }\n",
              "      </script>\n",
              "    </div>\n",
              "  </div>\n",
              "  "
            ]
          },
          "metadata": {},
          "execution_count": 79
        }
      ]
    },
    {
      "cell_type": "code",
      "source": [
        "np.unique(df['발전기명'], return_counts = True)"
      ],
      "metadata": {
        "colab": {
          "base_uri": "https://localhost:8080/"
        },
        "id": "hw1dSHiAJr_S",
        "outputId": "65352bcb-354d-4f22-adfd-1e4da09ce320"
      },
      "execution_count": 81,
      "outputs": [
        {
          "output_type": "execute_result",
          "data": {
            "text/plain": [
              "(array(['세종시폐기물매립장태양광', '안산연성정수장태양광', '영암에프원태양광b'], dtype=object),\n",
              " array([1699, 1704, 1704]))"
            ]
          },
          "metadata": {},
          "execution_count": 81
        }
      ]
    },
    {
      "cell_type": "code",
      "source": [
        "sample1 = df[df['발전기명'] == '영암에프원태양광b']\n",
        "sample2 = df[df['발전기명'] == '안산연성정수장태양광']\n",
        "sample3 = df[df['발전기명'] == '세종시폐기물매립장태양광']\n",
        "\n",
        "sample1 = sample1.interpolate()\n",
        "sample2 = sample2.interpolate()\n",
        "sample3 = sample3.interpolate()\n",
        "\n",
        "data = []\n",
        "target = []\n",
        "\n",
        "for i in range(len(sample1) - 1):\n",
        "    a = list(sample1.iloc[i, 2:])\n",
        "    b = sample1.iloc[i+1, 17]\n",
        "    data.append(a)\n",
        "    target.append(b)\n",
        "\n",
        "for i in range(len(sample2) - 1):\n",
        "    a = list(sample2.iloc[i, 2:])\n",
        "    b = sample2.iloc[i+1, 17]\n",
        "    data.append(a)\n",
        "    target.append(b)\n",
        "\n",
        "for i in range(len(sample3) - 1):\n",
        "    a = list(sample3.iloc[i, 2:])\n",
        "    b = sample3.iloc[i+1, 17]\n",
        "    data.append(a)\n",
        "    target.append(b)\n",
        "\n",
        "data = np.array(data)\n",
        "target = np.array(target)"
      ],
      "metadata": {
        "id": "nSxUZr7xKUTS"
      },
      "execution_count": 87,
      "outputs": []
    },
    {
      "cell_type": "code",
      "source": [
        "data.shape"
      ],
      "metadata": {
        "colab": {
          "base_uri": "https://localhost:8080/"
        },
        "id": "-f1J9dfyKjKj",
        "outputId": "3157d051-c0de-4c87-a8ea-e4b2f9931283"
      },
      "execution_count": 85,
      "outputs": [
        {
          "output_type": "execute_result",
          "data": {
            "text/plain": [
              "(5104, 25)"
            ]
          },
          "metadata": {},
          "execution_count": 85
        }
      ]
    },
    {
      "cell_type": "code",
      "source": [
        "train_input, test_input, train_target, test_target = train_test_split(data, target, test_size = 0.2)\n",
        "\n",
        "rf = RandomForestRegressor()\n",
        "rf.fit(train_input, train_target)\n",
        "rf.score(test_input, test_target)"
      ],
      "metadata": {
        "colab": {
          "base_uri": "https://localhost:8080/"
        },
        "id": "Zgzl7249Pkxl",
        "outputId": "cdc8a173-96c0-40bd-b473-75fce312f592"
      },
      "execution_count": 88,
      "outputs": [
        {
          "output_type": "execute_result",
          "data": {
            "text/plain": [
              "0.7165765057425917"
            ]
          },
          "metadata": {},
          "execution_count": 88
        }
      ]
    },
    {
      "cell_type": "code",
      "source": [
        "# 비지도 학습 : 문제집\n",
        "\n",
        "fruits = np.load(\"fruits_300.npy\")\n",
        "fruits.shape # 300개의 사진 가로 100 세로 100"
      ],
      "metadata": {
        "colab": {
          "base_uri": "https://localhost:8080/"
        },
        "id": "RRe-z10fQZS_",
        "outputId": "34fd2e2f-d264-4865-c264-9d764df73753"
      },
      "execution_count": 89,
      "outputs": [
        {
          "output_type": "execute_result",
          "data": {
            "text/plain": [
              "(300, 100, 100)"
            ]
          },
          "metadata": {},
          "execution_count": 89
        }
      ]
    },
    {
      "cell_type": "code",
      "source": [
        "# 사과100, 파인애플100, 바나나100\n",
        "plt.imshow(fruits[200], cmap = 'gray_r')"
      ],
      "metadata": {
        "colab": {
          "base_uri": "https://localhost:8080/",
          "height": 286
        },
        "id": "yvcTO-tpWbrE",
        "outputId": "fa08a826-7e12-493c-db28-191dc436ad7b"
      },
      "execution_count": 94,
      "outputs": [
        {
          "output_type": "execute_result",
          "data": {
            "text/plain": [
              "<matplotlib.image.AxesImage at 0x7f1d65fa6c10>"
            ]
          },
          "metadata": {},
          "execution_count": 94
        },
        {
          "output_type": "display_data",
          "data": {
            "text/plain": [
              "<Figure size 432x288 with 1 Axes>"
            ],
            "image/png": "[encoded data removed]"
          },
          "metadata": {
            "needs_background": "light"
          }
        }
      ]
    },
    {
      "cell_type": "code",
      "source": [
        "# KMeans : 데이터 : 2차원 행렬\n",
        "\n",
        "fruits2 = fruits.reshape(300, 10000)\n",
        "fruits2.shape"
      ],
      "metadata": {
        "colab": {
          "base_uri": "https://localhost:8080/"
        },
        "id": "MH6XhrFkWpdR",
        "outputId": "4f7603dd-b357-4c59-f339-3514b1805a31"
      },
      "execution_count": 96,
      "outputs": [
        {
          "output_type": "execute_result",
          "data": {
            "text/plain": [
              "(300, 10000)"
            ]
          },
          "metadata": {},
          "execution_count": 96
        }
      ]
    },
    {
      "cell_type": "code",
      "source": [
        "from sklearn.cluster import KMeans\n",
        "\n",
        "km = KMeans(n_clusters=3)\n",
        "km.fit(fruits2)"
      ],
      "metadata": {
        "colab": {
          "base_uri": "https://localhost:8080/"
        },
        "id": "s6RyNAP4YQUh",
        "outputId": "c4683482-6fea-4fb1-f474-911e831639c7"
      },
      "execution_count": 99,
      "outputs": [
        {
          "output_type": "execute_result",
          "data": {
            "text/plain": [
              "KMeans(n_clusters=3)"
            ]
          },
          "metadata": {},
          "execution_count": 99
        }
      ]
    },
    {
      "cell_type": "code",
      "source": [
        "target = km.labels_\n",
        "target"
      ],
      "metadata": {
        "colab": {
          "base_uri": "https://localhost:8080/"
        },
        "id": "vpd7cR9oYkwU",
        "outputId": "2dec653a-04de-48b7-9f40-f1086f8e6fc0"
      },
      "execution_count": 101,
      "outputs": [
        {
          "output_type": "execute_result",
          "data": {
            "text/plain": [
              "array([0, 0, 0, 0, 0, 2, 0, 0, 0, 0, 0, 0, 0, 0, 0, 0, 0, 0, 2, 0, 0, 0,\n",
              "       0, 0, 0, 0, 0, 0, 0, 0, 0, 0, 0, 0, 0, 0, 0, 0, 0, 0, 0, 0, 2, 0,\n",
              "       2, 0, 0, 0, 0, 0, 0, 0, 2, 0, 0, 0, 0, 0, 0, 0, 0, 0, 2, 2, 0, 0,\n",
              "       0, 0, 0, 0, 0, 0, 2, 0, 0, 0, 0, 0, 0, 0, 0, 0, 0, 0, 0, 0, 0, 0,\n",
              "       0, 0, 0, 2, 0, 0, 0, 0, 0, 0, 0, 0, 2, 2, 2, 2, 2, 2, 2, 2, 2, 2,\n",
              "       2, 2, 2, 2, 2, 2, 2, 2, 2, 2, 2, 2, 2, 2, 2, 2, 2, 2, 2, 2, 2, 2,\n",
              "       2, 2, 2, 2, 2, 2, 2, 2, 2, 2, 2, 2, 2, 2, 2, 2, 2, 2, 2, 2, 2, 2,\n",
              "       2, 2, 2, 2, 2, 2, 2, 2, 2, 2, 2, 2, 2, 2, 2, 2, 2, 2, 2, 2, 2, 2,\n",
              "       2, 2, 2, 2, 2, 2, 2, 2, 2, 2, 2, 2, 2, 2, 2, 2, 2, 2, 2, 2, 2, 2,\n",
              "       2, 2, 1, 1, 1, 1, 1, 1, 1, 1, 1, 1, 1, 1, 1, 1, 1, 1, 1, 1, 1, 1,\n",
              "       1, 1, 1, 1, 1, 1, 1, 1, 1, 1, 1, 2, 1, 1, 1, 1, 1, 1, 1, 1, 1, 1,\n",
              "       1, 1, 1, 1, 1, 1, 1, 1, 1, 1, 1, 1, 1, 1, 1, 1, 1, 1, 1, 1, 1, 1,\n",
              "       1, 1, 1, 1, 1, 1, 1, 1, 1, 2, 1, 1, 1, 1, 1, 1, 1, 1, 1, 1, 1, 1,\n",
              "       1, 1, 1, 1, 1, 1, 1, 1, 1, 1, 1, 1, 1, 1], dtype=int32)"
            ]
          },
          "metadata": {},
          "execution_count": 101
        }
      ]
    },
    {
      "cell_type": "code",
      "source": [
        "# 시뮬레이션\n",
        "\n",
        "# 2개 : 거리의 제곱합이 : ???\n",
        "# 3개 : 거리의 제곱합 : ???\n",
        "\n",
        "box = []\n",
        "for n in range(2, 7):\n",
        "    km = KMeans(n_clusters=n)\n",
        "    km.fit(fruits2)\n",
        "    box.append(km.inertia_) # 중심과 데이터 사이의 거리의 제곱합\n",
        "\n",
        "plt.plot(range(2,7), box)"
      ],
      "metadata": {
        "colab": {
          "base_uri": "https://localhost:8080/",
          "height": 294
        },
        "id": "ScvE-Ca9Yy0x",
        "outputId": "1e7d57a1-bbe6-4d8f-bb21-31cb4ecedea7"
      },
      "execution_count": 102,
      "outputs": [
        {
          "output_type": "execute_result",
          "data": {
            "text/plain": [
              "[<matplotlib.lines.Line2D at 0x7f1d6614fa50>]"
            ]
          },
          "metadata": {},
          "execution_count": 102
        },
        {
          "output_type": "display_data",
          "data": {
            "text/plain": [
              "<Figure size 432x288 with 1 Axes>"
            ],
            "image/png": "[encoded data removed]"
          },
          "metadata": {
            "needs_background": "light"
          }
        }
      ]
    },
    {
      "cell_type": "code",
      "source": [
        "# 인공신경망\n",
        "\n",
        "data = wine.iloc[:, :-1].to_numpy()\n",
        "target = wine.iloc[:, -1].to_numpy()"
      ],
      "metadata": {
        "id": "KsrIjgjobJ7r"
      },
      "execution_count": 104,
      "outputs": []
    },
    {
      "cell_type": "code",
      "source": [
        "target"
      ],
      "metadata": {
        "colab": {
          "base_uri": "https://localhost:8080/"
        },
        "id": "Q58cVL9FbkdO",
        "outputId": "c0d04ce4-83e4-44e6-c5ee-42a690cabc98"
      },
      "execution_count": 106,
      "outputs": [
        {
          "output_type": "execute_result",
          "data": {
            "text/plain": [
              "array([0., 0., 0., ..., 1., 1., 1.])"
            ]
          },
          "metadata": {},
          "execution_count": 106
        }
      ]
    },
    {
      "cell_type": "code",
      "source": [
        "from tensorflow import keras\n",
        "from sklearn.preprocessing import StandardScaler\n",
        "\n",
        "train_input, test_input, train_target, test_target = train_test_split(data, target, test_size = 0.2)\n",
        "\n",
        "ss = StandardScaler()\n",
        "train_scaled = ss.fit_transform(train_input) # 평균과 표준편차를 구하고 처리해서 넣어라\n",
        "test_scaled = ss.transform(test_input) # 학습했던 평균과 표준편차를 가지고 처리해서 넣어라\n",
        "\n",
        "model = keras.Sequential() # 인공신경망을 설계하기위한 도화지\n",
        "model.add(keras.layers.Dense(4, activation = 'relu', input_shape = (3, )))\n",
        "model.add(keras.layers.Dense(8, activation = 'relu'))\n",
        "model.add(keras.layers.Dense(1, activation = 'sigmoid'))\n",
        "\n",
        "# 연속으로 30회 이상 좋아지지않으면 학습을 종료시킨다. 마지막 30회는 무효로 친다.\n",
        "es = keras.callbacks.EarlyStopping(patience=30, restore_best_weights=True)\n",
        "\n",
        "# 어떻게 학습할건지\n",
        "model.compile(loss = 'binary_crossentropy', metrics = 'accuracy')\n",
        "\n",
        "hist = model.fit(train_scaled, train_target, epochs = 1000000, validation_data=(test_scaled, test_target),\n",
        "                 callbacks = [es])"
      ],
      "metadata": {
        "colab": {
          "base_uri": "https://localhost:8080/"
        },
        "id": "nE9ALSs1bwy0",
        "outputId": "af29feda-3026-4a39-c3d7-0a2aec87962f"
      },
      "execution_count": 119,
      "outputs": [
        {
          "output_type": "stream",
          "name": "stdout",
          "text": [
            "Epoch 1/1000000\n",
            "163/163 [==============================] - 1s 3ms/step - loss: 0.5958 - accuracy: 0.7345 - val_loss: 0.5106 - val_accuracy: 0.7615\n",
            "Epoch 2/1000000\n",
            "163/163 [==============================] - 0s 2ms/step - loss: 0.4803 - accuracy: 0.7520 - val_loss: 0.4463 - val_accuracy: 0.7615\n",
            "Epoch 3/1000000\n",
            "163/163 [==============================] - 0s 3ms/step - loss: 0.4366 - accuracy: 0.7520 - val_loss: 0.4243 - val_accuracy: 0.7615\n",
            "Epoch 4/1000000\n",
            "163/163 [==============================] - 0s 2ms/step - loss: 0.4213 - accuracy: 0.7520 - val_loss: 0.4160 - val_accuracy: 0.7615\n",
            "Epoch 5/1000000\n",
            "163/163 [==============================] - 0s 3ms/step - loss: 0.4146 - accuracy: 0.7520 - val_loss: 0.4121 - val_accuracy: 0.7615\n",
            "Epoch 6/1000000\n",
            "163/163 [==============================] - 0s 2ms/step - loss: 0.4112 - accuracy: 0.7772 - val_loss: 0.4099 - val_accuracy: 0.7977\n",
            "Epoch 7/1000000\n",
            "163/163 [==============================] - 0s 2ms/step - loss: 0.4086 - accuracy: 0.7945 - val_loss: 0.4085 - val_accuracy: 0.7977\n",
            "Epoch 8/1000000\n",
            "163/163 [==============================] - 0s 2ms/step - loss: 0.4070 - accuracy: 0.8022 - val_loss: 0.4076 - val_accuracy: 0.8054\n",
            "Epoch 9/1000000\n",
            "163/163 [==============================] - 0s 2ms/step - loss: 0.4057 - accuracy: 0.8084 - val_loss: 0.4068 - val_accuracy: 0.8031\n",
            "Epoch 10/1000000\n",
            "163/163 [==============================] - 0s 3ms/step - loss: 0.4045 - accuracy: 0.8099 - val_loss: 0.4059 - val_accuracy: 0.8031\n",
            "Epoch 11/1000000\n",
            "163/163 [==============================] - 0s 2ms/step - loss: 0.4033 - accuracy: 0.8107 - val_loss: 0.4054 - val_accuracy: 0.8023\n",
            "Epoch 12/1000000\n",
            "163/163 [==============================] - 0s 2ms/step - loss: 0.4023 - accuracy: 0.8107 - val_loss: 0.4052 - val_accuracy: 0.8031\n",
            "Epoch 13/1000000\n",
            "163/163 [==============================] - 0s 2ms/step - loss: 0.4013 - accuracy: 0.8112 - val_loss: 0.4044 - val_accuracy: 0.8031\n",
            "Epoch 14/1000000\n",
            "163/163 [==============================] - 0s 2ms/step - loss: 0.4007 - accuracy: 0.8126 - val_loss: 0.4039 - val_accuracy: 0.8054\n",
            "Epoch 15/1000000\n",
            "163/163 [==============================] - 0s 2ms/step - loss: 0.3999 - accuracy: 0.8126 - val_loss: 0.4032 - val_accuracy: 0.8046\n",
            "Epoch 16/1000000\n",
            "163/163 [==============================] - 0s 2ms/step - loss: 0.3991 - accuracy: 0.8134 - val_loss: 0.4031 - val_accuracy: 0.8054\n",
            "Epoch 17/1000000\n",
            "163/163 [==============================] - 0s 2ms/step - loss: 0.3986 - accuracy: 0.8137 - val_loss: 0.4024 - val_accuracy: 0.8062\n",
            "Epoch 18/1000000\n",
            "163/163 [==============================] - 0s 2ms/step - loss: 0.3979 - accuracy: 0.8135 - val_loss: 0.4022 - val_accuracy: 0.8062\n",
            "Epoch 19/1000000\n",
            "163/163 [==============================] - 0s 2ms/step - loss: 0.3972 - accuracy: 0.8141 - val_loss: 0.4015 - val_accuracy: 0.8062\n",
            "Epoch 20/1000000\n",
            "163/163 [==============================] - 0s 2ms/step - loss: 0.3971 - accuracy: 0.8130 - val_loss: 0.4015 - val_accuracy: 0.8062\n",
            "Epoch 21/1000000\n",
            "163/163 [==============================] - 0s 2ms/step - loss: 0.3967 - accuracy: 0.8141 - val_loss: 0.4007 - val_accuracy: 0.8069\n",
            "Epoch 22/1000000\n",
            "163/163 [==============================] - 0s 2ms/step - loss: 0.3961 - accuracy: 0.8139 - val_loss: 0.4002 - val_accuracy: 0.8077\n",
            "Epoch 23/1000000\n",
            "163/163 [==============================] - 0s 2ms/step - loss: 0.3956 - accuracy: 0.8139 - val_loss: 0.3995 - val_accuracy: 0.8077\n",
            "Epoch 24/1000000\n",
            "163/163 [==============================] - 0s 2ms/step - loss: 0.3951 - accuracy: 0.8147 - val_loss: 0.3998 - val_accuracy: 0.8108\n",
            "Epoch 25/1000000\n",
            "163/163 [==============================] - 0s 2ms/step - loss: 0.3948 - accuracy: 0.8149 - val_loss: 0.3991 - val_accuracy: 0.8069\n",
            "Epoch 26/1000000\n",
            "163/163 [==============================] - 0s 2ms/step - loss: 0.3942 - accuracy: 0.8145 - val_loss: 0.3986 - val_accuracy: 0.8077\n",
            "Epoch 27/1000000\n",
            "163/163 [==============================] - 0s 2ms/step - loss: 0.3939 - accuracy: 0.8153 - val_loss: 0.3981 - val_accuracy: 0.8100\n",
            "Epoch 28/1000000\n",
            "163/163 [==============================] - 0s 2ms/step - loss: 0.3933 - accuracy: 0.8151 - val_loss: 0.3981 - val_accuracy: 0.8138\n",
            "Epoch 29/1000000\n",
            "163/163 [==============================] - 0s 2ms/step - loss: 0.3927 - accuracy: 0.8164 - val_loss: 0.3971 - val_accuracy: 0.8115\n",
            "Epoch 30/1000000\n",
            "163/163 [==============================] - 0s 2ms/step - loss: 0.3923 - accuracy: 0.8164 - val_loss: 0.3963 - val_accuracy: 0.8123\n",
            "Epoch 31/1000000\n",
            "163/163 [==============================] - 0s 3ms/step - loss: 0.3918 - accuracy: 0.8178 - val_loss: 0.3956 - val_accuracy: 0.8115\n",
            "Epoch 32/1000000\n",
            "163/163 [==============================] - 0s 2ms/step - loss: 0.3911 - accuracy: 0.8176 - val_loss: 0.3952 - val_accuracy: 0.8138\n",
            "Epoch 33/1000000\n",
            "163/163 [==============================] - 0s 2ms/step - loss: 0.3908 - accuracy: 0.8182 - val_loss: 0.3947 - val_accuracy: 0.8138\n",
            "Epoch 34/1000000\n",
            "163/163 [==============================] - 0s 2ms/step - loss: 0.3902 - accuracy: 0.8185 - val_loss: 0.3937 - val_accuracy: 0.8146\n",
            "Epoch 35/1000000\n",
            "163/163 [==============================] - 0s 2ms/step - loss: 0.3897 - accuracy: 0.8203 - val_loss: 0.3931 - val_accuracy: 0.8123\n",
            "Epoch 36/1000000\n",
            "163/163 [==============================] - 0s 2ms/step - loss: 0.3893 - accuracy: 0.8203 - val_loss: 0.3933 - val_accuracy: 0.8154\n",
            "Epoch 37/1000000\n",
            "163/163 [==============================] - 0s 2ms/step - loss: 0.3887 - accuracy: 0.8211 - val_loss: 0.3924 - val_accuracy: 0.8162\n",
            "Epoch 38/1000000\n",
            "163/163 [==============================] - 0s 2ms/step - loss: 0.3881 - accuracy: 0.8201 - val_loss: 0.3909 - val_accuracy: 0.8154\n",
            "Epoch 39/1000000\n",
            "163/163 [==============================] - 0s 2ms/step - loss: 0.3877 - accuracy: 0.8205 - val_loss: 0.3904 - val_accuracy: 0.8162\n",
            "Epoch 40/1000000\n",
            "163/163 [==============================] - 0s 2ms/step - loss: 0.3870 - accuracy: 0.8195 - val_loss: 0.3892 - val_accuracy: 0.8162\n",
            "Epoch 41/1000000\n",
            "163/163 [==============================] - 0s 2ms/step - loss: 0.3863 - accuracy: 0.8199 - val_loss: 0.3884 - val_accuracy: 0.8162\n",
            "Epoch 42/1000000\n",
            "163/163 [==============================] - 0s 2ms/step - loss: 0.3858 - accuracy: 0.8207 - val_loss: 0.3879 - val_accuracy: 0.8169\n",
            "Epoch 43/1000000\n",
            "163/163 [==============================] - 0s 2ms/step - loss: 0.3851 - accuracy: 0.8205 - val_loss: 0.3872 - val_accuracy: 0.8162\n",
            "Epoch 44/1000000\n",
            "163/163 [==============================] - 0s 2ms/step - loss: 0.3844 - accuracy: 0.8207 - val_loss: 0.3862 - val_accuracy: 0.8200\n",
            "Epoch 45/1000000\n",
            "163/163 [==============================] - 0s 2ms/step - loss: 0.3836 - accuracy: 0.8209 - val_loss: 0.3862 - val_accuracy: 0.8192\n",
            "Epoch 46/1000000\n",
            "163/163 [==============================] - 0s 2ms/step - loss: 0.3830 - accuracy: 0.8216 - val_loss: 0.3849 - val_accuracy: 0.8215\n",
            "Epoch 47/1000000\n",
            "163/163 [==============================] - 0s 2ms/step - loss: 0.3822 - accuracy: 0.8214 - val_loss: 0.3839 - val_accuracy: 0.8215\n",
            "Epoch 48/1000000\n",
            "163/163 [==============================] - 0s 2ms/step - loss: 0.3817 - accuracy: 0.8234 - val_loss: 0.3829 - val_accuracy: 0.8231\n",
            "Epoch 49/1000000\n",
            "163/163 [==============================] - 0s 2ms/step - loss: 0.3810 - accuracy: 0.8236 - val_loss: 0.3818 - val_accuracy: 0.8200\n",
            "Epoch 50/1000000\n",
            "163/163 [==============================] - 0s 2ms/step - loss: 0.3803 - accuracy: 0.8243 - val_loss: 0.3806 - val_accuracy: 0.8215\n",
            "Epoch 51/1000000\n",
            "163/163 [==============================] - 0s 2ms/step - loss: 0.3793 - accuracy: 0.8241 - val_loss: 0.3796 - val_accuracy: 0.8215\n",
            "Epoch 52/1000000\n",
            "163/163 [==============================] - 0s 2ms/step - loss: 0.3785 - accuracy: 0.8239 - val_loss: 0.3789 - val_accuracy: 0.8215\n",
            "Epoch 53/1000000\n",
            "163/163 [==============================] - 0s 3ms/step - loss: 0.3772 - accuracy: 0.8266 - val_loss: 0.3781 - val_accuracy: 0.8254\n",
            "Epoch 54/1000000\n",
            "163/163 [==============================] - 0s 2ms/step - loss: 0.3767 - accuracy: 0.8268 - val_loss: 0.3770 - val_accuracy: 0.8269\n",
            "Epoch 55/1000000\n",
            "163/163 [==============================] - 0s 2ms/step - loss: 0.3755 - accuracy: 0.8264 - val_loss: 0.3753 - val_accuracy: 0.8292\n",
            "Epoch 56/1000000\n",
            "163/163 [==============================] - 0s 2ms/step - loss: 0.3745 - accuracy: 0.8284 - val_loss: 0.3741 - val_accuracy: 0.8292\n",
            "Epoch 57/1000000\n",
            "163/163 [==============================] - 0s 2ms/step - loss: 0.3735 - accuracy: 0.8280 - val_loss: 0.3725 - val_accuracy: 0.8300\n",
            "Epoch 58/1000000\n",
            "163/163 [==============================] - 0s 2ms/step - loss: 0.3720 - accuracy: 0.8291 - val_loss: 0.3713 - val_accuracy: 0.8300\n",
            "Epoch 59/1000000\n",
            "163/163 [==============================] - 0s 2ms/step - loss: 0.3707 - accuracy: 0.8305 - val_loss: 0.3696 - val_accuracy: 0.8377\n",
            "Epoch 60/1000000\n",
            "163/163 [==============================] - 0s 2ms/step - loss: 0.3694 - accuracy: 0.8312 - val_loss: 0.3673 - val_accuracy: 0.8354\n",
            "Epoch 61/1000000\n",
            "163/163 [==============================] - 0s 2ms/step - loss: 0.3679 - accuracy: 0.8324 - val_loss: 0.3652 - val_accuracy: 0.8385\n",
            "Epoch 62/1000000\n",
            "163/163 [==============================] - 0s 2ms/step - loss: 0.3660 - accuracy: 0.8341 - val_loss: 0.3626 - val_accuracy: 0.8392\n",
            "Epoch 63/1000000\n",
            "163/163 [==============================] - 0s 2ms/step - loss: 0.3645 - accuracy: 0.8353 - val_loss: 0.3605 - val_accuracy: 0.8408\n",
            "Epoch 64/1000000\n",
            "163/163 [==============================] - 0s 2ms/step - loss: 0.3627 - accuracy: 0.8353 - val_loss: 0.3587 - val_accuracy: 0.8408\n",
            "Epoch 65/1000000\n",
            "163/163 [==============================] - 0s 2ms/step - loss: 0.3608 - accuracy: 0.8363 - val_loss: 0.3564 - val_accuracy: 0.8477\n",
            "Epoch 66/1000000\n",
            "163/163 [==============================] - 0s 2ms/step - loss: 0.3590 - accuracy: 0.8374 - val_loss: 0.3533 - val_accuracy: 0.8485\n",
            "Epoch 67/1000000\n",
            "163/163 [==============================] - 0s 2ms/step - loss: 0.3574 - accuracy: 0.8380 - val_loss: 0.3514 - val_accuracy: 0.8469\n",
            "Epoch 68/1000000\n",
            "163/163 [==============================] - 0s 2ms/step - loss: 0.3551 - accuracy: 0.8405 - val_loss: 0.3497 - val_accuracy: 0.8462\n",
            "Epoch 69/1000000\n",
            "163/163 [==============================] - 0s 2ms/step - loss: 0.3533 - accuracy: 0.8420 - val_loss: 0.3472 - val_accuracy: 0.8462\n",
            "Epoch 70/1000000\n",
            "163/163 [==============================] - 0s 2ms/step - loss: 0.3511 - accuracy: 0.8422 - val_loss: 0.3443 - val_accuracy: 0.8485\n",
            "Epoch 71/1000000\n",
            "163/163 [==============================] - 0s 2ms/step - loss: 0.3490 - accuracy: 0.8441 - val_loss: 0.3420 - val_accuracy: 0.8492\n",
            "Epoch 72/1000000\n",
            "163/163 [==============================] - 0s 2ms/step - loss: 0.3467 - accuracy: 0.8468 - val_loss: 0.3390 - val_accuracy: 0.8485\n",
            "Epoch 73/1000000\n",
            "163/163 [==============================] - 0s 2ms/step - loss: 0.3446 - accuracy: 0.8488 - val_loss: 0.3362 - val_accuracy: 0.8492\n",
            "Epoch 74/1000000\n",
            "163/163 [==============================] - 0s 2ms/step - loss: 0.3420 - accuracy: 0.8499 - val_loss: 0.3344 - val_accuracy: 0.8492\n",
            "Epoch 75/1000000\n",
            "163/163 [==============================] - 0s 2ms/step - loss: 0.3401 - accuracy: 0.8518 - val_loss: 0.3327 - val_accuracy: 0.8562\n",
            "Epoch 76/1000000\n",
            "163/163 [==============================] - 0s 2ms/step - loss: 0.3381 - accuracy: 0.8526 - val_loss: 0.3301 - val_accuracy: 0.8592\n",
            "Epoch 77/1000000\n",
            "163/163 [==============================] - 0s 2ms/step - loss: 0.3366 - accuracy: 0.8547 - val_loss: 0.3275 - val_accuracy: 0.8592\n",
            "Epoch 78/1000000\n",
            "163/163 [==============================] - 0s 2ms/step - loss: 0.3349 - accuracy: 0.8536 - val_loss: 0.3267 - val_accuracy: 0.8608\n",
            "Epoch 79/1000000\n",
            "163/163 [==============================] - 0s 2ms/step - loss: 0.3332 - accuracy: 0.8551 - val_loss: 0.3240 - val_accuracy: 0.8654\n",
            "Epoch 80/1000000\n",
            "163/163 [==============================] - 0s 2ms/step - loss: 0.3315 - accuracy: 0.8555 - val_loss: 0.3226 - val_accuracy: 0.8600\n",
            "Epoch 81/1000000\n",
            "163/163 [==============================] - 0s 2ms/step - loss: 0.3303 - accuracy: 0.8553 - val_loss: 0.3204 - val_accuracy: 0.8662\n",
            "Epoch 82/1000000\n",
            "163/163 [==============================] - 0s 2ms/step - loss: 0.3287 - accuracy: 0.8576 - val_loss: 0.3192 - val_accuracy: 0.8669\n",
            "Epoch 83/1000000\n",
            "163/163 [==============================] - 0s 2ms/step - loss: 0.3276 - accuracy: 0.8580 - val_loss: 0.3172 - val_accuracy: 0.8677\n",
            "Epoch 84/1000000\n",
            "163/163 [==============================] - 0s 2ms/step - loss: 0.3267 - accuracy: 0.8586 - val_loss: 0.3163 - val_accuracy: 0.8692\n",
            "Epoch 85/1000000\n",
            "163/163 [==============================] - 0s 2ms/step - loss: 0.3252 - accuracy: 0.8588 - val_loss: 0.3174 - val_accuracy: 0.8692\n",
            "Epoch 86/1000000\n",
            "163/163 [==============================] - 0s 2ms/step - loss: 0.3244 - accuracy: 0.8605 - val_loss: 0.3154 - val_accuracy: 0.8708\n",
            "Epoch 87/1000000\n",
            "163/163 [==============================] - 0s 2ms/step - loss: 0.3231 - accuracy: 0.8640 - val_loss: 0.3139 - val_accuracy: 0.8700\n",
            "Epoch 88/1000000\n",
            "163/163 [==============================] - 0s 2ms/step - loss: 0.3217 - accuracy: 0.8624 - val_loss: 0.3128 - val_accuracy: 0.8715\n",
            "Epoch 89/1000000\n",
            "163/163 [==============================] - 0s 2ms/step - loss: 0.3212 - accuracy: 0.8615 - val_loss: 0.3115 - val_accuracy: 0.8738\n",
            "Epoch 90/1000000\n",
            "163/163 [==============================] - 0s 2ms/step - loss: 0.3206 - accuracy: 0.8626 - val_loss: 0.3118 - val_accuracy: 0.8746\n",
            "Epoch 91/1000000\n",
            "163/163 [==============================] - 0s 2ms/step - loss: 0.3199 - accuracy: 0.8653 - val_loss: 0.3103 - val_accuracy: 0.8746\n",
            "Epoch 92/1000000\n",
            "163/163 [==============================] - 0s 2ms/step - loss: 0.3191 - accuracy: 0.8642 - val_loss: 0.3104 - val_accuracy: 0.8738\n",
            "Epoch 93/1000000\n",
            "163/163 [==============================] - 0s 2ms/step - loss: 0.3186 - accuracy: 0.8653 - val_loss: 0.3114 - val_accuracy: 0.8723\n",
            "Epoch 94/1000000\n",
            "163/163 [==============================] - 0s 2ms/step - loss: 0.3185 - accuracy: 0.8645 - val_loss: 0.3090 - val_accuracy: 0.8762\n",
            "Epoch 95/1000000\n",
            "163/163 [==============================] - 0s 2ms/step - loss: 0.3180 - accuracy: 0.8657 - val_loss: 0.3077 - val_accuracy: 0.8769\n",
            "Epoch 96/1000000\n",
            "163/163 [==============================] - 0s 2ms/step - loss: 0.3170 - accuracy: 0.8668 - val_loss: 0.3086 - val_accuracy: 0.8808\n",
            "Epoch 97/1000000\n",
            "163/163 [==============================] - 0s 2ms/step - loss: 0.3172 - accuracy: 0.8659 - val_loss: 0.3077 - val_accuracy: 0.8800\n",
            "Epoch 98/1000000\n",
            "163/163 [==============================] - 0s 2ms/step - loss: 0.3163 - accuracy: 0.8676 - val_loss: 0.3060 - val_accuracy: 0.8723\n",
            "Epoch 99/1000000\n",
            "163/163 [==============================] - 0s 2ms/step - loss: 0.3163 - accuracy: 0.8682 - val_loss: 0.3069 - val_accuracy: 0.8815\n",
            "Epoch 100/1000000\n",
            "163/163 [==============================] - 0s 2ms/step - loss: 0.3162 - accuracy: 0.8692 - val_loss: 0.3056 - val_accuracy: 0.8792\n",
            "Epoch 101/1000000\n",
            "163/163 [==============================] - 0s 2ms/step - loss: 0.3157 - accuracy: 0.8680 - val_loss: 0.3054 - val_accuracy: 0.8746\n",
            "Epoch 102/1000000\n",
            "163/163 [==============================] - 0s 2ms/step - loss: 0.3158 - accuracy: 0.8688 - val_loss: 0.3050 - val_accuracy: 0.8777\n",
            "Epoch 103/1000000\n",
            "163/163 [==============================] - 0s 2ms/step - loss: 0.3154 - accuracy: 0.8672 - val_loss: 0.3047 - val_accuracy: 0.8785\n",
            "Epoch 104/1000000\n",
            "163/163 [==============================] - 0s 2ms/step - loss: 0.3152 - accuracy: 0.8682 - val_loss: 0.3039 - val_accuracy: 0.8769\n",
            "Epoch 105/1000000\n",
            "163/163 [==============================] - 0s 2ms/step - loss: 0.3148 - accuracy: 0.8705 - val_loss: 0.3043 - val_accuracy: 0.8769\n",
            "Epoch 106/1000000\n",
            "163/163 [==============================] - 0s 2ms/step - loss: 0.3146 - accuracy: 0.8688 - val_loss: 0.3041 - val_accuracy: 0.8777\n",
            "Epoch 107/1000000\n",
            "163/163 [==============================] - 0s 2ms/step - loss: 0.3149 - accuracy: 0.8695 - val_loss: 0.3037 - val_accuracy: 0.8762\n",
            "Epoch 108/1000000\n",
            "163/163 [==============================] - 0s 2ms/step - loss: 0.3143 - accuracy: 0.8690 - val_loss: 0.3044 - val_accuracy: 0.8785\n",
            "Epoch 109/1000000\n",
            "163/163 [==============================] - 0s 2ms/step - loss: 0.3137 - accuracy: 0.8711 - val_loss: 0.3048 - val_accuracy: 0.8792\n",
            "Epoch 110/1000000\n",
            "163/163 [==============================] - 0s 2ms/step - loss: 0.3142 - accuracy: 0.8684 - val_loss: 0.3053 - val_accuracy: 0.8785\n",
            "Epoch 111/1000000\n",
            "163/163 [==============================] - 0s 2ms/step - loss: 0.3131 - accuracy: 0.8703 - val_loss: 0.3049 - val_accuracy: 0.8715\n",
            "Epoch 112/1000000\n",
            "163/163 [==============================] - 0s 2ms/step - loss: 0.3142 - accuracy: 0.8711 - val_loss: 0.3050 - val_accuracy: 0.8769\n",
            "Epoch 113/1000000\n",
            "163/163 [==============================] - 0s 2ms/step - loss: 0.3136 - accuracy: 0.8693 - val_loss: 0.3035 - val_accuracy: 0.8800\n",
            "Epoch 114/1000000\n",
            "163/163 [==============================] - 0s 2ms/step - loss: 0.3134 - accuracy: 0.8692 - val_loss: 0.3043 - val_accuracy: 0.8800\n",
            "Epoch 115/1000000\n",
            "163/163 [==============================] - 0s 2ms/step - loss: 0.3133 - accuracy: 0.8699 - val_loss: 0.3052 - val_accuracy: 0.8754\n",
            "Epoch 116/1000000\n",
            "163/163 [==============================] - 0s 2ms/step - loss: 0.3131 - accuracy: 0.8684 - val_loss: 0.3029 - val_accuracy: 0.8746\n",
            "Epoch 117/1000000\n",
            "163/163 [==============================] - 0s 2ms/step - loss: 0.3130 - accuracy: 0.8695 - val_loss: 0.3047 - val_accuracy: 0.8738\n",
            "Epoch 118/1000000\n",
            "163/163 [==============================] - 0s 2ms/step - loss: 0.3132 - accuracy: 0.8684 - val_loss: 0.3031 - val_accuracy: 0.8823\n",
            "Epoch 119/1000000\n",
            "163/163 [==============================] - 0s 2ms/step - loss: 0.3126 - accuracy: 0.8678 - val_loss: 0.3036 - val_accuracy: 0.8769\n",
            "Epoch 120/1000000\n",
            "163/163 [==============================] - 0s 2ms/step - loss: 0.3128 - accuracy: 0.8684 - val_loss: 0.3064 - val_accuracy: 0.8746\n",
            "Epoch 121/1000000\n",
            "163/163 [==============================] - 0s 2ms/step - loss: 0.3129 - accuracy: 0.8699 - val_loss: 0.3052 - val_accuracy: 0.8731\n",
            "Epoch 122/1000000\n",
            "163/163 [==============================] - 0s 2ms/step - loss: 0.3123 - accuracy: 0.8692 - val_loss: 0.3031 - val_accuracy: 0.8738\n",
            "Epoch 123/1000000\n",
            "163/163 [==============================] - 0s 2ms/step - loss: 0.3126 - accuracy: 0.8680 - val_loss: 0.3025 - val_accuracy: 0.8769\n",
            "Epoch 124/1000000\n",
            "163/163 [==============================] - 0s 2ms/step - loss: 0.3121 - accuracy: 0.8705 - val_loss: 0.3028 - val_accuracy: 0.8792\n",
            "Epoch 125/1000000\n",
            "163/163 [==============================] - 0s 2ms/step - loss: 0.3126 - accuracy: 0.8688 - val_loss: 0.3027 - val_accuracy: 0.8746\n",
            "Epoch 126/1000000\n",
            "163/163 [==============================] - 0s 2ms/step - loss: 0.3119 - accuracy: 0.8695 - val_loss: 0.3059 - val_accuracy: 0.8746\n",
            "Epoch 127/1000000\n",
            "163/163 [==============================] - 0s 2ms/step - loss: 0.3117 - accuracy: 0.8688 - val_loss: 0.3040 - val_accuracy: 0.8723\n",
            "Epoch 128/1000000\n",
            "163/163 [==============================] - 0s 2ms/step - loss: 0.3125 - accuracy: 0.8699 - val_loss: 0.3040 - val_accuracy: 0.8723\n",
            "Epoch 129/1000000\n",
            "163/163 [==============================] - 0s 2ms/step - loss: 0.3122 - accuracy: 0.8684 - val_loss: 0.3031 - val_accuracy: 0.8723\n",
            "Epoch 130/1000000\n",
            "163/163 [==============================] - 0s 2ms/step - loss: 0.3120 - accuracy: 0.8682 - val_loss: 0.3039 - val_accuracy: 0.8762\n",
            "Epoch 131/1000000\n",
            "163/163 [==============================] - 0s 2ms/step - loss: 0.3125 - accuracy: 0.8688 - val_loss: 0.3044 - val_accuracy: 0.8723\n",
            "Epoch 132/1000000\n",
            "163/163 [==============================] - 0s 2ms/step - loss: 0.3121 - accuracy: 0.8688 - val_loss: 0.3035 - val_accuracy: 0.8754\n",
            "Epoch 133/1000000\n",
            "163/163 [==============================] - 0s 2ms/step - loss: 0.3121 - accuracy: 0.8686 - val_loss: 0.3019 - val_accuracy: 0.8746\n",
            "Epoch 134/1000000\n",
            "163/163 [==============================] - 0s 2ms/step - loss: 0.3117 - accuracy: 0.8690 - val_loss: 0.3020 - val_accuracy: 0.8746\n",
            "Epoch 135/1000000\n",
            "163/163 [==============================] - 0s 2ms/step - loss: 0.3114 - accuracy: 0.8688 - val_loss: 0.3019 - val_accuracy: 0.8723\n",
            "Epoch 136/1000000\n",
            "163/163 [==============================] - 0s 2ms/step - loss: 0.3116 - accuracy: 0.8674 - val_loss: 0.3021 - val_accuracy: 0.8738\n",
            "Epoch 137/1000000\n",
            "163/163 [==============================] - 0s 2ms/step - loss: 0.3120 - accuracy: 0.8684 - val_loss: 0.3020 - val_accuracy: 0.8715\n",
            "Epoch 138/1000000\n",
            "163/163 [==============================] - 0s 2ms/step - loss: 0.3120 - accuracy: 0.8682 - val_loss: 0.3017 - val_accuracy: 0.8700\n",
            "Epoch 139/1000000\n",
            "163/163 [==============================] - 0s 2ms/step - loss: 0.3119 - accuracy: 0.8684 - val_loss: 0.3010 - val_accuracy: 0.8762\n",
            "Epoch 140/1000000\n",
            "163/163 [==============================] - 0s 2ms/step - loss: 0.3114 - accuracy: 0.8697 - val_loss: 0.3021 - val_accuracy: 0.8708\n",
            "Epoch 141/1000000\n",
            "163/163 [==============================] - 0s 2ms/step - loss: 0.3112 - accuracy: 0.8699 - val_loss: 0.3020 - val_accuracy: 0.8800\n",
            "Epoch 142/1000000\n",
            "163/163 [==============================] - 0s 2ms/step - loss: 0.3114 - accuracy: 0.8693 - val_loss: 0.3025 - val_accuracy: 0.8731\n",
            "Epoch 143/1000000\n",
            "163/163 [==============================] - 0s 2ms/step - loss: 0.3108 - accuracy: 0.8680 - val_loss: 0.3029 - val_accuracy: 0.8715\n",
            "Epoch 144/1000000\n",
            "163/163 [==============================] - 0s 2ms/step - loss: 0.3113 - accuracy: 0.8667 - val_loss: 0.3016 - val_accuracy: 0.8715\n",
            "Epoch 145/1000000\n",
            "163/163 [==============================] - 0s 2ms/step - loss: 0.3112 - accuracy: 0.8697 - val_loss: 0.3026 - val_accuracy: 0.8700\n",
            "Epoch 146/1000000\n",
            "163/163 [==============================] - 0s 2ms/step - loss: 0.3111 - accuracy: 0.8686 - val_loss: 0.3027 - val_accuracy: 0.8715\n",
            "Epoch 147/1000000\n",
            "163/163 [==============================] - 0s 2ms/step - loss: 0.3112 - accuracy: 0.8678 - val_loss: 0.3019 - val_accuracy: 0.8769\n",
            "Epoch 148/1000000\n",
            "163/163 [==============================] - 0s 2ms/step - loss: 0.3115 - accuracy: 0.8690 - val_loss: 0.3018 - val_accuracy: 0.8731\n",
            "Epoch 149/1000000\n",
            "163/163 [==============================] - 0s 2ms/step - loss: 0.3109 - accuracy: 0.8684 - val_loss: 0.3012 - val_accuracy: 0.8769\n",
            "Epoch 150/1000000\n",
            "163/163 [==============================] - 0s 2ms/step - loss: 0.3111 - accuracy: 0.8693 - val_loss: 0.3017 - val_accuracy: 0.8708\n",
            "Epoch 151/1000000\n",
            "163/163 [==============================] - 0s 2ms/step - loss: 0.3111 - accuracy: 0.8701 - val_loss: 0.3028 - val_accuracy: 0.8738\n",
            "Epoch 152/1000000\n",
            "163/163 [==============================] - 0s 2ms/step - loss: 0.3112 - accuracy: 0.8686 - val_loss: 0.3025 - val_accuracy: 0.8723\n",
            "Epoch 153/1000000\n",
            "163/163 [==============================] - 0s 2ms/step - loss: 0.3112 - accuracy: 0.8667 - val_loss: 0.3033 - val_accuracy: 0.8738\n",
            "Epoch 154/1000000\n",
            "163/163 [==============================] - 0s 2ms/step - loss: 0.3113 - accuracy: 0.8672 - val_loss: 0.3013 - val_accuracy: 0.8746\n",
            "Epoch 155/1000000\n",
            "163/163 [==============================] - 0s 2ms/step - loss: 0.3110 - accuracy: 0.8686 - val_loss: 0.3030 - val_accuracy: 0.8723\n",
            "Epoch 156/1000000\n",
            "163/163 [==============================] - 0s 2ms/step - loss: 0.3107 - accuracy: 0.8678 - val_loss: 0.3016 - val_accuracy: 0.8754\n",
            "Epoch 157/1000000\n",
            "163/163 [==============================] - 0s 2ms/step - loss: 0.3106 - accuracy: 0.8676 - val_loss: 0.3016 - val_accuracy: 0.8723\n",
            "Epoch 158/1000000\n",
            "163/163 [==============================] - 0s 2ms/step - loss: 0.3105 - accuracy: 0.8695 - val_loss: 0.3022 - val_accuracy: 0.8723\n",
            "Epoch 159/1000000\n",
            "163/163 [==============================] - 0s 2ms/step - loss: 0.3105 - accuracy: 0.8684 - val_loss: 0.3068 - val_accuracy: 0.8731\n",
            "Epoch 160/1000000\n",
            "163/163 [==============================] - 0s 2ms/step - loss: 0.3105 - accuracy: 0.8674 - val_loss: 0.3018 - val_accuracy: 0.8708\n",
            "Epoch 161/1000000\n",
            "163/163 [==============================] - 0s 2ms/step - loss: 0.3107 - accuracy: 0.8688 - val_loss: 0.3029 - val_accuracy: 0.8731\n",
            "Epoch 162/1000000\n",
            "163/163 [==============================] - 0s 2ms/step - loss: 0.3107 - accuracy: 0.8692 - val_loss: 0.3014 - val_accuracy: 0.8777\n",
            "Epoch 163/1000000\n",
            "163/163 [==============================] - 0s 2ms/step - loss: 0.3105 - accuracy: 0.8670 - val_loss: 0.3014 - val_accuracy: 0.8708\n",
            "Epoch 164/1000000\n",
            "163/163 [==============================] - 0s 2ms/step - loss: 0.3102 - accuracy: 0.8699 - val_loss: 0.3016 - val_accuracy: 0.8769\n",
            "Epoch 165/1000000\n",
            "163/163 [==============================] - 0s 2ms/step - loss: 0.3106 - accuracy: 0.8686 - val_loss: 0.3034 - val_accuracy: 0.8738\n",
            "Epoch 166/1000000\n",
            "163/163 [==============================] - 0s 2ms/step - loss: 0.3105 - accuracy: 0.8657 - val_loss: 0.3025 - val_accuracy: 0.8738\n",
            "Epoch 167/1000000\n",
            "163/163 [==============================] - 0s 2ms/step - loss: 0.3103 - accuracy: 0.8695 - val_loss: 0.3012 - val_accuracy: 0.8731\n",
            "Epoch 168/1000000\n",
            "163/163 [==============================] - 0s 2ms/step - loss: 0.3108 - accuracy: 0.8693 - val_loss: 0.3022 - val_accuracy: 0.8746\n",
            "Epoch 169/1000000\n",
            "163/163 [==============================] - 0s 2ms/step - loss: 0.3103 - accuracy: 0.8676 - val_loss: 0.3031 - val_accuracy: 0.8700\n"
          ]
        }
      ]
    },
    {
      "cell_type": "code",
      "source": [
        "model.evaluate(test_scaled, test_target)"
      ],
      "metadata": {
        "colab": {
          "base_uri": "https://localhost:8080/"
        },
        "id": "UJGzeMvleTwf",
        "outputId": "6ee06b67-cf13-4e85-9fd3-fd23706d34cf"
      },
      "execution_count": 120,
      "outputs": [
        {
          "output_type": "stream",
          "name": "stdout",
          "text": [
            "41/41 [==============================] - 0s 2ms/step - loss: 0.3010 - accuracy: 0.8762\n"
          ]
        },
        {
          "output_type": "execute_result",
          "data": {
            "text/plain": [
              "[0.3009549081325531, 0.876153826713562]"
            ]
          },
          "metadata": {},
          "execution_count": 120
        }
      ]
    },
    {
      "cell_type": "code",
      "source": [
        "plt.plot(hist.history['loss'])\n",
        "plt.plot(hist.history['val_loss'])"
      ],
      "metadata": {
        "colab": {
          "base_uri": "https://localhost:8080/",
          "height": 283
        },
        "id": "iaOA1E_ietxH",
        "outputId": "c67ac463-e73c-4daa-9135-4e6bc62fa4d4"
      },
      "execution_count": 123,
      "outputs": [
        {
          "output_type": "execute_result",
          "data": {
            "text/plain": [
              "[<matplotlib.lines.Line2D at 0x7f1cfa271a10>]"
            ]
          },
          "metadata": {},
          "execution_count": 123
        },
        {
          "output_type": "display_data",
          "data": {
            "text/plain": [
              "<Figure size 432x288 with 1 Axes>"
            ],
            "image/png": "[encoded data removed]"
          },
          "metadata": {
            "needs_background": "light"
          }
        }
      ]
    },
    {
      "cell_type": "code",
      "source": [
        "(train_input, train_target), (test_input, test_target) = keras.datasets.fashion_mnist.load_data()"
      ],
      "metadata": {
        "colab": {
          "base_uri": "https://localhost:8080/"
        },
        "id": "jG101REBhGBa",
        "outputId": "c365a75a-7d3e-42eb-e7f7-d702cd157cbe"
      },
      "execution_count": 124,
      "outputs": [
        {
          "output_type": "stream",
          "name": "stdout",
          "text": [
            "Downloading data from https://storage.googleapis.com/tensorflow/tf-keras-datasets/train-labels-idx1-ubyte.gz\n",
            "32768/29515 [=================================] - 0s 0us/step\n",
            "40960/29515 [=========================================] - 0s 0us/step\n",
            "Downloading data from https://storage.googleapis.com/tensorflow/tf-keras-datasets/train-images-idx3-ubyte.gz\n",
            "26427392/26421880 [==============================] - 0s 0us/step\n",
            "26435584/26421880 [==============================] - 0s 0us/step\n",
            "Downloading data from https://storage.googleapis.com/tensorflow/tf-keras-datasets/t10k-labels-idx1-ubyte.gz\n",
            "16384/5148 [===============================================================================================] - 0s 0us/step\n",
            "Downloading data from https://storage.googleapis.com/tensorflow/tf-keras-datasets/t10k-images-idx3-ubyte.gz\n",
            "4423680/4422102 [==============================] - 0s 0us/step\n",
            "4431872/4422102 [==============================] - 0s 0us/step\n"
          ]
        }
      ]
    },
    {
      "cell_type": "code",
      "source": [
        "# 이미지를 위한 딥러닝\n",
        "# 은닉층이 있는 인공신경망 = 딥러닝\n",
        "\n",
        "test_input.shape"
      ],
      "metadata": {
        "colab": {
          "base_uri": "https://localhost:8080/"
        },
        "id": "U3IA-EZxn0Zg",
        "outputId": "eb1a5f13-0e7f-42db-8a0b-b5bbda61a1d1"
      },
      "execution_count": 126,
      "outputs": [
        {
          "output_type": "execute_result",
          "data": {
            "text/plain": [
              "(10000, 28, 28)"
            ]
          },
          "metadata": {},
          "execution_count": 126
        }
      ]
    },
    {
      "cell_type": "code",
      "source": [
        "# 0에 가까울수록 검은색, 255에 가까울수록 흰색\n",
        "\n",
        "plt.imshow(train_input[0], cmap='gray_r')"
      ],
      "metadata": {
        "colab": {
          "base_uri": "https://localhost:8080/",
          "height": 283
        },
        "id": "g6v5JbJMoIpz",
        "outputId": "8d8ab51c-5b2c-4af5-9c05-5b8e4cf8f044"
      },
      "execution_count": 129,
      "outputs": [
        {
          "output_type": "execute_result",
          "data": {
            "text/plain": [
              "<matplotlib.image.AxesImage at 0x7f1cfa1cb850>"
            ]
          },
          "metadata": {},
          "execution_count": 129
        },
        {
          "output_type": "display_data",
          "data": {
            "text/plain": [
              "<Figure size 432x288 with 1 Axes>"
            ],
            "image/png": "[encoded data removed]"
          },
          "metadata": {
            "needs_background": "light"
          }
        }
      ]
    },
    {
      "cell_type": "code",
      "source": [
        "train_scaled = train_input.reshape(-1, 784) / 255\n",
        "test_scaled = test_input.reshape(-1, 784) / 255"
      ],
      "metadata": {
        "id": "wJ8ytuG-oXMu"
      },
      "execution_count": 131,
      "outputs": []
    },
    {
      "cell_type": "code",
      "source": [
        "np.unique(train_target, return_counts = True)"
      ],
      "metadata": {
        "colab": {
          "base_uri": "https://localhost:8080/"
        },
        "id": "e3PFIC5upIKT",
        "outputId": "8865a1b0-0536-4b75-cd68-4cc17270e238"
      },
      "execution_count": 132,
      "outputs": [
        {
          "output_type": "execute_result",
          "data": {
            "text/plain": [
              "(array([0, 1, 2, 3, 4, 5, 6, 7, 8, 9], dtype=uint8),\n",
              " array([6000, 6000, 6000, 6000, 6000, 6000, 6000, 6000, 6000, 6000]))"
            ]
          },
          "metadata": {},
          "execution_count": 132
        }
      ]
    },
    {
      "cell_type": "code",
      "source": [
        "# 훈련데이터, 검증데이터, 시험데이터\n",
        "\n",
        "(train_input, train_target), (test_input, test_target) = keras.datasets.fashion_mnist.load_data()\n",
        "\n",
        "train_scaled = train_input.reshape(-1, 784) / 255\n",
        "test_scaled = test_input.reshape(-1, 784) / 255\n",
        "\n",
        "train_scaled, val_scaled, train_target, val_target = train_test_split(train_scaled, train_target, test_size = 0.2)\n",
        "\n",
        "# 이미지를 위한 딥러닝\n",
        "model = keras.Sequential()\n",
        "model.add(keras.layers.Dense(128, activation = 'relu', input_shape = (784,)))\n",
        "model.add(keras.layers.Dense(10, activation = 'softmax'))\n",
        "\n",
        "model.compile(loss='sparse_categorical_crossentropy', metrics = 'accuracy')\n",
        "\n",
        "hist = model.fit(train_scaled, train_target, epochs = 30, validation_data=(val_scaled, val_target))"
      ],
      "metadata": {
        "colab": {
          "base_uri": "https://localhost:8080/"
        },
        "id": "gXO_jv5bpgSV",
        "outputId": "a53fece9-dcd9-4c32-d87c-d4046f64d92e"
      },
      "execution_count": 134,
      "outputs": [
        {
          "output_type": "stream",
          "name": "stdout",
          "text": [
            "Epoch 1/30\n",
            "1200/1200 [==============================] - 6s 4ms/step - loss: 0.5569 - accuracy: 0.8056 - val_loss: 0.4852 - val_accuracy: 0.8210\n",
            "Epoch 2/30\n",
            "1200/1200 [==============================] - 4s 4ms/step - loss: 0.4078 - accuracy: 0.8553 - val_loss: 0.3746 - val_accuracy: 0.8639\n",
            "Epoch 3/30\n",
            "1200/1200 [==============================] - 4s 4ms/step - loss: 0.3617 - accuracy: 0.8698 - val_loss: 0.3626 - val_accuracy: 0.8707\n",
            "Epoch 4/30\n",
            "1200/1200 [==============================] - 5s 4ms/step - loss: 0.3392 - accuracy: 0.8779 - val_loss: 0.3586 - val_accuracy: 0.8697\n",
            "Epoch 5/30\n",
            "1200/1200 [==============================] - 4s 4ms/step - loss: 0.3213 - accuracy: 0.8865 - val_loss: 0.4096 - val_accuracy: 0.8675\n",
            "Epoch 6/30\n",
            "1200/1200 [==============================] - 4s 3ms/step - loss: 0.3099 - accuracy: 0.8895 - val_loss: 0.3383 - val_accuracy: 0.8832\n",
            "Epoch 7/30\n",
            "1200/1200 [==============================] - 4s 4ms/step - loss: 0.2957 - accuracy: 0.8962 - val_loss: 0.3895 - val_accuracy: 0.8696\n",
            "Epoch 8/30\n",
            "1200/1200 [==============================] - 4s 3ms/step - loss: 0.2873 - accuracy: 0.8990 - val_loss: 0.3347 - val_accuracy: 0.8843\n",
            "Epoch 9/30\n",
            "1200/1200 [==============================] - 4s 3ms/step - loss: 0.2748 - accuracy: 0.9022 - val_loss: 0.3680 - val_accuracy: 0.8767\n",
            "Epoch 10/30\n",
            "1200/1200 [==============================] - 4s 3ms/step - loss: 0.2707 - accuracy: 0.9042 - val_loss: 0.3451 - val_accuracy: 0.8895\n",
            "Epoch 11/30\n",
            "1200/1200 [==============================] - 4s 3ms/step - loss: 0.2647 - accuracy: 0.9063 - val_loss: 0.3518 - val_accuracy: 0.8870\n",
            "Epoch 12/30\n",
            "1200/1200 [==============================] - 4s 4ms/step - loss: 0.2578 - accuracy: 0.9087 - val_loss: 0.3626 - val_accuracy: 0.8904\n",
            "Epoch 13/30\n",
            "1200/1200 [==============================] - 4s 4ms/step - loss: 0.2528 - accuracy: 0.9123 - val_loss: 0.3908 - val_accuracy: 0.8816\n",
            "Epoch 14/30\n",
            "1200/1200 [==============================] - 4s 4ms/step - loss: 0.2455 - accuracy: 0.9157 - val_loss: 0.4277 - val_accuracy: 0.8706\n",
            "Epoch 15/30\n",
            "1200/1200 [==============================] - 5s 4ms/step - loss: 0.2422 - accuracy: 0.9153 - val_loss: 0.3623 - val_accuracy: 0.8846\n",
            "Epoch 16/30\n",
            "1200/1200 [==============================] - 4s 4ms/step - loss: 0.2392 - accuracy: 0.9178 - val_loss: 0.4008 - val_accuracy: 0.8823\n",
            "Epoch 17/30\n",
            "1200/1200 [==============================] - 4s 3ms/step - loss: 0.2307 - accuracy: 0.9200 - val_loss: 0.4363 - val_accuracy: 0.8765\n",
            "Epoch 18/30\n",
            "1200/1200 [==============================] - 4s 4ms/step - loss: 0.2292 - accuracy: 0.9214 - val_loss: 0.4461 - val_accuracy: 0.8761\n",
            "Epoch 19/30\n",
            "1200/1200 [==============================] - 5s 4ms/step - loss: 0.2232 - accuracy: 0.9228 - val_loss: 0.4271 - val_accuracy: 0.8785\n",
            "Epoch 20/30\n",
            "1200/1200 [==============================] - 5s 4ms/step - loss: 0.2187 - accuracy: 0.9246 - val_loss: 0.4227 - val_accuracy: 0.8854\n",
            "Epoch 21/30\n",
            "1200/1200 [==============================] - 6s 5ms/step - loss: 0.2152 - accuracy: 0.9245 - val_loss: 0.4075 - val_accuracy: 0.8810\n",
            "Epoch 22/30\n",
            "1200/1200 [==============================] - 5s 4ms/step - loss: 0.2093 - accuracy: 0.9282 - val_loss: 0.4336 - val_accuracy: 0.8804\n",
            "Epoch 23/30\n",
            "1200/1200 [==============================] - 6s 5ms/step - loss: 0.2047 - accuracy: 0.9299 - val_loss: 0.4546 - val_accuracy: 0.8829\n",
            "Epoch 24/30\n",
            "1200/1200 [==============================] - 6s 5ms/step - loss: 0.2047 - accuracy: 0.9302 - val_loss: 0.5109 - val_accuracy: 0.8770\n",
            "Epoch 25/30\n",
            "1200/1200 [==============================] - 8s 7ms/step - loss: 0.1962 - accuracy: 0.9322 - val_loss: 0.4507 - val_accuracy: 0.8864\n",
            "Epoch 26/30\n",
            "1200/1200 [==============================] - 5s 4ms/step - loss: 0.1944 - accuracy: 0.9332 - val_loss: 0.4863 - val_accuracy: 0.8839\n",
            "Epoch 27/30\n",
            "1200/1200 [==============================] - 9s 7ms/step - loss: 0.1936 - accuracy: 0.9348 - val_loss: 0.4772 - val_accuracy: 0.8818\n",
            "Epoch 28/30\n",
            "1200/1200 [==============================] - 9s 7ms/step - loss: 0.1863 - accuracy: 0.9363 - val_loss: 0.4557 - val_accuracy: 0.8891\n",
            "Epoch 29/30\n",
            "1200/1200 [==============================] - 6s 5ms/step - loss: 0.1826 - accuracy: 0.9376 - val_loss: 0.4670 - val_accuracy: 0.8863\n",
            "Epoch 30/30\n",
            "1200/1200 [==============================] - 5s 4ms/step - loss: 0.1828 - accuracy: 0.9378 - val_loss: 0.5048 - val_accuracy: 0.8845\n"
          ]
        }
      ]
    },
    {
      "cell_type": "code",
      "source": [
        "plt.plot(hist.history['loss'])\n",
        "plt.plot(hist.history['val_loss'])"
      ],
      "metadata": {
        "colab": {
          "base_uri": "https://localhost:8080/",
          "height": 283
        },
        "id": "97SfqkrrrRRq",
        "outputId": "4f751bda-b0ca-4090-f862-647b71a5160f"
      },
      "execution_count": 135,
      "outputs": [
        {
          "output_type": "execute_result",
          "data": {
            "text/plain": [
              "[<matplotlib.lines.Line2D at 0x7f1cf77266d0>]"
            ]
          },
          "metadata": {},
          "execution_count": 135
        },
        {
          "output_type": "display_data",
          "data": {
            "text/plain": [
              "<Figure size 432x288 with 1 Axes>"
            ],
            "image/png": "[encoded data removed]"
          },
          "metadata": {
            "needs_background": "light"
          }
        }
      ]
    },
    {
      "cell_type": "code",
      "source": [
        "(train_input, train_target), (test_input, test_target) = keras.datasets.fashion_mnist.load_data()\n",
        "\n",
        "train_scaled = train_input.reshape(-1, 28, 28, 1) / 255\n",
        "test_scaled = test_input.reshape(-1, 28, 28, 1) / 255\n",
        "\n",
        "train_scaled, val_scaled, train_target, val_target = train_test_split(train_scaled, train_target, test_size = 0.2)\n",
        "\n",
        "model = keras.Sequential()\n",
        "model.add(keras.layers.Conv2D(filters=32, kernel_size = (3,3), activation = 'relu', padding='same', input_shape = (28, 28, 1)))\n",
        "model.add(keras.layers.MaxPooling2D(2)) # 2배로 줄이겠다.\n",
        "\n",
        "model.add(keras.layers.Conv2D(filters=64, kernel_size = (3,3), activation = 'relu', padding='same'))\n",
        "model.add(keras.layers.MaxPooling2D(2)) # 2배로 줄이겠다.\n",
        "\n",
        "model.add(keras.layers.Flatten())\n",
        "model.add(keras.layers.Dense(100, activation = 'relu'))\n",
        "model.add(keras.layers.Dropout(0.2))\n",
        "model.add(keras.layers.Dense(10, activation = 'softmax'))\n",
        "\n",
        "es = keras.callbacks.EarlyStopping(patience=5, restore_best_weights=True)\n",
        "model.compile(loss='sparse_categorical_crossentropy', metrics = 'accuracy')\n",
        "\n",
        "hist = model.fit(train_scaled, train_target, epochs = 30, validation_data=(val_scaled, val_target),\n",
        "                 callbacks = [es])"
      ],
      "metadata": {
        "colab": {
          "base_uri": "https://localhost:8080/"
        },
        "id": "ILbQi7Kwr1fI",
        "outputId": "34530481-34e3-46ee-9a2b-4a722ddf9706"
      },
      "execution_count": 140,
      "outputs": [
        {
          "output_type": "stream",
          "name": "stdout",
          "text": [
            "Epoch 1/30\n",
            "1500/1500 [==============================] - 69s 46ms/step - loss: 0.4498 - accuracy: 0.8386 - val_loss: 0.3192 - val_accuracy: 0.8852\n",
            "Epoch 2/30\n",
            "1500/1500 [==============================] - 70s 47ms/step - loss: 0.2925 - accuracy: 0.8956 - val_loss: 0.2690 - val_accuracy: 0.9022\n",
            "Epoch 3/30\n",
            "1500/1500 [==============================] - 66s 44ms/step - loss: 0.2577 - accuracy: 0.9103 - val_loss: 0.2614 - val_accuracy: 0.9071\n",
            "Epoch 4/30\n",
            "1500/1500 [==============================] - 67s 44ms/step - loss: 0.2385 - accuracy: 0.9164 - val_loss: 0.2541 - val_accuracy: 0.9128\n",
            "Epoch 5/30\n",
            "1500/1500 [==============================] - 67s 45ms/step - loss: 0.2296 - accuracy: 0.9211 - val_loss: 0.2646 - val_accuracy: 0.9119\n",
            "Epoch 6/30\n",
            "1500/1500 [==============================] - 65s 43ms/step - loss: 0.2280 - accuracy: 0.9215 - val_loss: 0.2715 - val_accuracy: 0.9082\n",
            "Epoch 7/30\n",
            "1500/1500 [==============================] - 66s 44ms/step - loss: 0.2272 - accuracy: 0.9219 - val_loss: 0.2636 - val_accuracy: 0.9083\n",
            "Epoch 8/30\n",
            "1500/1500 [==============================] - 66s 44ms/step - loss: 0.2254 - accuracy: 0.9240 - val_loss: 0.2994 - val_accuracy: 0.9132\n",
            "Epoch 9/30\n",
            "1500/1500 [==============================] - 68s 45ms/step - loss: 0.2294 - accuracy: 0.9221 - val_loss: 0.2727 - val_accuracy: 0.9097\n"
          ]
        }
      ]
    },
    {
      "cell_type": "code",
      "source": [],
      "metadata": {
        "id": "gREnuG9ixZuo"
      },
      "execution_count": null,
      "outputs": []
    }
  ]
}